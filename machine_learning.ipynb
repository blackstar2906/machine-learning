{
  "nbformat": 4,
  "nbformat_minor": 0,
  "metadata": {
    "colab": {
      "name": "machine-learning.ipynb",
      "provenance": [],
      "collapsed_sections": [
        "UZbK1nVSOEVM",
        "VgsqsxVRQ99D",
        "bXwA2n49YQjc",
        "CYMazfElzHKo",
        "C5jByS1w7TV9"
      ]
    },
    "kernelspec": {
      "name": "python3",
      "display_name": "Python 3"
    },
    "accelerator": "GPU"
  },
  "cells": [
    {
      "cell_type": "markdown",
      "metadata": {
        "id": "fmWSi4YjNgs1"
      },
      "source": [
        "# Machine learning from scratch"
      ]
    },
    {
      "cell_type": "markdown",
      "metadata": {
        "id": "UZbK1nVSOEVM"
      },
      "source": [
        "# Google colab setup"
      ]
    },
    {
      "cell_type": "code",
      "metadata": {
        "id": "lk_M3yXZ4bbP",
        "colab": {
          "base_uri": "https://localhost:8080/"
        },
        "outputId": "feb65ed6-5cfa-4dd9-ee29-e544ba71f381"
      },
      "source": [
        "from google.colab import drive\n",
        "drive.mount('/content/drive/')"
      ],
      "execution_count": null,
      "outputs": [
        {
          "output_type": "stream",
          "text": [
            "Mounted at /content/drive/\n"
          ],
          "name": "stdout"
        }
      ]
    },
    {
      "cell_type": "code",
      "metadata": {
        "id": "NLZmRBzM4t9M"
      },
      "source": [
        "!ls \"/content/drive/My Drive/\"\n",
        "!pip install keras"
      ],
      "execution_count": null,
      "outputs": []
    },
    {
      "cell_type": "markdown",
      "metadata": {
        "id": "Bjz98ZJVN-Me"
      },
      "source": [
        "We can use the following built-in magic commands : \n",
        "\n",
        "*   `!wget [url] -P [depository]`  to download a file\n",
        "*   `!python3 [file]`   to run a file\n",
        "\n"
      ]
    },
    {
      "cell_type": "markdown",
      "metadata": {
        "id": "_zMrzNdbQZ38"
      },
      "source": [
        "faire une fonction pour automatiser le processsus\n",
        "\n",
        "```\n",
        "model.save('keras.h5')\n",
        "!pip install tensorflowjs \n",
        "!mkdir model\n",
        "!tensorflowjs_converter --input_format keras keras.h5 model/\n",
        "!zip -r model.zip model\n",
        "from google.colab import files\n",
        "files.download('model.zip')\n",
        "```\n",
        "\n"
      ]
    },
    {
      "cell_type": "markdown",
      "metadata": {
        "id": "imeUBskt-TKr"
      },
      "source": [
        "# First examples"
      ]
    },
    {
      "cell_type": "markdown",
      "metadata": {
        "id": "VgsqsxVRQ99D"
      },
      "source": [
        "## MNIST dataset"
      ]
    },
    {
      "cell_type": "markdown",
      "metadata": {
        "id": "TNrEHBcmzT5g"
      },
      "source": [
        "Choose a category for an image"
      ]
    },
    {
      "cell_type": "markdown",
      "metadata": {
        "id": "5yFUtvvnRrMK"
      },
      "source": [
        "Loading dataset"
      ]
    },
    {
      "cell_type": "code",
      "metadata": {
        "id": "mHR0Gg09Roqq"
      },
      "source": [
        "from keras.datasets import mnist\n",
        "(train_images, train_labels), (test_images, test_labels) = mnist.load_data()"
      ],
      "execution_count": null,
      "outputs": []
    },
    {
      "cell_type": "code",
      "metadata": {
        "id": "zNkPahD4SXU6",
        "colab": {
          "base_uri": "https://localhost:8080/"
        },
        "outputId": "e42cc71f-f9f3-4e6e-e669-5b464e28c3b3"
      },
      "source": [
        "train_images.shape"
      ],
      "execution_count": null,
      "outputs": [
        {
          "output_type": "execute_result",
          "data": {
            "text/plain": [
              "(60000, 28, 28)"
            ]
          },
          "metadata": {
            "tags": []
          },
          "execution_count": 14
        }
      ]
    },
    {
      "cell_type": "markdown",
      "metadata": {
        "id": "0ahOfp39S0yD"
      },
      "source": [
        "Build the network"
      ]
    },
    {
      "cell_type": "code",
      "metadata": {
        "id": "j5nGgWUvSnc6"
      },
      "source": [
        "from keras import models, layers\n",
        "\n",
        "network = models.Sequential()\n",
        "network.add(layers.Dense(512, activation='relu', input_shape=(28*28,)))\n",
        "network.add(layers.Dense(10, activation='softmax'))"
      ],
      "execution_count": null,
      "outputs": []
    },
    {
      "cell_type": "markdown",
      "metadata": {
        "id": "CZM_6XIcT5Ui"
      },
      "source": [
        "Compliation step\n"
      ]
    },
    {
      "cell_type": "code",
      "metadata": {
        "id": "dAcB7p4dTuGy"
      },
      "source": [
        "network.compile(optimizer='rmsprop', \n",
        "                loss='categorical_crossentropy', \n",
        "                metrics=['accuracy'])"
      ],
      "execution_count": null,
      "outputs": []
    },
    {
      "cell_type": "markdown",
      "metadata": {
        "id": "XaNo7ENSUVqa"
      },
      "source": [
        "Resize the data\n"
      ]
    },
    {
      "cell_type": "code",
      "metadata": {
        "id": "2lwIXQ3RUND7"
      },
      "source": [
        "train_images = train_images.reshape(60000, 28*28)\n",
        "train_images = train_images.astype('float32') / 255\n",
        "\n",
        "test_images = test_images.reshape(10000, 28*28)\n",
        "test_images = test_images.astype('float32') / 255"
      ],
      "execution_count": null,
      "outputs": []
    },
    {
      "cell_type": "markdown",
      "metadata": {
        "id": "xcURpnMBVTkL"
      },
      "source": [
        "Prepare labels"
      ]
    },
    {
      "cell_type": "code",
      "metadata": {
        "id": "xctVc5xUVOkZ"
      },
      "source": [
        "from keras.utils import to_categorical\n",
        "\n",
        "train_labels = to_categorical(train_labels)\n",
        "test_labels = to_categorical(test_labels)"
      ],
      "execution_count": null,
      "outputs": []
    },
    {
      "cell_type": "markdown",
      "metadata": {
        "id": "5EPRMsT2VpA6"
      },
      "source": [
        "Training the network"
      ]
    },
    {
      "cell_type": "code",
      "metadata": {
        "id": "0K--mbCLVl6z",
        "colab": {
          "base_uri": "https://localhost:8080/"
        },
        "outputId": "2fba6a51-f79a-4e69-b0e7-910b40fc12a3"
      },
      "source": [
        "network.fit(train_images, train_labels, epochs=5, batch_size=128)"
      ],
      "execution_count": null,
      "outputs": [
        {
          "output_type": "stream",
          "text": [
            "Epoch 1/5\n",
            "469/469 [==============================] - 1s 3ms/step - loss: 0.2583 - accuracy: 0.9250\n",
            "Epoch 2/5\n",
            "469/469 [==============================] - 1s 3ms/step - loss: 0.1033 - accuracy: 0.9693\n",
            "Epoch 3/5\n",
            "469/469 [==============================] - 1s 3ms/step - loss: 0.0680 - accuracy: 0.9796\n",
            "Epoch 4/5\n",
            "469/469 [==============================] - 1s 3ms/step - loss: 0.0499 - accuracy: 0.9849\n",
            "Epoch 5/5\n",
            "469/469 [==============================] - 1s 3ms/step - loss: 0.0373 - accuracy: 0.9891\n"
          ],
          "name": "stdout"
        },
        {
          "output_type": "execute_result",
          "data": {
            "text/plain": [
              "<tensorflow.python.keras.callbacks.History at 0x7fd644992fd0>"
            ]
          },
          "metadata": {
            "tags": []
          },
          "execution_count": 19
        }
      ]
    },
    {
      "cell_type": "markdown",
      "metadata": {
        "id": "xKcOeRh8WPHS"
      },
      "source": [
        "Testing our network"
      ]
    },
    {
      "cell_type": "code",
      "metadata": {
        "id": "46DqBwtsV3Zx",
        "colab": {
          "base_uri": "https://localhost:8080/"
        },
        "outputId": "8fc4d705-ff7f-4112-d4ed-21f12a614355"
      },
      "source": [
        "test_loss, test_acc = network.evaluate(test_images, test_labels)"
      ],
      "execution_count": null,
      "outputs": [
        {
          "output_type": "stream",
          "text": [
            "313/313 [==============================] - 1s 2ms/step - loss: 0.0671 - accuracy: 0.9800\n"
          ],
          "name": "stdout"
        }
      ]
    },
    {
      "cell_type": "code",
      "metadata": {
        "id": "eVOFp6vkWg-Q"
      },
      "source": [
        ""
      ],
      "execution_count": null,
      "outputs": []
    },
    {
      "cell_type": "markdown",
      "metadata": {
        "id": "bXwA2n49YQjc"
      },
      "source": [
        "## IMDB dataset\n"
      ]
    },
    {
      "cell_type": "markdown",
      "metadata": {
        "id": "-HtBvz7Kzg-H"
      },
      "source": [
        "Classify reviews in a binary category (positive or negative)"
      ]
    },
    {
      "cell_type": "markdown",
      "metadata": {
        "id": "iIZNNpyKf6qe"
      },
      "source": [
        "Load dataset\n"
      ]
    },
    {
      "cell_type": "code",
      "metadata": {
        "id": "apB3vC8aYVbo",
        "colab": {
          "base_uri": "https://localhost:8080/"
        },
        "outputId": "60aa8afb-a8d3-4c1d-ec72-c83496779178"
      },
      "source": [
        "from keras.datasets import imdb\n",
        "\n",
        "(train_data, train_labels), (test_data, test_labels) = imdb.load_data(num_words=10000)"
      ],
      "execution_count": null,
      "outputs": [
        {
          "output_type": "stream",
          "text": [
            "Downloading data from https://storage.googleapis.com/tensorflow/tf-keras-datasets/imdb.npz\n",
            "17465344/17464789 [==============================] - 0s 0us/step\n"
          ],
          "name": "stdout"
        }
      ]
    },
    {
      "cell_type": "markdown",
      "metadata": {
        "id": "bNMh7GLrgCHH"
      },
      "source": [
        "The data set is composed of most-used words in video reviews converted to indices of a dictionnary. The label one's is composed of binary answers, 0 for negative and 1 for positive."
      ]
    },
    {
      "cell_type": "code",
      "metadata": {
        "id": "L_64LnCAZBMD",
        "colab": {
          "base_uri": "https://localhost:8080/"
        },
        "outputId": "03ca6e98-4675-4e28-b242-7dd8fd6bf35f"
      },
      "source": [
        "train_data.shape"
      ],
      "execution_count": null,
      "outputs": [
        {
          "output_type": "execute_result",
          "data": {
            "text/plain": [
              "(25000,)"
            ]
          },
          "metadata": {
            "tags": []
          },
          "execution_count": 22
        }
      ]
    },
    {
      "cell_type": "code",
      "metadata": {
        "id": "RDOjmpPLfQkm",
        "colab": {
          "base_uri": "https://localhost:8080/"
        },
        "outputId": "f7848c8c-781d-4102-c1e5-fbb5790a6bde"
      },
      "source": [
        "max([max(sentence) for sentence in train_data])"
      ],
      "execution_count": null,
      "outputs": [
        {
          "output_type": "execute_result",
          "data": {
            "text/plain": [
              "9999"
            ]
          },
          "metadata": {
            "tags": []
          },
          "execution_count": 24
        }
      ]
    },
    {
      "cell_type": "markdown",
      "metadata": {
        "id": "JKzd9AYrjVDG"
      },
      "source": [
        "A methode that decode reviews"
      ]
    },
    {
      "cell_type": "code",
      "metadata": {
        "id": "GiAPCxtDiZXe"
      },
      "source": [
        "def decode_sentence(i):\n",
        "  dic = imdb.get_word_index()\n",
        "  reverse_dic = dict([(value, key) for (key, value) in dic.items()])\n",
        "  return ' '.join([reverse_dic.get(j-3, '?') for j in train_data[i]])"
      ],
      "execution_count": null,
      "outputs": []
    },
    {
      "cell_type": "code",
      "metadata": {
        "id": "cEDmOTXHjA8d",
        "colab": {
          "base_uri": "https://localhost:8080/",
          "height": 120
        },
        "outputId": "3db1af66-0aa4-4569-e1dc-d5631996a13c"
      },
      "source": [
        "decode_sentence(0)"
      ],
      "execution_count": null,
      "outputs": [
        {
          "output_type": "execute_result",
          "data": {
            "application/vnd.google.colaboratory.intrinsic+json": {
              "type": "string"
            },
            "text/plain": [
              "\"? this film was just brilliant casting location scenery story direction everyone's really suited the part they played and you could just imagine being there robert ? is an amazing actor and now the same being director ? father came from the same scottish island as myself so i loved the fact there was a real connection with this film the witty remarks throughout the film were great it was just brilliant so much that i bought the film as soon as it was released for ? and would recommend it to everyone to watch and the fly fishing was amazing really cried at the end it was so sad and you know what they say if you cry at a film it must have been good and this definitely was also ? to the two little boy's that played the ? of norman and paul they were just brilliant children are often left out of the ? list i think because the stars that play them all grown up are such a big profile for the whole film but these children are amazing and should be praised for what they have done don't you think the whole story was so lovely because it was true and was someone's life after all that was shared with us all\""
            ]
          },
          "metadata": {
            "tags": []
          },
          "execution_count": 37
        }
      ]
    },
    {
      "cell_type": "markdown",
      "metadata": {
        "id": "YDX9Wwj8lVJW"
      },
      "source": [
        "vectorize our data"
      ]
    },
    {
      "cell_type": "code",
      "metadata": {
        "id": "y_dGtkXHjDN9"
      },
      "source": [
        "import numpy as np\n",
        "\n",
        "def vectorize_sequences(sequences, dimension=10000):\n",
        "    results = np.zeros((len(sequences), dimension)) # (25000,1000)\n",
        "    for i, sequence in enumerate(sequences):\n",
        "        results[i, sequence] = 1.\n",
        "    return results"
      ],
      "execution_count": null,
      "outputs": []
    },
    {
      "cell_type": "code",
      "metadata": {
        "id": "6MZLC2p4pemV"
      },
      "source": [
        "x_train = vectorize_sequences(train_data)\n",
        "x_test = vectorize_sequences(test_data)\n",
        "\n",
        "y_train = np.asarray(train_labels).astype('float32')\n",
        "y_test = np.asarray(test_labels).astype('float32')"
      ],
      "execution_count": null,
      "outputs": []
    },
    {
      "cell_type": "markdown",
      "metadata": {
        "id": "K5B2lMGwqj_J"
      },
      "source": [
        "Build our network"
      ]
    },
    {
      "cell_type": "code",
      "metadata": {
        "id": "-s2tsxhvpqL7"
      },
      "source": [
        "from keras import models\n",
        "from keras import layers\n",
        "\n",
        "model = models.Sequential()\n",
        "model.add(layers.Dense(16, activation='relu', input_shape=(10000,)))\n",
        "model.add(layers.Dense(16, activation='relu'))\n",
        "model.add(layers.Dense(1, activation='sigmoid'))"
      ],
      "execution_count": null,
      "outputs": []
    },
    {
      "cell_type": "markdown",
      "metadata": {
        "id": "Ii3OJOFJrROy"
      },
      "source": [
        "Compile"
      ]
    },
    {
      "cell_type": "code",
      "metadata": {
        "id": "rmSPZtURqpPz"
      },
      "source": [
        "model.compile(optimizer='rmsprop',\n",
        "              loss='binary_crossentropy',\n",
        "              metrics=['accuracy'])"
      ],
      "execution_count": null,
      "outputs": []
    },
    {
      "cell_type": "markdown",
      "metadata": {
        "id": "nnCb-9kkrpsi"
      },
      "source": [
        "Create a validation set"
      ]
    },
    {
      "cell_type": "code",
      "metadata": {
        "id": "AaqcoDx9rPrT"
      },
      "source": [
        "x_val = x_train[:10000]\n",
        "partial_x_train = x_train[10000:]\n",
        "\n",
        "y_val = y_train[:10000]\n",
        "partial_y_train = y_train[10000:]"
      ],
      "execution_count": null,
      "outputs": []
    },
    {
      "cell_type": "markdown",
      "metadata": {
        "id": "hhAGA0zVr_06"
      },
      "source": [
        "Train our network"
      ]
    },
    {
      "cell_type": "code",
      "metadata": {
        "id": "NfJE-iMLrub6",
        "colab": {
          "base_uri": "https://localhost:8080/"
        },
        "outputId": "e7c5ac96-3e2a-4a98-d2f1-24d7229f6feb"
      },
      "source": [
        "history = model.fit(partial_x_train,\n",
        "                    partial_y_train,\n",
        "                    epochs=20,\n",
        "                    batch_size=512,\n",
        "                    validation_data=(x_val, y_val))"
      ],
      "execution_count": null,
      "outputs": [
        {
          "output_type": "stream",
          "text": [
            "Epoch 1/20\n",
            "30/30 [==============================] - 1s 29ms/step - loss: 0.5158 - accuracy: 0.7731 - val_loss: 0.3777 - val_accuracy: 0.8736\n",
            "Epoch 2/20\n",
            "30/30 [==============================] - 1s 19ms/step - loss: 0.3009 - accuracy: 0.9005 - val_loss: 0.3004 - val_accuracy: 0.8859\n",
            "Epoch 3/20\n",
            "30/30 [==============================] - 1s 19ms/step - loss: 0.2168 - accuracy: 0.9286 - val_loss: 0.2756 - val_accuracy: 0.8900\n",
            "Epoch 4/20\n",
            "30/30 [==============================] - 1s 18ms/step - loss: 0.1733 - accuracy: 0.9423 - val_loss: 0.2766 - val_accuracy: 0.8898\n",
            "Epoch 5/20\n",
            "30/30 [==============================] - 1s 18ms/step - loss: 0.1397 - accuracy: 0.9559 - val_loss: 0.2914 - val_accuracy: 0.8835\n",
            "Epoch 6/20\n",
            "30/30 [==============================] - 1s 18ms/step - loss: 0.1105 - accuracy: 0.9678 - val_loss: 0.2938 - val_accuracy: 0.8858\n",
            "Epoch 7/20\n",
            "30/30 [==============================] - 1s 19ms/step - loss: 0.0928 - accuracy: 0.9731 - val_loss: 0.3177 - val_accuracy: 0.8807\n",
            "Epoch 8/20\n",
            "30/30 [==============================] - 1s 18ms/step - loss: 0.0768 - accuracy: 0.9789 - val_loss: 0.3319 - val_accuracy: 0.8818\n",
            "Epoch 9/20\n",
            "30/30 [==============================] - 1s 19ms/step - loss: 0.0629 - accuracy: 0.9837 - val_loss: 0.3637 - val_accuracy: 0.8756\n",
            "Epoch 10/20\n",
            "30/30 [==============================] - 1s 19ms/step - loss: 0.0496 - accuracy: 0.9878 - val_loss: 0.3910 - val_accuracy: 0.8744\n",
            "Epoch 11/20\n",
            "30/30 [==============================] - 1s 18ms/step - loss: 0.0391 - accuracy: 0.9917 - val_loss: 0.4294 - val_accuracy: 0.8737\n",
            "Epoch 12/20\n",
            "30/30 [==============================] - 1s 19ms/step - loss: 0.0321 - accuracy: 0.9935 - val_loss: 0.4615 - val_accuracy: 0.8688\n",
            "Epoch 13/20\n",
            "30/30 [==============================] - 1s 18ms/step - loss: 0.0264 - accuracy: 0.9945 - val_loss: 0.4862 - val_accuracy: 0.8712\n",
            "Epoch 14/20\n",
            "30/30 [==============================] - 1s 19ms/step - loss: 0.0191 - accuracy: 0.9969 - val_loss: 0.5102 - val_accuracy: 0.8699\n",
            "Epoch 15/20\n",
            "30/30 [==============================] - 1s 18ms/step - loss: 0.0176 - accuracy: 0.9962 - val_loss: 0.5323 - val_accuracy: 0.8708\n",
            "Epoch 16/20\n",
            "30/30 [==============================] - 1s 18ms/step - loss: 0.0122 - accuracy: 0.9984 - val_loss: 0.5600 - val_accuracy: 0.8701\n",
            "Epoch 17/20\n",
            "30/30 [==============================] - 1s 19ms/step - loss: 0.0073 - accuracy: 0.9998 - val_loss: 0.6012 - val_accuracy: 0.8693\n",
            "Epoch 18/20\n",
            "30/30 [==============================] - 1s 19ms/step - loss: 0.0083 - accuracy: 0.9993 - val_loss: 0.6303 - val_accuracy: 0.8680\n",
            "Epoch 19/20\n",
            "30/30 [==============================] - 1s 19ms/step - loss: 0.0102 - accuracy: 0.9971 - val_loss: 0.6820 - val_accuracy: 0.8650\n",
            "Epoch 20/20\n",
            "30/30 [==============================] - 1s 18ms/step - loss: 0.0029 - accuracy: 0.9999 - val_loss: 0.6883 - val_accuracy: 0.8677\n"
          ],
          "name": "stdout"
        }
      ]
    },
    {
      "cell_type": "markdown",
      "metadata": {
        "id": "ZxBAGGp3tO6K"
      },
      "source": [
        "We get an history object"
      ]
    },
    {
      "cell_type": "code",
      "metadata": {
        "id": "_CUMzX6esFaa",
        "colab": {
          "base_uri": "https://localhost:8080/"
        },
        "outputId": "c0cc6d5d-9048-4151-98d9-39b067910746"
      },
      "source": [
        "history_dict = history.history\n",
        "history_dict.keys()"
      ],
      "execution_count": null,
      "outputs": [
        {
          "output_type": "execute_result",
          "data": {
            "text/plain": [
              "dict_keys(['loss', 'accuracy', 'val_loss', 'val_accuracy'])"
            ]
          },
          "metadata": {
            "tags": []
          },
          "execution_count": 50
        }
      ]
    },
    {
      "cell_type": "markdown",
      "metadata": {
        "id": "td_IRTvLtTGa"
      },
      "source": [
        "Plot that"
      ]
    },
    {
      "cell_type": "code",
      "metadata": {
        "id": "8uoyMgjrtRuq",
        "colab": {
          "base_uri": "https://localhost:8080/",
          "height": 295
        },
        "outputId": "6de3e9a9-01ef-4189-e807-21beb634638c"
      },
      "source": [
        "import matplotlib.pyplot as plt\n",
        "\n",
        "acc = history.history['accuracy']\n",
        "val_acc = history.history['val_accuracy']\n",
        "loss = history.history['loss']\n",
        "val_loss = history.history['val_loss']\n",
        "\n",
        "epochs = range(1, len(acc) + 1)\n",
        "\n",
        "plt.subplot(121)\n",
        "plt.plot(epochs, loss, 'bo', label='Training loss')\n",
        "plt.plot(epochs, val_loss, 'b', label='Validation loss')\n",
        "plt.title('Training and validation loss')\n",
        "plt.xlabel('Epochs')\n",
        "plt.ylabel('Loss')\n",
        "plt.legend()\n",
        "\n",
        "plt.subplot(122)\n",
        "acc_values = history_dict['accuracy']\n",
        "val_acc_values = history_dict['val_accuracy']\n",
        "\n",
        "plt.plot(epochs, acc, 'bo', label='Training acc')\n",
        "plt.plot(epochs, val_acc, 'b', label='Validation acc')\n",
        "plt.title('Training and validation accuracy')\n",
        "plt.xlabel('Epochs')\n",
        "plt.ylabel('Loss')\n",
        "plt.legend()\n",
        "\n",
        "plt.show()"
      ],
      "execution_count": null,
      "outputs": [
        {
          "output_type": "display_data",
          "data": {
            "image/png": "[encoded data removed]",
            "text/plain": [
              "<Figure size 432x288 with 2 Axes>"
            ]
          },
          "metadata": {
            "tags": [],
            "needs_background": "light"
          }
        }
      ]
    },
    {
      "cell_type": "markdown",
      "metadata": {
        "id": "uv6AIZ6pu3XK"
      },
      "source": [
        "Overfitting when there is more than 4 epochs, thus we rebuild the following\n"
      ]
    },
    {
      "cell_type": "code",
      "metadata": {
        "id": "SJhxygJnt0eh",
        "colab": {
          "base_uri": "https://localhost:8080/"
        },
        "outputId": "e821888d-480d-419b-fedf-fc01594dfea8"
      },
      "source": [
        "model = models.Sequential()\n",
        "model.add(layers.Dense(16, activation='relu', input_shape=(10000,)))\n",
        "model.add(layers.Dense(16, activation='relu'))\n",
        "model.add(layers.Dense(1, activation='sigmoid'))\n",
        "\n",
        "model.compile(optimizer='rmsprop',\n",
        "              loss='binary_crossentropy',\n",
        "              metrics=['accuracy'])\n",
        "\n",
        "model.fit(x_train, y_train, epochs=4, batch_size=512)\n",
        "results = model.evaluate(x_test, y_test)"
      ],
      "execution_count": null,
      "outputs": [
        {
          "output_type": "stream",
          "text": [
            "Epoch 1/4\n",
            "49/49 [==============================] - 1s 11ms/step - loss: 0.4412 - accuracy: 0.8253\n",
            "Epoch 2/4\n",
            "49/49 [==============================] - 1s 12ms/step - loss: 0.2543 - accuracy: 0.9095\n",
            "Epoch 3/4\n",
            "49/49 [==============================] - 1s 11ms/step - loss: 0.1964 - accuracy: 0.9305\n",
            "Epoch 4/4\n",
            "49/49 [==============================] - 1s 11ms/step - loss: 0.1655 - accuracy: 0.9396\n",
            "782/782 [==============================] - 2s 2ms/step - loss: 0.3414 - accuracy: 0.8681\n"
          ],
          "name": "stdout"
        }
      ]
    },
    {
      "cell_type": "code",
      "metadata": {
        "id": "5nYnNwIcvCLw",
        "colab": {
          "base_uri": "https://localhost:8080/"
        },
        "outputId": "a5aa8fc9-c3ad-4ed4-c193-c1e2720f89e8"
      },
      "source": [
        "print(results)"
      ],
      "execution_count": null,
      "outputs": [
        {
          "output_type": "stream",
          "text": [
            "[0.34137725830078125, 0.868120014667511]\n"
          ],
          "name": "stdout"
        }
      ]
    },
    {
      "cell_type": "markdown",
      "metadata": {
        "id": "CV9uJbZSxW-Z"
      },
      "source": [
        "We can test our model on data for predictions"
      ]
    },
    {
      "cell_type": "code",
      "metadata": {
        "id": "3DjeecAmvZCp",
        "colab": {
          "base_uri": "https://localhost:8080/"
        },
        "outputId": "e2e670fb-7416-4137-d045-a2faaddb0578"
      },
      "source": [
        "model.predict(x_test)"
      ],
      "execution_count": null,
      "outputs": [
        {
          "output_type": "execute_result",
          "data": {
            "text/plain": [
              "array([[0.27753803],\n",
              "       [0.9999677 ],\n",
              "       [0.98048455],\n",
              "       ...,\n",
              "       [0.18303573],\n",
              "       [0.12848142],\n",
              "       [0.7784312 ]], dtype=float32)"
            ]
          },
          "metadata": {
            "tags": []
          },
          "execution_count": 59
        }
      ]
    },
    {
      "cell_type": "code",
      "metadata": {
        "id": "Ae-PxUG8wElR"
      },
      "source": [
        ""
      ],
      "execution_count": null,
      "outputs": []
    },
    {
      "cell_type": "markdown",
      "metadata": {
        "id": "CYMazfElzHKo"
      },
      "source": [
        "## Reuters dataset"
      ]
    },
    {
      "cell_type": "markdown",
      "metadata": {
        "id": "aNrAVTaM0C_3"
      },
      "source": [
        "Classify texts by topic"
      ]
    },
    {
      "cell_type": "code",
      "metadata": {
        "id": "x5IimSRD0Wj3",
        "colab": {
          "base_uri": "https://localhost:8080/"
        },
        "outputId": "91a556dc-5bed-4f08-f5da-a59dfa026321"
      },
      "source": [
        "from keras.datasets import reuters\n",
        "\n",
        "(train_data, train_labels), (test_data, test_labels) = reuters.load_data(num_words=10000)"
      ],
      "execution_count": null,
      "outputs": [
        {
          "output_type": "stream",
          "text": [
            "Downloading data from https://storage.googleapis.com/tensorflow/tf-keras-datasets/reuters.npz\n",
            "2113536/2110848 [==============================] - 0s 0us/step\n"
          ],
          "name": "stdout"
        }
      ]
    },
    {
      "cell_type": "markdown",
      "metadata": {
        "id": "kcb0TW3v0WOP"
      },
      "source": [
        "We can use the same code for decode as previously from the reuters dictionary"
      ]
    },
    {
      "cell_type": "markdown",
      "metadata": {
        "id": "Z5rk9Xao0xKF"
      },
      "source": [
        "We can use the same code for vectorize our data"
      ]
    },
    {
      "cell_type": "markdown",
      "metadata": {
        "id": "e0U4SuGR04oe"
      },
      "source": [
        "Vectorizing inputs"
      ]
    },
    {
      "cell_type": "code",
      "metadata": {
        "id": "UGcG1ntz02L8"
      },
      "source": [
        "x_train = vectorize_sequences(train_data)\n",
        "x_test = vectorize_sequences(test_data)"
      ],
      "execution_count": null,
      "outputs": []
    },
    {
      "cell_type": "markdown",
      "metadata": {
        "id": "iEwUDvAF1P4A"
      },
      "source": [
        "In order to vectorize labels, we can use a methode for categorical encoding. It's the same mathode as for input, indeed we represent for labels a 1 per topic and 0 instead. It as the same dimention as number of topics."
      ]
    },
    {
      "cell_type": "code",
      "metadata": {
        "id": "ynw34wGw1NsJ"
      },
      "source": [
        "def to_one_hot(labels, dimension=46):\n",
        "    results = np.zeros((len(labels), dimension))\n",
        "    for i, label in enumerate(labels):\n",
        "        results[i, label] = 1.\n",
        "    return results"
      ],
      "execution_count": null,
      "outputs": []
    },
    {
      "cell_type": "code",
      "metadata": {
        "id": "q2XeW9Sm1U5X"
      },
      "source": [
        "one_hot_train_labels = to_one_hot(train_labels)\n",
        "one_hot_test_labels = to_one_hot(test_labels)"
      ],
      "execution_count": null,
      "outputs": []
    },
    {
      "cell_type": "markdown",
      "metadata": {
        "id": "0wW1Lyy_2uqS"
      },
      "source": [
        "It is the same as doing the following"
      ]
    },
    {
      "cell_type": "code",
      "metadata": {
        "id": "OprX58k12RGg"
      },
      "source": [
        "from keras.utils.np_utils import to_categorical\n",
        "\n",
        "one_hot_train_labels = to_categorical(train_labels)\n",
        "one_hot_test_labels = to_categorical(test_labels)"
      ],
      "execution_count": null,
      "outputs": []
    },
    {
      "cell_type": "markdown",
      "metadata": {
        "id": "hAYjslze3I8N"
      },
      "source": [
        "Building network and compile"
      ]
    },
    {
      "cell_type": "code",
      "metadata": {
        "id": "o_vB0NTw23c9"
      },
      "source": [
        "from keras import models\n",
        "from keras import layers\n",
        "\n",
        "model = models.Sequential()\n",
        "model.add(layers.Dense(64, activation='relu', input_shape=(10000,)))\n",
        "model.add(layers.Dense(64, activation='relu'))\n",
        "model.add(layers.Dense(46, activation='softmax'))\n",
        "\n",
        "model.compile(optimizer='rmsprop',\n",
        "              loss='categorical_crossentropy',\n",
        "              metrics=['accuracy'])"
      ],
      "execution_count": null,
      "outputs": []
    },
    {
      "cell_type": "markdown",
      "metadata": {
        "id": "0Ja_LVWP3X_3"
      },
      "source": [
        "Validation process as previously"
      ]
    },
    {
      "cell_type": "code",
      "metadata": {
        "id": "E5BPMI1O3OOO"
      },
      "source": [
        "x_val = x_train[:1000]\n",
        "partial_x_train = x_train[1000:]\n",
        "\n",
        "y_val = one_hot_train_labels[:1000]\n",
        "partial_y_train = one_hot_train_labels[1000:]"
      ],
      "execution_count": null,
      "outputs": []
    },
    {
      "cell_type": "code",
      "metadata": {
        "id": "8L1b94Dw3ceu",
        "colab": {
          "base_uri": "https://localhost:8080/"
        },
        "outputId": "e910ba66-5e1d-4bb1-9b3d-7230cae013fb"
      },
      "source": [
        "history = model.fit(partial_x_train,\n",
        "                    partial_y_train,\n",
        "                    epochs=20,\n",
        "                    batch_size=512,\n",
        "                    validation_data=(x_val, y_val))"
      ],
      "execution_count": null,
      "outputs": [
        {
          "output_type": "stream",
          "text": [
            "Epoch 1/20\n",
            "16/16 [==============================] - 0s 20ms/step - loss: 2.6903 - accuracy: 0.5088 - val_loss: 1.8043 - val_accuracy: 0.6230\n",
            "Epoch 2/20\n",
            "16/16 [==============================] - 0s 13ms/step - loss: 1.4770 - accuracy: 0.6986 - val_loss: 1.3440 - val_accuracy: 0.7000\n",
            "Epoch 3/20\n",
            "16/16 [==============================] - 0s 13ms/step - loss: 1.0854 - accuracy: 0.7680 - val_loss: 1.1417 - val_accuracy: 0.7540\n",
            "Epoch 4/20\n",
            "16/16 [==============================] - 0s 12ms/step - loss: 0.8497 - accuracy: 0.8211 - val_loss: 1.0415 - val_accuracy: 0.7880\n",
            "Epoch 5/20\n",
            "16/16 [==============================] - 0s 13ms/step - loss: 0.6769 - accuracy: 0.8672 - val_loss: 0.9684 - val_accuracy: 0.7940\n",
            "Epoch 6/20\n",
            "16/16 [==============================] - 0s 12ms/step - loss: 0.5390 - accuracy: 0.8918 - val_loss: 0.9664 - val_accuracy: 0.8060\n",
            "Epoch 7/20\n",
            "16/16 [==============================] - 0s 13ms/step - loss: 0.4337 - accuracy: 0.9116 - val_loss: 0.8877 - val_accuracy: 0.8210\n",
            "Epoch 8/20\n",
            "16/16 [==============================] - 0s 13ms/step - loss: 0.3502 - accuracy: 0.9295 - val_loss: 0.8635 - val_accuracy: 0.8240\n",
            "Epoch 9/20\n",
            "16/16 [==============================] - 0s 12ms/step - loss: 0.2931 - accuracy: 0.9376 - val_loss: 0.8671 - val_accuracy: 0.8230\n",
            "Epoch 10/20\n",
            "16/16 [==============================] - 0s 13ms/step - loss: 0.2429 - accuracy: 0.9448 - val_loss: 0.9144 - val_accuracy: 0.8110\n",
            "Epoch 11/20\n",
            "16/16 [==============================] - 0s 13ms/step - loss: 0.2153 - accuracy: 0.9485 - val_loss: 0.9323 - val_accuracy: 0.8170\n",
            "Epoch 12/20\n",
            "16/16 [==============================] - 0s 13ms/step - loss: 0.1875 - accuracy: 0.9511 - val_loss: 0.9089 - val_accuracy: 0.8190\n",
            "Epoch 13/20\n",
            "16/16 [==============================] - 0s 13ms/step - loss: 0.1681 - accuracy: 0.9538 - val_loss: 0.9164 - val_accuracy: 0.8190\n",
            "Epoch 14/20\n",
            "16/16 [==============================] - 0s 12ms/step - loss: 0.1578 - accuracy: 0.9539 - val_loss: 0.9202 - val_accuracy: 0.8160\n",
            "Epoch 15/20\n",
            "16/16 [==============================] - 0s 13ms/step - loss: 0.1414 - accuracy: 0.9550 - val_loss: 1.0089 - val_accuracy: 0.7990\n",
            "Epoch 16/20\n",
            "16/16 [==============================] - 0s 14ms/step - loss: 0.1341 - accuracy: 0.9557 - val_loss: 1.0394 - val_accuracy: 0.7970\n",
            "Epoch 17/20\n",
            "16/16 [==============================] - 0s 13ms/step - loss: 0.1261 - accuracy: 0.9577 - val_loss: 0.9918 - val_accuracy: 0.8140\n",
            "Epoch 18/20\n",
            "16/16 [==============================] - 0s 13ms/step - loss: 0.1198 - accuracy: 0.9577 - val_loss: 1.0286 - val_accuracy: 0.8040\n",
            "Epoch 19/20\n",
            "16/16 [==============================] - 0s 13ms/step - loss: 0.1167 - accuracy: 0.9583 - val_loss: 1.1015 - val_accuracy: 0.7910\n",
            "Epoch 20/20\n",
            "16/16 [==============================] - 0s 12ms/step - loss: 0.1150 - accuracy: 0.9569 - val_loss: 1.0624 - val_accuracy: 0.8000\n"
          ],
          "name": "stdout"
        }
      ]
    },
    {
      "cell_type": "markdown",
      "metadata": {
        "id": "0KRmcqrK3hym"
      },
      "source": [
        "Printing the result"
      ]
    },
    {
      "cell_type": "code",
      "metadata": {
        "id": "Tkwg0zlZ3fIm",
        "colab": {
          "base_uri": "https://localhost:8080/",
          "height": 295
        },
        "outputId": "c0cfff3f-201b-45e4-bce1-2bf47454dd34"
      },
      "source": [
        "import matplotlib.pyplot as plt\n",
        "\n",
        "loss = history.history['loss']\n",
        "val_loss = history.history['val_loss']\n",
        "\n",
        "epochs = range(1, len(loss) + 1)\n",
        "\n",
        "plt.clf()\n",
        "plt.subplot(121)\n",
        "plt.plot(epochs, loss, 'bo', label='Training loss')\n",
        "plt.plot(epochs, val_loss, 'b', label='Validation loss')\n",
        "plt.title('Training and validation loss')\n",
        "plt.xlabel('Epochs')\n",
        "plt.ylabel('Loss')\n",
        "plt.legend()\n",
        "\n",
        "plt.subplot(122)\n",
        "acc = history.history['accuracy']\n",
        "val_acc = history.history['val_accuracy']\n",
        "\n",
        "plt.plot(epochs, acc, 'bo', label='Training acc')\n",
        "plt.plot(epochs, val_acc, 'b', label='Validation acc')\n",
        "plt.title('Training and validation accuracy')\n",
        "plt.xlabel('Epochs')\n",
        "plt.ylabel('Loss')\n",
        "plt.legend()\n",
        "\n",
        "plt.show()"
      ],
      "execution_count": null,
      "outputs": [
        {
          "output_type": "display_data",
          "data": {
            "image/png": "[encoded data removed]",
            "text/plain": [
              "<Figure size 432x288 with 2 Axes>"
            ]
          },
          "metadata": {
            "tags": [],
            "needs_background": "light"
          }
        }
      ]
    },
    {
      "cell_type": "markdown",
      "metadata": {
        "id": "4CfCDa2C4ENX"
      },
      "source": [
        "We adjust our model and retrain it"
      ]
    },
    {
      "cell_type": "code",
      "metadata": {
        "id": "rm2oNXRh3uxG",
        "colab": {
          "base_uri": "https://localhost:8080/"
        },
        "outputId": "73360636-3ecf-42cf-e8ea-c65f9c5061ed"
      },
      "source": [
        "model = models.Sequential()\n",
        "model.add(layers.Dense(64, activation='relu', input_shape=(10000,)))\n",
        "model.add(layers.Dense(64, activation='relu'))\n",
        "model.add(layers.Dense(46, activation='softmax'))\n",
        "\n",
        "model.compile(optimizer='rmsprop',\n",
        "              loss='categorical_crossentropy',\n",
        "              metrics=['accuracy'])\n",
        "model.fit(partial_x_train,\n",
        "          partial_y_train,\n",
        "          epochs=8,\n",
        "          batch_size=512,\n",
        "          validation_data=(x_val, y_val))\n",
        "results = model.evaluate(x_test, one_hot_test_labels)"
      ],
      "execution_count": null,
      "outputs": [
        {
          "output_type": "stream",
          "text": [
            "Epoch 1/8\n",
            "16/16 [==============================] - 0s 20ms/step - loss: 2.8310 - accuracy: 0.5202 - val_loss: 1.8233 - val_accuracy: 0.6360\n",
            "Epoch 2/8\n",
            "16/16 [==============================] - 0s 13ms/step - loss: 1.4362 - accuracy: 0.7127 - val_loss: 1.3087 - val_accuracy: 0.7160\n",
            "Epoch 3/8\n",
            "16/16 [==============================] - 0s 13ms/step - loss: 1.0308 - accuracy: 0.7840 - val_loss: 1.1351 - val_accuracy: 0.7630\n",
            "Epoch 4/8\n",
            "16/16 [==============================] - 0s 13ms/step - loss: 0.8038 - accuracy: 0.8351 - val_loss: 1.0388 - val_accuracy: 0.7780\n",
            "Epoch 5/8\n",
            "16/16 [==============================] - 0s 12ms/step - loss: 0.6447 - accuracy: 0.8633 - val_loss: 0.9997 - val_accuracy: 0.7800\n",
            "Epoch 6/8\n",
            "16/16 [==============================] - 0s 13ms/step - loss: 0.5120 - accuracy: 0.8940 - val_loss: 0.9150 - val_accuracy: 0.8170\n",
            "Epoch 7/8\n",
            "16/16 [==============================] - 0s 13ms/step - loss: 0.4178 - accuracy: 0.9149 - val_loss: 0.9136 - val_accuracy: 0.8130\n",
            "Epoch 8/8\n",
            "16/16 [==============================] - 0s 13ms/step - loss: 0.3405 - accuracy: 0.9251 - val_loss: 0.8813 - val_accuracy: 0.8250\n",
            "71/71 [==============================] - 0s 2ms/step - loss: 0.9942 - accuracy: 0.7881\n"
          ],
          "name": "stdout"
        }
      ]
    },
    {
      "cell_type": "code",
      "metadata": {
        "id": "jhPI5wWb4HQm",
        "colab": {
          "base_uri": "https://localhost:8080/"
        },
        "outputId": "8d5b9ef2-11ae-4671-b2b9-71253966326f"
      },
      "source": [
        "results"
      ],
      "execution_count": null,
      "outputs": [
        {
          "output_type": "execute_result",
          "data": {
            "text/plain": [
              "[0.9942442178726196, 0.7880676984786987]"
            ]
          },
          "metadata": {
            "tags": []
          },
          "execution_count": 78
        }
      ]
    },
    {
      "cell_type": "markdown",
      "metadata": {
        "id": "cAYytYF45-VG"
      },
      "source": [
        "Nearly 80%, pretty good as we now that random is about 19%"
      ]
    },
    {
      "cell_type": "markdown",
      "metadata": {
        "id": "mm_o7wAU58An"
      },
      "source": [
        "Then test on new data\n"
      ]
    },
    {
      "cell_type": "code",
      "metadata": {
        "id": "DtLssvOy4LJO"
      },
      "source": [
        "predictions = model.predict(x_test)"
      ],
      "execution_count": null,
      "outputs": []
    },
    {
      "cell_type": "code",
      "metadata": {
        "id": "PK9Pgzj56nVu",
        "colab": {
          "base_uri": "https://localhost:8080/"
        },
        "outputId": "05c17c78-58b0-4176-956c-4f222ed553ec"
      },
      "source": [
        "np.argmax(predictions[0])"
      ],
      "execution_count": null,
      "outputs": [
        {
          "output_type": "execute_result",
          "data": {
            "text/plain": [
              "3"
            ]
          },
          "metadata": {
            "tags": []
          },
          "execution_count": 80
        }
      ]
    },
    {
      "cell_type": "markdown",
      "metadata": {
        "id": "C5jByS1w7TV9"
      },
      "source": [
        "## Boston housing dataset"
      ]
    },
    {
      "cell_type": "markdown",
      "metadata": {
        "id": "IWOrj_Kn9QEe"
      },
      "source": [
        "Goal is to predict the average price of a house in a given Boston suburb from data like criminality and so on.\n",
        "The particularity is that every feature as a different scale."
      ]
    },
    {
      "cell_type": "markdown",
      "metadata": {
        "id": "EAPTEFcn98bl"
      },
      "source": [
        "Load dataset"
      ]
    },
    {
      "cell_type": "code",
      "metadata": {
        "id": "XifS4o6_7Uqt",
        "colab": {
          "base_uri": "https://localhost:8080/"
        },
        "outputId": "1ea47245-efd3-4732-f8ff-8aa31159f548"
      },
      "source": [
        "from keras.datasets import boston_housing\n",
        "\n",
        "(train_data, train_targets), (test_data, test_targets) = boston_housing.load_data()"
      ],
      "execution_count": null,
      "outputs": [
        {
          "output_type": "stream",
          "text": [
            "Downloading data from https://storage.googleapis.com/tensorflow/tf-keras-datasets/boston_housing.npz\n",
            "57344/57026 [==============================] - 0s 0us/step\n"
          ],
          "name": "stdout"
        }
      ]
    },
    {
      "cell_type": "markdown",
      "metadata": {
        "id": "Xu9uuZ1z-yEE"
      },
      "source": [
        "Here are the different features :\n",
        "\n",
        "1. Per capita crime rate.\n",
        "2. Proportion of residential land zoned for lots over 25,000 square feet.\n",
        "3. Proportion of non-retail business acres per town.\n",
        "4. Charles River dummy variable (= 1 if tract bounds river; 0 otherwise).\n",
        "5. Nitric oxides concentration (parts per 10 million).\n",
        "6. Average number of rooms per dwelling.\n",
        "7. Proportion of owner-occupied units built prior to 1940.\n",
        "8. Weighted distances to five Boston employment centres.\n",
        "9. Index of accessibility to radial highways.\n",
        "10. Full-value property-tax rate per $10,000.\n",
        "11. Pupil-teacher ratio by town.\n",
        "12. 1000 * (Bk - 0.63) ** 2 where Bk is the proportion of Black people by town.\n",
        "13. % lower status of the population.\n",
        "\n"
      ]
    },
    {
      "cell_type": "markdown",
      "metadata": {
        "id": "AiAMPLmvdpaD"
      },
      "source": [
        "Preparing inputs"
      ]
    },
    {
      "cell_type": "code",
      "metadata": {
        "id": "Y0kA0Rb7-set"
      },
      "source": [
        "mean = train_data.mean(axis=0)\n",
        "train_data -= mean\n",
        "std = train_data.std(axis=0)\n",
        "train_data /= std\n",
        "\n",
        "test_data -= mean\n",
        "test_data /= std"
      ],
      "execution_count": null,
      "outputs": []
    },
    {
      "cell_type": "markdown",
      "metadata": {
        "id": "kjvJt9ykeSrI"
      },
      "source": [
        "For further creations"
      ]
    },
    {
      "cell_type": "code",
      "metadata": {
        "id": "ni8tlLNcd3r6"
      },
      "source": [
        "from keras import models\n",
        "from keras import layers\n",
        "\n",
        "def build_model():\n",
        "    model = models.Sequential()\n",
        "    model.add(layers.Dense(64, activation='relu',\n",
        "                           input_shape=(train_data.shape[1],)))\n",
        "    model.add(layers.Dense(64, activation='relu'))\n",
        "    model.add(layers.Dense(1))\n",
        "    model.compile(optimizer='rmsprop', loss='mse', metrics=['mae'])\n",
        "    return model"
      ],
      "execution_count": null,
      "outputs": []
    },
    {
      "cell_type": "markdown",
      "metadata": {
        "id": "gvU3W4yWfUHR"
      },
      "source": [
        "Here is a new metric : Mean Absolute Error"
      ]
    },
    {
      "cell_type": "markdown",
      "metadata": {
        "id": "9HBovxANf20_"
      },
      "source": [
        "We can't do as usual for validation process because there is so few data. Solution is K-fold methode. We are spliting the set by K and iterate the validation process over all piece of the dataset while we train the model on the others. As a result :"
      ]
    },
    {
      "cell_type": "code",
      "metadata": {
        "id": "bVLII8Lmen_w",
        "colab": {
          "base_uri": "https://localhost:8080/"
        },
        "outputId": "3768b46a-981c-44dc-86ad-5a63b08589cb"
      },
      "source": [
        "import numpy as np\n",
        "\n",
        "k = 4\n",
        "num_val_samples = len(train_data) // k\n",
        "num_epochs = 100\n",
        "all_scores = []\n",
        "for i in range(k):\n",
        "    print('processing fold #', i)\n",
        "    val_data = train_data[i * num_val_samples: (i + 1) * num_val_samples]\n",
        "    val_targets = train_targets[i * num_val_samples: (i + 1) * num_val_samples]\n",
        "\n",
        "    partial_train_data = np.concatenate(\n",
        "        [train_data[:i * num_val_samples],\n",
        "         train_data[(i + 1) * num_val_samples:]],\n",
        "        axis=0)\n",
        "    partial_train_targets = np.concatenate(\n",
        "        [train_targets[:i * num_val_samples],\n",
        "         train_targets[(i + 1) * num_val_samples:]],\n",
        "        axis=0)\n",
        "\n",
        "    model = build_model()\n",
        "    model.fit(partial_train_data, partial_train_targets,\n",
        "              epochs=num_epochs, batch_size=1, verbose=0)\n",
        "    val_mse, val_mae = model.evaluate(val_data, val_targets, verbose=0)\n",
        "    all_scores.append(val_mae)"
      ],
      "execution_count": null,
      "outputs": [
        {
          "output_type": "stream",
          "text": [
            "processing fold # 0\n",
            "processing fold # 1\n",
            "processing fold # 2\n",
            "processing fold # 3\n"
          ],
          "name": "stdout"
        }
      ]
    },
    {
      "cell_type": "markdown",
      "metadata": {
        "id": "O4n6ixLi0Ubw"
      },
      "source": [
        "We can use the `np.mean(all_scores)` command to get the mean of our result, most reliable mesure"
      ]
    },
    {
      "cell_type": "markdown",
      "metadata": {
        "id": "T9xVGg3v0Xh1"
      },
      "source": [
        "Clean some memory"
      ]
    },
    {
      "cell_type": "code",
      "metadata": {
        "id": "vbVgwpbihjAA"
      },
      "source": [
        "from keras import backend as K\n",
        "\n",
        "K.clear_session()"
      ],
      "execution_count": null,
      "outputs": []
    },
    {
      "cell_type": "markdown",
      "metadata": {
        "id": "lXEL54N1086W"
      },
      "source": [
        "We modify the previous code to keep a record and increase the number of epochs "
      ]
    },
    {
      "cell_type": "code",
      "metadata": {
        "id": "CAWYnpt501l0",
        "colab": {
          "base_uri": "https://localhost:8080/"
        },
        "outputId": "e35d39b2-f525-4caa-e4f6-f0eb7dff1f88"
      },
      "source": [
        "num_epochs = 500\n",
        "all_mae_histories = []\n",
        "for i in range(k):\n",
        "    print('processing fold #', i)\n",
        "    val_data = train_data[i * num_val_samples: (i + 1) * num_val_samples]\n",
        "    val_targets = train_targets[i * num_val_samples: (i + 1) * num_val_samples]\n",
        "\n",
        "    partial_train_data = np.concatenate(\n",
        "        [train_data[:i * num_val_samples],\n",
        "         train_data[(i + 1) * num_val_samples:]],\n",
        "        axis=0)\n",
        "    partial_train_targets = np.concatenate(\n",
        "        [train_targets[:i * num_val_samples],\n",
        "         train_targets[(i + 1) * num_val_samples:]],\n",
        "        axis=0)\n",
        "\n",
        "    model = build_model()\n",
        "    history = model.fit(partial_train_data, partial_train_targets,\n",
        "                        validation_data=(val_data, val_targets),\n",
        "                        epochs=num_epochs, batch_size=1, verbose=0)\n",
        "    mae_history = history.history['val_mae']\n",
        "    all_mae_histories.append(mae_history)"
      ],
      "execution_count": null,
      "outputs": [
        {
          "output_type": "stream",
          "text": [
            "processing fold # 0\n",
            "{'loss': [192.9718017578125, 32.02326965332031, 21.918365478515625, 18.694570541381836, 16.553590774536133, 15.62972354888916, 14.256755828857422, 13.96501636505127, 12.41671085357666, 12.788945198059082, 11.98914909362793, 11.290755271911621, 11.417207717895508, 11.038496971130371, 10.940427780151367, 10.61026668548584, 10.421640396118164, 10.187137603759766, 9.972288131713867, 9.36943531036377, 9.338957786560059, 9.37697696685791, 8.786892890930176, 8.917713165283203, 8.82225513458252, 8.729535102844238, 8.607335090637207, 8.084492683410645, 8.173284530639648, 8.106405258178711, 8.294632911682129, 7.779145240783691, 7.855899810791016, 7.191267013549805, 7.735953330993652, 7.484896183013916, 7.569174766540527, 7.5159196853637695, 7.255797386169434, 7.073944091796875, 6.723259925842285, 7.185020923614502, 6.777687072753906, 6.829391002655029, 7.240687847137451, 6.700267314910889, 6.234335422515869, 6.248008728027344, 6.622051239013672, 6.32130765914917, 6.011679172515869, 5.935588836669922, 5.9767913818359375, 6.193688869476318, 6.1109209060668945, 6.341345310211182, 5.605075359344482, 5.631662368774414, 5.953555583953857, 5.887699604034424, 5.65089225769043, 5.357621669769287, 5.533539295196533, 5.598125457763672, 5.40256404876709, 5.6808366775512695, 5.431529998779297, 5.2739667892456055, 5.180690765380859, 5.134819984436035, 5.234522819519043, 4.886704921722412, 5.0239338874816895, 4.712945461273193, 5.005387783050537, 4.803616046905518, 4.8455281257629395, 4.676812171936035, 5.020901203155518, 4.5499653816223145, 4.769835948944092, 4.695635795593262, 4.117152690887451, 4.403268337249756, 4.463005065917969, 4.490429878234863, 4.473524570465088, 4.20306921005249, 4.209692001342773, 4.394237041473389, 4.333067417144775, 4.075962066650391, 4.189937591552734, 4.13336706161499, 4.329036712646484, 4.144686222076416, 3.7077298164367676, 3.98149037361145, 4.204644203186035, 3.8829495906829834, 3.8423051834106445, 3.6919991970062256, 3.88313364982605, 3.81826114654541, 3.6798317432403564, 3.8520491123199463, 3.2297792434692383, 3.448019504547119, 3.611168622970581, 3.59982967376709, 3.7054035663604736, 3.5279693603515625, 3.5838961601257324, 3.7107393741607666, 3.414513349533081, 3.4743459224700928, 3.320748805999756, 3.216728687286377, 3.4521286487579346, 3.318211793899536, 3.2705748081207275, 3.0750420093536377, 3.280468702316284, 3.423785924911499, 3.403054714202881, 2.980104446411133, 3.3229689598083496, 2.9954447746276855, 2.899836778640747, 3.351853370666504, 3.078073024749756, 3.0064163208007812, 3.0044960975646973, 3.100886106491089, 2.954798460006714, 3.0442662239074707, 3.1526527404785156, 2.83516526222229, 2.869403600692749, 2.6658670902252197, 2.9331002235412598, 2.8302128314971924, 2.7840609550476074, 2.9428300857543945, 2.931016683578491, 2.928065061569214, 2.4510645866394043, 2.902827262878418, 2.7710702419281006, 2.805101156234741, 2.75553297996521, 2.725093126296997, 2.842844009399414, 2.4253342151641846, 2.591634511947632, 2.5139427185058594, 2.8231301307678223, 2.687354326248169, 2.6522367000579834, 2.710101842880249, 2.4862163066864014, 2.605055093765259, 2.1092677116394043, 2.3913838863372803, 2.5248124599456787, 2.734013319015503, 2.3997278213500977, 2.7664451599121094, 2.4038050174713135, 2.711317777633667, 2.548846483230591, 2.71838116645813, 2.2424633502960205, 2.6929404735565186, 2.511934757232666, 2.348602056503296, 2.5842647552490234, 2.348863363265991, 2.3013670444488525, 2.3944904804229736, 2.6431033611297607, 2.2047879695892334, 2.399670124053955, 2.3832240104675293, 2.1025424003601074, 2.1141645908355713, 2.301111936569214, 2.199845314025879, 2.1462860107421875, 2.387551784515381, 2.4345669746398926, 2.1545534133911133, 2.4093940258026123, 2.5519344806671143, 2.3168880939483643, 2.119863271713257, 2.1255109310150146, 2.0505824089050293, 2.15303897857666, 2.2092761993408203, 2.0406980514526367, 2.1018104553222656, 2.2366089820861816, 2.121640920639038, 2.2188642024993896, 2.1886606216430664, 2.1755480766296387, 1.9696768522262573, 2.0216026306152344, 2.1072635650634766, 2.0730085372924805, 1.7328511476516724, 2.0398006439208984, 2.3029112815856934, 1.8648947477340698, 2.0125765800476074, 1.8150783777236938, 2.036590099334717, 2.011256694793701, 2.107974052429199, 1.9856631755828857, 1.9664478302001953, 1.9457075595855713, 2.0456418991088867, 1.9516758918762207, 2.2356560230255127, 1.8016003370285034, 1.9659096002578735, 2.039077043533325, 1.6001306772232056, 2.1616814136505127, 1.8334916830062866, 2.152949571609497, 2.0032827854156494, 1.7205272912979126, 2.066037654876709, 1.7289738655090332, 1.9420857429504395, 1.8373465538024902, 1.7442189455032349, 1.9212027788162231, 1.7620233297348022, 1.625144124031067, 1.8564118146896362, 1.7223817110061646, 2.1209356784820557, 1.6787288188934326, 1.6920236349105835, 1.6439316272735596, 1.7178548574447632, 1.9656424522399902, 1.6391804218292236, 1.975807547569275, 1.6211953163146973, 1.8884319067001343, 1.6715964078903198, 1.6420449018478394, 1.9117013216018677, 1.9023373126983643, 1.7046103477478027, 1.805403232574463, 1.8349989652633667, 1.6971030235290527, 1.7882518768310547, 1.6126290559768677, 1.7956682443618774, 1.682210087776184, 1.7543621063232422, 1.6780503988265991, 1.4480317831039429, 1.5063538551330566, 1.5970455408096313, 1.6143685579299927, 1.646716594696045, 1.5850504636764526, 1.364811897277832, 1.8808952569961548, 1.5816586017608643, 1.65838623046875, 1.7561713457107544, 1.4816864728927612, 1.5827553272247314, 1.6779398918151855, 1.65513277053833, 1.493131160736084, 1.514769434928894, 1.4793999195098877, 1.5005000829696655, 1.4230459928512573, 1.4522701501846313, 1.5363799333572388, 1.3566739559173584, 1.6576441526412964, 1.4357672929763794, 1.6968433856964111, 1.4498097896575928, 1.4071955680847168, 1.4432239532470703, 1.629424810409546, 1.4877601861953735, 1.3060089349746704, 1.3266934156417847, 1.426940679550171, 1.4037069082260132, 1.5475159883499146, 1.4563568830490112, 1.3619416952133179, 1.2724761962890625, 1.535980463027954, 1.4764066934585571, 1.4129459857940674, 1.3127554655075073, 1.3733075857162476, 1.5539090633392334, 1.3653349876403809, 1.424148440361023, 1.2601051330566406, 1.3324477672576904, 1.5476934909820557, 1.2726753950119019, 1.2742650508880615, 1.3138819932937622, 1.2311793565750122, 1.5901459455490112, 1.1402798891067505, 1.7049963474273682, 1.36579167842865, 1.2022613286972046, 1.3292592763900757, 1.4489067792892456, 1.2984570264816284, 1.4209603071212769, 1.0883233547210693, 1.4093385934829712, 1.2779474258422852, 1.3205758333206177, 1.1404017210006714, 1.2515934705734253, 1.2623324394226074, 1.4518136978149414, 1.1330420970916748, 1.3397632837295532, 1.2144094705581665, 1.2425917387008667, 1.2503482103347778, 1.3660047054290771, 1.2559928894042969, 1.279747724533081, 1.2328004837036133, 1.4037699699401855, 1.2343674898147583, 1.4207205772399902, 1.3288869857788086, 1.1423945426940918, 1.1061235666275024, 1.4293428659439087, 1.1940231323242188, 1.1980786323547363, 1.433783769607544, 1.2084691524505615, 1.153890609741211, 1.1470532417297363, 1.1193912029266357, 1.3080532550811768, 1.231103777885437, 1.2201038599014282, 1.3262585401535034, 1.4143481254577637, 1.0509568452835083, 1.2749539613723755, 1.1591166257858276, 1.1666626930236816, 1.0817474126815796, 1.3195602893829346, 1.1075091361999512, 1.1829719543457031, 1.0672450065612793, 1.1859959363937378, 1.2466168403625488, 1.2885782718658447, 1.2894389629364014, 1.206069827079773, 1.1631001234054565, 1.0795542001724243, 1.1961963176727295, 1.1596580743789673, 1.1193033456802368, 1.1529548168182373, 1.2914657592773438, 0.9494202733039856, 1.166829228401184, 1.1247724294662476, 1.182217001914978, 1.0533630847930908, 1.1261922121047974, 1.166908860206604, 0.9446732401847839, 1.0761886835098267, 1.2170978784561157, 1.11955988407135, 1.0622401237487793, 1.1778768301010132, 1.7471038103103638, 1.0472490787506104, 1.0423557758331299, 1.0269650220870972, 1.2991536855697632, 1.0810363292694092, 1.1798462867736816, 1.177836298942566, 0.9271066188812256, 1.1185073852539062, 1.1444056034088135, 1.0483454465866089, 1.1728066205978394, 0.9623908400535583, 1.0675263404846191, 1.2282750606536865, 1.0917203426361084, 1.2551339864730835, 1.003616213798523, 1.1301971673965454, 1.0823646783828735, 1.080688714981079, 1.0612273216247559, 1.1846599578857422, 1.254667043685913, 0.9759658575057983, 1.184032678604126, 0.9744252562522888, 0.9318276643753052, 1.0242077112197876, 1.1356406211853027, 1.2161521911621094, 1.0928617715835571, 0.9790729880332947, 1.0662344694137573, 0.9211205244064331, 0.8892754912376404, 0.9390900135040283, 1.2489867210388184, 0.8841264843940735, 1.2846221923828125, 0.9567772150039673, 1.1692333221435547, 0.9832226634025574, 1.1755802631378174, 1.0508209466934204, 0.9707479476928711, 0.8931394219398499, 0.9087467193603516, 0.9910020232200623, 1.162003517150879, 0.9297968745231628, 1.0556565523147583, 1.0728764533996582, 0.7981832027435303, 1.1377285718917847, 0.9566141963005066, 0.9168079495429993, 0.8813520669937134, 0.9827603101730347, 0.8941649198532104, 1.0044822692871094, 0.9775015115737915, 0.9365943670272827, 1.05401611328125, 0.8460075855255127, 1.0580580234527588, 0.8176985383033752, 1.0328466892242432, 1.0316720008850098, 0.8848139643669128, 0.9354516863822937, 0.8720637559890747, 1.0575981140136719, 0.871669352054596, 0.8797310590744019, 1.0472780466079712, 0.8419048190116882, 0.9632498621940613, 0.9327122569084167, 1.046471357345581, 0.9778485894203186, 0.8456847667694092, 0.9804338812828064, 1.0637342929840088, 0.918584942817688, 0.9168100953102112, 0.9849020838737488, 0.8880574703216553, 0.9663650989532471, 0.7353828549385071, 0.9339577555656433, 0.8692988753318787, 0.8451383709907532, 0.9543870091438293, 0.928357720375061, 0.9002689719200134, 0.710457980632782], 'mae': [10.789374351501465, 3.856152057647705, 3.008070945739746, 2.791835308074951, 2.684957981109619, 2.589914560317993, 2.401259183883667, 2.430403470993042, 2.3875038623809814, 2.327387571334839, 2.2726826667785645, 2.2502071857452393, 2.2208950519561768, 2.1780450344085693, 2.174163818359375, 2.1163322925567627, 2.0840096473693848, 2.062030792236328, 2.0443029403686523, 2.053107738494873, 2.041769504547119, 2.005260467529297, 1.9662318229675293, 1.9824563264846802, 1.9431482553482056, 1.9457719326019287, 1.900423288345337, 1.957226276397705, 1.909935474395752, 1.9090360403060913, 1.904014229774475, 1.8599700927734375, 1.8095481395721436, 1.8017120361328125, 1.880765676498413, 1.8358863592147827, 1.8602993488311768, 1.8012794256210327, 1.7952924966812134, 1.7693322896957397, 1.7616047859191895, 1.7289495468139648, 1.7264184951782227, 1.6820341348648071, 1.7746280431747437, 1.6696196794509888, 1.6792546510696411, 1.6611902713775635, 1.7121877670288086, 1.6516141891479492, 1.6823571920394897, 1.678432583808899, 1.6759357452392578, 1.5838305950164795, 1.6251779794692993, 1.6470288038253784, 1.57699453830719, 1.5970091819763184, 1.6254554986953735, 1.619251012802124, 1.552764654159546, 1.562971591949463, 1.5012284517288208, 1.584230899810791, 1.5378262996673584, 1.5540257692337036, 1.5641846656799316, 1.5557998418807983, 1.5157573223114014, 1.5483324527740479, 1.5090522766113281, 1.5280336141586304, 1.5500553846359253, 1.5041455030441284, 1.5523722171783447, 1.5067542791366577, 1.5343412160873413, 1.4980144500732422, 1.5670109987258911, 1.4802614450454712, 1.4989421367645264, 1.452146053314209, 1.4522358179092407, 1.4272607564926147, 1.4429800510406494, 1.4078832864761353, 1.3658593893051147, 1.4187277555465698, 1.445963740348816, 1.472169280052185, 1.397972822189331, 1.442199945449829, 1.4029420614242554, 1.4191765785217285, 1.4350804090499878, 1.4431235790252686, 1.3651113510131836, 1.4172576665878296, 1.410054326057434, 1.3883408308029175, 1.3767930269241333, 1.3120509386062622, 1.4156173467636108, 1.3289408683776855, 1.260668158531189, 1.378060221672058, 1.29233717918396, 1.3163381814956665, 1.3784117698669434, 1.3983839750289917, 1.3589539527893066, 1.3162636756896973, 1.3050695657730103, 1.3684203624725342, 1.2575316429138184, 1.2957243919372559, 1.256190299987793, 1.265344500541687, 1.3336812257766724, 1.3112119436264038, 1.280930519104004, 1.2757856845855713, 1.2962003946304321, 1.2336422204971313, 1.2608883380889893, 1.2550848722457886, 1.312150001525879, 1.2314138412475586, 1.1775918006896973, 1.2940256595611572, 1.2712584733963013, 1.2555040121078491, 1.2184855937957764, 1.2632226943969727, 1.216198205947876, 1.2089245319366455, 1.2329975366592407, 1.2041558027267456, 1.22736656665802, 1.1611610651016235, 1.214377999305725, 1.1719876527786255, 1.2259116172790527, 1.18344247341156, 1.206470012664795, 1.19148588180542, 1.171349287033081, 1.1522555351257324, 1.1417475938796997, 1.176999807357788, 1.1553409099578857, 1.1838573217391968, 1.186455249786377, 1.1563353538513184, 1.14168381690979, 1.1315356492996216, 1.2374619245529175, 1.1223688125610352, 1.1540663242340088, 1.1411594152450562, 1.1106035709381104, 1.1362106800079346, 1.0580713748931885, 1.1171329021453857, 1.0781338214874268, 1.145517110824585, 1.1369061470031738, 1.1817317008972168, 1.1305148601531982, 1.133171796798706, 1.1654014587402344, 1.1316388845443726, 1.0691039562225342, 1.13777494430542, 1.145212173461914, 1.1104377508163452, 1.1347978115081787, 1.1176573038101196, 1.1055957078933716, 1.033318281173706, 1.1618602275848389, 1.0651719570159912, 1.0562694072723389, 1.1147923469543457, 1.025390386581421, 1.0843192338943481, 1.0863189697265625, 1.0875377655029297, 1.0759127140045166, 1.0931810140609741, 1.1034741401672363, 1.0573430061340332, 1.1425130367279053, 1.1420152187347412, 1.0820571184158325, 1.0926823616027832, 1.0535794496536255, 1.0826115608215332, 1.0496526956558228, 1.0706030130386353, 1.050054907798767, 1.0501922369003296, 1.0349847078323364, 1.0584620237350464, 1.0293442010879517, 1.0816165208816528, 1.0662693977355957, 1.0433220863342285, 1.0505688190460205, 1.0294644832611084, 1.0403096675872803, 0.9909915924072266, 1.0196129083633423, 1.0149661302566528, 0.9962437152862549, 1.0168001651763916, 0.9842732548713684, 1.0681445598602295, 1.0269726514816284, 1.0089861154556274, 0.9927173852920532, 0.9955219626426697, 1.0125521421432495, 1.0405994653701782, 0.9898400902748108, 1.0350433588027954, 0.9874202013015747, 0.9893847107887268, 1.004202127456665, 0.9475931525230408, 1.0505919456481934, 0.9996615648269653, 0.9826884865760803, 0.9790875315666199, 0.9621532559394836, 0.9956295490264893, 0.9582510590553284, 1.0239397287368774, 0.9867850542068481, 0.9515865445137024, 0.9856886863708496, 1.0056291818618774, 0.9647854566574097, 0.9347521066665649, 0.985913872718811, 1.0484100580215454, 0.9053711295127869, 0.959646999835968, 0.9292243123054504, 0.9617541432380676, 0.9867330193519592, 0.9056205153465271, 0.9725435376167297, 0.8918491005897522, 0.9785811901092529, 0.9137681722640991, 0.9129237532615662, 0.968737006187439, 0.9583227634429932, 0.9458555579185486, 0.9430718421936035, 0.9507595300674438, 0.9307944774627686, 0.9576618671417236, 0.9146097898483276, 0.9551793336868286, 0.9223868250846863, 0.9659591913223267, 0.9237632751464844, 0.8458845019340515, 0.8925039172172546, 0.8476730585098267, 0.9293834567070007, 0.9072402715682983, 0.9095150828361511, 0.8563419580459595, 0.9075010418891907, 0.8926680684089661, 0.908627450466156, 0.922854483127594, 0.8910430669784546, 0.9034984707832336, 0.8974635601043701, 0.9354369640350342, 0.8987298011779785, 0.8883352875709534, 0.8571162223815918, 0.9071786403656006, 0.8804534673690796, 0.8556103706359863, 0.9196372628211975, 0.8316614031791687, 0.9497668743133545, 0.8789675831794739, 0.9218936562538147, 0.8657254576683044, 0.8403335213661194, 0.8384561538696289, 0.8840372562408447, 0.8909923434257507, 0.8747891187667847, 0.8555085062980652, 0.8954574465751648, 0.8569136261940002, 0.8996616005897522, 0.865180492401123, 0.8532567024230957, 0.8338300585746765, 0.9067702293395996, 0.8668009638786316, 0.8758683800697327, 0.8467464447021484, 0.8450344800949097, 0.8351396322250366, 0.8635119199752808, 0.8463393449783325, 0.8085743188858032, 0.8233775496482849, 0.873587429523468, 0.8566827774047852, 0.8376446962356567, 0.8304674029350281, 0.8305641412734985, 0.885842502117157, 0.7801979780197144, 0.8329734206199646, 0.8287111520767212, 0.8161105513572693, 0.8213510513305664, 0.8413066267967224, 0.8233132362365723, 0.8420668244361877, 0.7406024932861328, 0.8881738185882568, 0.8305167555809021, 0.8274956345558167, 0.8082299828529358, 0.8204171657562256, 0.8436274528503418, 0.8355574607849121, 0.8281115889549255, 0.8302591443061829, 0.8167897462844849, 0.812122106552124, 0.8468344807624817, 0.8488048315048218, 0.8065285682678223, 0.8305312991142273, 0.793664813041687, 0.8326519727706909, 0.7880244851112366, 0.8095113635063171, 0.8602182865142822, 0.7816361784934998, 0.7883831262588501, 0.7922731637954712, 0.8246207237243652, 0.8016115427017212, 0.8449029922485352, 0.7826266884803772, 0.7948270440101624, 0.7897063493728638, 0.7726757526397705, 0.7975343465805054, 0.8002932667732239, 0.8084337115287781, 0.756487250328064, 0.8134507536888123, 0.7538665533065796, 0.8398572206497192, 0.7521491050720215, 0.78727126121521, 0.7663514018058777, 0.7838146686553955, 0.7973958849906921, 0.7850821614265442, 0.7861265540122986, 0.7924506664276123, 0.8109591007232666, 0.8023760318756104, 0.810234785079956, 0.7857432961463928, 0.7908745408058167, 0.7598815560340881, 0.8006645441055298, 0.7833702564239502, 0.738789439201355, 0.7572322487831116, 0.8057072162628174, 0.7277895212173462, 0.7812023758888245, 0.7511890530586243, 0.7577763199806213, 0.7421097159385681, 0.7503950595855713, 0.7408782839775085, 0.7232608199119568, 0.7516534924507141, 0.7599666118621826, 0.759932279586792, 0.7455331683158875, 0.7697087526321411, 0.8097791075706482, 0.7369765639305115, 0.7295548319816589, 0.7424125075340271, 0.7530532479286194, 0.7769989967346191, 0.77733314037323, 0.7721065282821655, 0.6957340836524963, 0.7749229669570923, 0.7302584648132324, 0.7393547296524048, 0.7629380226135254, 0.7156400680541992, 0.7339853644371033, 0.7619133591651917, 0.7602841258049011, 0.7597945332527161, 0.7192449569702148, 0.7737529277801514, 0.7050445675849915, 0.7589277625083923, 0.7165090441703796, 0.7620795965194702, 0.7344591021537781, 0.7394265532493591, 0.768159031867981, 0.6951284408569336, 0.7023573517799377, 0.7541552186012268, 0.7368003726005554, 0.7218220829963684, 0.7368780970573425, 0.7189063429832458, 0.7158026099205017, 0.6909937858581543, 0.7064194083213806, 0.7149040102958679, 0.7655532360076904, 0.6874070763587952, 0.7394949197769165, 0.7430740594863892, 0.7397975921630859, 0.7106255888938904, 0.7442874908447266, 0.7559564709663391, 0.7095186114311218, 0.6966394782066345, 0.6873865723609924, 0.7272793650627136, 0.7432710528373718, 0.7148429155349731, 0.7344056963920593, 0.7364608645439148, 0.6737075448036194, 0.7118453979492188, 0.7066265940666199, 0.6915963292121887, 0.6685234308242798, 0.7200576066970825, 0.6889471411705017, 0.6849016547203064, 0.6957294344902039, 0.708587646484375, 0.7265408039093018, 0.6651757955551147, 0.7383279204368591, 0.6922134757041931, 0.6758458018302917, 0.7173935174942017, 0.6760066747665405, 0.7030676007270813, 0.6769284009933472, 0.7333703637123108, 0.6752964854240417, 0.6858914494514465, 0.7313581109046936, 0.694366991519928, 0.701027512550354, 0.6875685453414917, 0.7313675284385681, 0.7228840589523315, 0.6906031966209412, 0.6946458220481873, 0.7098104953765869, 0.6820292472839355, 0.7066044211387634, 0.7091553211212158, 0.6656101942062378, 0.6966187357902527, 0.6386371850967407, 0.6971724033355713, 0.6613200306892395, 0.6743910908699036, 0.7004218101501465, 0.6741659045219421, 0.7118635773658752, 0.6431982517242432], 'val_loss': [43.50090789794922, 28.165964126586914, 20.64154624938965, 17.145610809326172, 17.27387046813965, 15.351016998291016, 17.75104522705078, 12.664502143859863, 13.76412296295166, 10.444721221923828, 11.206528663635254, 10.154081344604492, 10.21106243133545, 11.42297649383545, 10.718650817871094, 10.02354907989502, 10.711076736450195, 11.110143661499023, 9.767321586608887, 9.626389503479004, 10.823269844055176, 10.480951309204102, 9.763738632202148, 12.626591682434082, 9.02810287475586, 10.967705726623535, 10.876173973083496, 10.622288703918457, 9.50943374633789, 8.532469749450684, 9.166598320007324, 9.638504028320312, 8.980632781982422, 11.135493278503418, 8.925643920898438, 8.807729721069336, 9.234561920166016, 9.268736839294434, 9.753896713256836, 9.501546859741211, 9.567703247070312, 8.237983703613281, 8.905794143676758, 10.52437686920166, 8.951850891113281, 9.52719783782959, 9.159566879272461, 8.30887508392334, 9.251276016235352, 8.055389404296875, 9.72247314453125, 8.413947105407715, 10.547386169433594, 9.549738883972168, 9.38699722290039, 9.214442253112793, 8.855438232421875, 9.35170841217041, 10.410829544067383, 9.747882843017578, 8.858698844909668, 8.97088623046875, 11.645590782165527, 11.920655250549316, 8.865215301513672, 8.424668312072754, 8.761311531066895, 11.76522159576416, 9.065510749816895, 8.831144332885742, 8.743021965026855, 14.345345497131348, 9.242905616760254, 8.440396308898926, 9.275856971740723, 10.872442245483398, 9.969682693481445, 8.437971115112305, 8.852734565734863, 10.179433822631836, 10.4308443069458, 10.439254760742188, 8.53419303894043, 9.305593490600586, 8.960659980773926, 8.393996238708496, 8.906693458557129, 10.374279975891113, 13.760638236999512, 8.490309715270996, 13.357034683227539, 9.317609786987305, 10.802103042602539, 8.455246925354004, 10.212964057922363, 8.474806785583496, 8.583709716796875, 9.736249923706055, 9.585088729858398, 8.927572250366211, 9.572694778442383, 10.171974182128906, 9.385926246643066, 9.524256706237793, 9.459685325622559, 8.7383394241333, 11.97669792175293, 10.990091323852539, 8.833937644958496, 9.272554397583008, 9.908500671386719, 10.187932968139648, 9.395410537719727, 9.886736869812012, 11.018589973449707, 10.8477783203125, 10.441587448120117, 10.705018997192383, 13.06344985961914, 9.39819622039795, 9.033063888549805, 11.870553970336914, 11.306999206542969, 9.486594200134277, 10.447813034057617, 12.466395378112793, 10.19631290435791, 10.822894096374512, 11.858664512634277, 11.048272132873535, 10.142074584960938, 10.585902214050293, 9.89799976348877, 10.885614395141602, 9.85771369934082, 9.169841766357422, 9.566169738769531, 10.529572486877441, 9.901212692260742, 10.826441764831543, 11.550009727478027, 9.98476505279541, 10.43746280670166, 9.830178260803223, 9.8303804397583, 10.491584777832031, 11.228270530700684, 10.636528015136719, 10.993375778198242, 10.71805477142334, 11.00032901763916, 11.053282737731934, 10.498235702514648, 11.432502746582031, 12.361183166503906, 11.116938591003418, 11.784265518188477, 10.44559383392334, 10.656847953796387, 10.0050630569458, 11.285797119140625, 11.743465423583984, 13.924619674682617, 10.72702693939209, 9.83219051361084, 11.02343463897705, 11.584883689880371, 11.057954788208008, 10.729464530944824, 11.09093952178955, 11.012145042419434, 11.102267265319824, 11.425143241882324, 10.258169174194336, 10.958062171936035, 11.899564743041992, 11.407039642333984, 16.77921485900879, 12.55420207977295, 11.320813179016113, 10.5016450881958, 11.003704071044922, 11.719144821166992, 11.680153846740723, 11.832212448120117, 11.124629974365234, 13.733413696289062, 13.133761405944824, 13.480881690979004, 14.837127685546875, 13.459625244140625, 19.084735870361328, 12.096090316772461, 11.808738708496094, 11.665943145751953, 10.972256660461426, 12.383389472961426, 12.123392105102539, 11.289499282836914, 11.830862045288086, 13.161330223083496, 11.343710899353027, 12.172390937805176, 13.176803588867188, 13.760226249694824, 14.062132835388184, 15.233602523803711, 12.146523475646973, 12.48271656036377, 11.648390769958496, 13.436356544494629, 11.176621437072754, 13.549094200134277, 16.77132797241211, 13.515751838684082, 13.641366004943848, 12.814300537109375, 13.578119277954102, 12.339988708496094, 13.829654693603516, 14.666275024414062, 13.35425853729248, 15.296365737915039, 13.053467750549316, 12.843891143798828, 12.701736450195312, 11.525800704956055, 11.34898567199707, 13.406960487365723, 13.305275917053223, 12.582592964172363, 14.530278205871582, 14.002984046936035, 12.191606521606445, 13.614108085632324, 12.900927543640137, 13.44201374053955, 11.82039737701416, 15.106921195983887, 13.475166320800781, 13.435315132141113, 13.882902145385742, 12.106185913085938, 13.04045581817627, 13.347922325134277, 11.573155403137207, 13.177756309509277, 12.373326301574707, 12.245925903320312, 12.553276062011719, 12.824910163879395, 13.124284744262695, 11.319601058959961, 12.503205299377441, 11.667679786682129, 14.542583465576172, 13.661653518676758, 13.62302303314209, 12.421594619750977, 15.400431632995605, 13.526834487915039, 12.85251235961914, 14.221556663513184, 15.978375434875488, 14.377571105957031, 13.36243724822998, 11.940351486206055, 12.587089538574219, 15.434986114501953, 13.195024490356445, 13.86020565032959, 15.270429611206055, 12.364679336547852, 13.481047630310059, 13.983772277832031, 13.381560325622559, 11.511162757873535, 13.604373931884766, 14.98576831817627, 11.965255737304688, 15.457284927368164, 13.711357116699219, 13.086846351623535, 14.265522003173828, 13.500664710998535, 13.337963104248047, 13.801623344421387, 13.071181297302246, 14.806074142456055, 12.352434158325195, 12.394631385803223, 15.347228050231934, 12.18663501739502, 12.585733413696289, 12.050758361816406, 14.049134254455566, 12.995176315307617, 13.025845527648926, 14.304437637329102, 13.197596549987793, 12.23452377319336, 17.742938995361328, 13.787616729736328, 12.591604232788086, 13.403727531433105, 12.954208374023438, 15.891655921936035, 12.98536491394043, 11.866103172302246, 13.112833976745605, 13.188373565673828, 13.060691833496094, 13.30581283569336, 13.410531044006348, 12.866216659545898, 12.710638046264648, 14.552186965942383, 14.338780403137207, 14.496514320373535, 12.79737377166748, 14.234908103942871, 15.244485855102539, 13.33398723602295, 13.488336563110352, 13.217288970947266, 13.03818416595459, 14.269681930541992, 13.494550704956055, 13.336496353149414, 12.495536804199219, 14.564032554626465, 14.472981452941895, 13.141443252563477, 13.10922908782959, 13.373147964477539, 13.254049301147461, 13.604605674743652, 12.7432222366333, 13.925414085388184, 12.547040939331055, 14.778149604797363, 13.885985374450684, 12.67663288116455, 13.33657455444336, 12.794307708740234, 12.843297004699707, 15.221818923950195, 13.821826934814453, 14.739116668701172, 13.436166763305664, 12.636425018310547, 13.599520683288574, 13.614561080932617, 14.606856346130371, 14.014636039733887, 14.233993530273438, 13.288887023925781, 13.630607604980469, 13.26755428314209, 14.460236549377441, 15.024313926696777, 14.032849311828613, 15.079105377197266, 14.532652854919434, 13.255960464477539, 12.27603816986084, 12.737007141113281, 13.327199935913086, 14.959193229675293, 13.220817565917969, 15.693613052368164, 13.927068710327148, 12.59788703918457, 14.204107284545898, 14.347824096679688, 13.677178382873535, 13.507803916931152, 13.339134216308594, 15.825421333312988, 13.346556663513184, 12.917276382446289, 13.918944358825684, 14.090996742248535, 13.889156341552734, 13.339211463928223, 13.92393970489502, 13.125041961669922, 14.442959785461426, 12.28123664855957, 13.811553955078125, 13.16989803314209, 15.276734352111816, 13.8029203414917, 12.757197380065918, 12.903860092163086, 13.363770484924316, 13.205281257629395, 14.880818367004395, 12.716950416564941, 16.05999755859375, 12.536115646362305, 12.421436309814453, 12.294364929199219, 12.828110694885254, 14.044722557067871, 14.704188346862793, 13.272272109985352, 13.253459930419922, 13.233537673950195, 12.972553253173828, 14.763350486755371, 14.356729507446289, 14.529740333557129, 13.789719581604004, 13.402770042419434, 13.835453987121582, 15.00132942199707, 14.937983512878418, 14.181118965148926, 13.736051559448242, 13.919432640075684, 14.468844413757324, 13.633983612060547, 13.989867210388184, 14.97669506072998, 14.264955520629883, 13.862968444824219, 13.754501342773438, 14.372275352478027, 12.924203872680664, 14.66102409362793, 14.728595733642578, 13.894064903259277, 14.133577346801758, 15.302705764770508, 14.457473754882812, 13.435683250427246, 13.84619140625, 14.260026931762695, 14.014259338378906, 13.888916969299316, 15.5442476272583, 14.242839813232422, 13.407527923583984, 13.892708778381348, 13.836777687072754, 14.069069862365723, 14.684660911560059, 14.55507755279541, 13.799595832824707, 15.266878128051758, 13.811445236206055, 14.783997535705566, 13.904964447021484, 13.879325866699219, 13.566299438476562, 13.406960487365723, 14.286223411560059, 15.555618286132812, 12.692169189453125, 13.979393005371094, 13.295849800109863, 14.686079978942871, 13.848123550415039, 14.577581405639648, 14.692752838134766, 12.68593692779541, 14.288541793823242, 13.714576721191406, 14.798637390136719, 14.060365676879883, 14.078604698181152, 15.254096031188965, 14.47122859954834, 13.975010871887207, 13.229947090148926, 13.214768409729004, 14.251668930053711, 13.863402366638184, 14.250039100646973, 12.65880012512207, 13.125248908996582, 12.800519943237305, 14.788444519042969, 14.09965991973877, 15.128164291381836, 14.160722732543945, 13.779287338256836, 15.050176620483398, 14.032602310180664, 15.24376392364502, 15.012916564941406, 14.016056060791016, 14.710756301879883, 13.733587265014648, 13.901937484741211, 13.40092945098877, 13.934844970703125, 14.47078800201416, 13.306848526000977], 'val_mae': [4.093820571899414, 3.1090855598449707, 2.6232082843780518, 2.4014928340911865, 2.562762498855591, 2.308894634246826, 2.5398597717285156, 2.2876415252685547, 2.3029134273529053, 2.059391975402832, 2.149250030517578, 2.2279534339904785, 2.1232051849365234, 2.191138505935669, 1.9907453060150146, 2.099405527114868, 2.0444087982177734, 2.192566156387329, 2.097463369369507, 1.993664026260376, 2.2202348709106445, 1.9894105195999146, 2.045450448989868, 2.381159782409668, 1.909273624420166, 2.4274072647094727, 2.4695301055908203, 2.0873429775238037, 2.149292230606079, 1.9383571147918701, 2.1409316062927246, 2.143608570098877, 1.9701277017593384, 2.1490750312805176, 2.1002018451690674, 1.9862061738967896, 2.017371654510498, 1.9489434957504272, 2.1596860885620117, 1.9742827415466309, 2.080042600631714, 1.8927640914916992, 2.026688575744629, 2.3136351108551025, 2.1743154525756836, 1.941896915435791, 1.8973562717437744, 1.8639488220214844, 1.9570810794830322, 1.8704224824905396, 2.183953285217285, 2.001211404800415, 2.2849724292755127, 2.223252296447754, 2.0812864303588867, 2.2996134757995605, 2.0987555980682373, 2.279498338699341, 2.4006142616271973, 2.1822123527526855, 2.0190882682800293, 2.195962429046631, 2.4852709770202637, 2.465179681777954, 2.0584328174591064, 1.9665488004684448, 2.016507387161255, 2.7839601039886475, 2.143369436264038, 2.0666468143463135, 2.078634738922119, 2.808096170425415, 1.9619286060333252, 2.1614274978637695, 2.113321304321289, 2.4288718700408936, 2.3228583335876465, 2.132967710494995, 1.9841127395629883, 2.477116107940674, 2.4058539867401123, 2.3685226440429688, 1.9823495149612427, 2.270443916320801, 1.9768800735473633, 2.1033315658569336, 2.213946580886841, 2.4064507484436035, 2.8387019634246826, 2.081176519393921, 2.7640810012817383, 2.2069432735443115, 2.4277243614196777, 2.0676448345184326, 2.369295358657837, 2.0393643379211426, 2.1522202491760254, 2.234553813934326, 2.1816227436065674, 2.1595840454101562, 2.331390619277954, 2.2087292671203613, 2.2875916957855225, 2.2250657081604004, 2.234938859939575, 1.9999887943267822, 2.4748520851135254, 2.4345057010650635, 2.2452945709228516, 2.2028636932373047, 2.3275270462036133, 2.28008770942688, 2.1080703735351562, 2.2405519485473633, 2.4425888061523438, 2.4768447875976562, 2.2638907432556152, 2.4383442401885986, 2.6503374576568604, 2.200923442840576, 2.125143051147461, 2.593353509902954, 2.4572906494140625, 2.2115530967712402, 2.2345359325408936, 2.5431435108184814, 2.216623067855835, 2.388688325881958, 2.400010585784912, 2.400628089904785, 2.280473232269287, 2.3083338737487793, 2.2934229373931885, 2.2532846927642822, 2.2539634704589844, 2.064131736755371, 2.1428706645965576, 2.200984001159668, 2.1787261962890625, 2.2787065505981445, 2.5296013355255127, 2.0995519161224365, 2.309098482131958, 2.168714761734009, 2.217721700668335, 2.3273048400878906, 2.2693052291870117, 2.3917407989501953, 2.340895652770996, 2.3541061878204346, 2.331730604171753, 2.249098777770996, 2.2784485816955566, 2.422814130783081, 2.632676839828491, 2.3951914310455322, 2.4006834030151367, 2.224504232406616, 2.232598304748535, 2.3455212116241455, 2.4656548500061035, 2.3597588539123535, 2.709735155105591, 2.317094326019287, 2.206594705581665, 2.354681968688965, 2.4781739711761475, 2.363074541091919, 2.271641731262207, 2.36991024017334, 2.462374687194824, 2.3531486988067627, 2.475504159927368, 2.3263370990753174, 2.308961868286133, 2.6126186847686768, 2.4271509647369385, 2.985177516937256, 2.5959815979003906, 2.4585726261138916, 2.2701311111450195, 2.437427282333374, 2.311809778213501, 2.4147520065307617, 2.41033673286438, 2.436257839202881, 2.688610315322876, 2.5695769786834717, 2.7117855548858643, 2.672801971435547, 2.477266788482666, 3.0797290802001953, 2.541975975036621, 2.3762688636779785, 2.5220248699188232, 2.2824594974517822, 2.4889936447143555, 2.500591516494751, 2.33070969581604, 2.511282444000244, 2.495225191116333, 2.456155776977539, 2.4985337257385254, 2.4813363552093506, 2.4802255630493164, 2.5807108879089355, 2.72686767578125, 2.607382297515869, 2.5550942420959473, 2.499523401260376, 2.7290244102478027, 2.354029893875122, 2.8066179752349854, 2.9423024654388428, 2.5548667907714844, 2.6292500495910645, 2.462400197982788, 2.520984411239624, 2.3952035903930664, 2.6228060722351074, 2.914997100830078, 2.7321977615356445, 2.5802180767059326, 2.4828953742980957, 2.4320664405822754, 2.5011260509490967, 2.3366000652313232, 2.356294631958008, 2.594118356704712, 2.5664050579071045, 2.520841598510742, 2.786182165145874, 2.711897373199463, 2.4529011249542236, 2.615506887435913, 2.454463243484497, 2.6039092540740967, 2.3205060958862305, 2.775139331817627, 2.623946189880371, 2.5491650104522705, 2.539536476135254, 2.454155921936035, 2.6099295616149902, 2.462472677230835, 2.389885902404785, 2.440873861312866, 2.5254783630371094, 2.365443229675293, 2.5110669136047363, 2.463534116744995, 2.5986430644989014, 2.401360034942627, 2.593574047088623, 2.354060649871826, 2.5982460975646973, 2.6356890201568604, 2.57271671295166, 2.4558029174804688, 2.6854453086853027, 2.532405376434326, 2.478875160217285, 2.626668691635132, 2.8941969871520996, 2.7386486530303955, 2.754204750061035, 2.379335880279541, 2.5465075969696045, 2.6912357807159424, 2.567189931869507, 2.608372688293457, 2.9406092166900635, 2.4098873138427734, 2.4928104877471924, 2.6567282676696777, 2.6350369453430176, 2.397181987762451, 2.7978885173797607, 2.784825325012207, 2.435061454772949, 2.9021873474121094, 2.7319564819335938, 2.6210665702819824, 2.6889564990997314, 2.6933391094207764, 2.674403667449951, 2.829141855239868, 2.547261953353882, 2.7696118354797363, 2.4911110401153564, 2.455674648284912, 2.797837018966675, 2.582620143890381, 2.521770477294922, 2.4433093070983887, 2.6318023204803467, 2.6627185344696045, 2.6867833137512207, 2.7364420890808105, 2.586441993713379, 2.4328763484954834, 3.2069754600524902, 2.6061878204345703, 2.4756064414978027, 2.5496485233306885, 2.6555230617523193, 2.882727861404419, 2.4306979179382324, 2.478027582168579, 2.5234198570251465, 2.6394238471984863, 2.4795496463775635, 2.724219560623169, 2.636237144470215, 2.525522470474243, 2.4814867973327637, 2.7146730422973633, 2.6453471183776855, 2.718259572982788, 2.4495482444763184, 2.749286413192749, 2.7897675037384033, 2.5101587772369385, 2.6152353286743164, 2.423309087753296, 2.4789164066314697, 2.8330790996551514, 2.546147346496582, 2.475074052810669, 2.5024607181549072, 2.6731717586517334, 2.7368624210357666, 2.6116549968719482, 2.481679916381836, 2.5903589725494385, 2.4389352798461914, 2.503875494003296, 2.5629615783691406, 2.6490628719329834, 2.488440752029419, 2.633979320526123, 2.6324009895324707, 2.4933502674102783, 2.528563976287842, 2.5023958683013916, 2.3828980922698975, 2.7808191776275635, 2.6293535232543945, 2.6196703910827637, 2.6650514602661133, 2.4523048400878906, 2.506277561187744, 2.718143939971924, 2.7480058670043945, 2.6255648136138916, 2.7925021648406982, 2.4956886768341064, 2.6107401847839355, 2.54852294921875, 2.7426700592041016, 2.6563289165496826, 2.65799880027771, 2.6602420806884766, 2.7180674076080322, 2.5233588218688965, 2.464925527572632, 2.537205457687378, 2.4805798530578613, 2.8215649127960205, 2.5727157592773438, 2.7820229530334473, 2.5904040336608887, 2.457181930541992, 2.6338083744049072, 2.6345467567443848, 2.5905516147613525, 2.6303563117980957, 2.61746883392334, 2.6731655597686768, 2.5512990951538086, 2.5562076568603516, 2.7077951431274414, 2.6392056941986084, 2.6492390632629395, 2.518681526184082, 2.588019847869873, 2.4254419803619385, 2.6523854732513428, 2.515669345855713, 2.5889008045196533, 2.472160816192627, 2.722562074661255, 2.592806100845337, 2.4668970108032227, 2.3975203037261963, 2.5420496463775635, 2.5807549953460693, 2.757901668548584, 2.514195442199707, 2.7925057411193848, 2.3877527713775635, 2.483628273010254, 2.417861223220825, 2.45133376121521, 2.632145881652832, 2.6453678607940674, 2.627392053604126, 2.5204780101776123, 2.5722811222076416, 2.5409955978393555, 2.636073589324951, 2.572147846221924, 2.6045167446136475, 2.5937538146972656, 2.5070972442626953, 2.727801561355591, 2.7872912883758545, 2.7296700477600098, 2.5888264179229736, 2.5918941497802734, 2.535222053527832, 2.6204893589019775, 2.61659836769104, 2.5713956356048584, 2.6930015087127686, 2.66367244720459, 2.6703412532806396, 2.6657931804656982, 2.6591269969940186, 2.37420916557312, 2.6287550926208496, 2.6789309978485107, 2.6196789741516113, 2.5711569786071777, 2.7582712173461914, 2.62160325050354, 2.453291177749634, 2.5279650688171387, 2.5928986072540283, 2.713381290435791, 2.644775390625, 2.6497552394866943, 2.5830633640289307, 2.5235328674316406, 2.570918083190918, 2.5943119525909424, 2.525008201599121, 2.600985050201416, 2.725947856903076, 2.673095703125, 2.6641364097595215, 2.4852294921875, 2.604410409927368, 2.4946255683898926, 2.64672589302063, 2.5786728858947754, 2.5442121028900146, 2.6449198722839355, 2.6854405403137207, 2.455660581588745, 2.5131797790527344, 2.4961650371551514, 2.6618618965148926, 2.5479509830474854, 2.532632350921631, 2.683929204940796, 2.4458937644958496, 2.5715181827545166, 2.5812928676605225, 2.6452739238739014, 2.5318686962127686, 2.556032180786133, 2.6919145584106445, 2.5875964164733887, 2.4908547401428223, 2.531867504119873, 2.5243279933929443, 2.659165143966675, 2.5615978240966797, 2.559999704360962, 2.557966470718384, 2.4345738887786865, 2.4363903999328613, 2.6705145835876465, 2.6463756561279297, 2.8032612800598145, 2.615893602371216, 2.5000247955322266, 2.6799938678741455, 2.566032886505127, 2.7865281105041504, 2.7073428630828857, 2.5063693523406982, 2.763324737548828, 2.6039679050445557, 2.636526584625244, 2.5142598152160645, 2.46282958984375, 2.5856525897979736, 2.52531361579895]}\n",
            "processing fold # 1\n",
            "{'loss': [238.28326416015625, 27.66679573059082, 19.966873168945312, 16.42442512512207, 14.625354766845703, 13.443662643432617, 13.10007381439209, 12.38070297241211, 12.348610877990723, 11.210726737976074, 11.291539192199707, 10.84849739074707, 10.870223045349121, 11.019133567810059, 10.672532081604004, 10.484832763671875, 10.566993713378906, 10.349237442016602, 9.739148139953613, 9.705126762390137, 9.951952934265137, 9.469978332519531, 9.404800415039062, 9.42501163482666, 9.441263198852539, 9.017715454101562, 9.26344108581543, 9.105799674987793, 8.806723594665527, 8.441547393798828, 8.629672050476074, 8.656561851501465, 8.712587356567383, 8.457002639770508, 8.50780963897705, 8.221522331237793, 7.830308437347412, 8.08582878112793, 7.756962299346924, 7.417346477508545, 7.656406402587891, 7.124176502227783, 7.597561359405518, 7.825239658355713, 7.226163864135742, 7.653078556060791, 7.065114498138428, 7.369318008422852, 6.745224475860596, 7.102627754211426, 6.5219831466674805, 6.957879066467285, 6.757011413574219, 7.07135009765625, 6.603851795196533, 6.815143585205078, 7.016745567321777, 6.64069128036499, 6.560568809509277, 6.4135026931762695, 6.173375606536865, 5.971600532531738, 6.211758136749268, 6.229028701782227, 6.2238287925720215, 6.028789043426514, 5.609348297119141, 5.962325096130371, 5.3976664543151855, 5.713473320007324, 5.605146408081055, 5.482136249542236, 5.3053154945373535, 5.473634243011475, 5.703080177307129, 5.5838623046875, 5.366438865661621, 5.7278571128845215, 5.319218158721924, 5.214579105377197, 5.13437032699585, 5.118939399719238, 5.08906888961792, 4.6364545822143555, 5.329577922821045, 5.224961280822754, 4.915306568145752, 4.721283435821533, 4.883178234100342, 4.86879301071167, 4.612692356109619, 4.819720268249512, 4.356687545776367, 4.354769229888916, 4.274425029754639, 4.538638591766357, 4.447389125823975, 3.923978805541992, 4.311524868011475, 4.147390365600586, 4.219927787780762, 4.015987396240234, 3.937814950942993, 3.9533755779266357, 3.9465372562408447, 3.855712890625, 3.6575214862823486, 3.6687822341918945, 3.9973809719085693, 3.850098133087158, 3.6662912368774414, 3.8678295612335205, 3.7030975818634033, 3.7621521949768066, 3.4977903366088867, 3.326303005218506, 3.3823931217193604, 3.614851236343384, 3.2855300903320312, 3.5167200565338135, 3.5061988830566406, 3.3387975692749023, 3.4210870265960693, 3.4327259063720703, 3.074836015701294, 3.073326587677002, 2.9268949031829834, 2.9484856128692627, 2.8946619033813477, 2.9804153442382812, 3.050292491912842, 2.9220054149627686, 2.8943495750427246, 2.619518280029297, 2.999164342880249, 3.100538492202759, 3.1333603858947754, 2.8599607944488525, 2.998366355895996, 2.3519530296325684, 2.6047861576080322, 2.7014360427856445, 2.6650173664093018, 2.7362635135650635, 2.698256492614746, 2.76835298538208, 2.749051809310913, 2.679661512374878, 2.5429770946502686, 2.320004463195801, 2.6786797046661377, 2.379441976547241, 2.488821268081665, 2.7230279445648193, 2.4218027591705322, 2.369166374206543, 2.2139031887054443, 2.3949835300445557, 2.3353402614593506, 2.1608359813690186, 2.476562976837158, 2.0620903968811035, 2.4662935733795166, 2.4342150688171387, 2.1407017707824707, 2.0669667720794678, 1.9945193529129028, 2.105081081390381, 2.1417651176452637, 2.199496269226074, 2.030620813369751, 2.0174129009246826, 2.247016429901123, 1.9045990705490112, 2.2109556198120117, 2.163517951965332, 2.1541330814361572, 2.0967772006988525, 1.8322252035140991, 1.9451626539230347, 1.8845561742782593, 2.202897548675537, 2.11155104637146, 1.976370930671692, 1.9131797552108765, 1.9636949300765991, 1.9718239307403564, 1.8115309476852417, 1.8686684370040894, 1.9590202569961548, 1.7373383045196533, 1.6814247369766235, 1.8534291982650757, 1.7290199995040894, 1.7721589803695679, 1.8758392333984375, 1.7864429950714111, 1.6815685033798218, 1.8922609090805054, 1.8024802207946777, 1.8306437730789185, 1.7886195182800293, 1.6121175289154053, 1.8383129835128784, 1.6152008771896362, 1.7263498306274414, 1.5934263467788696, 1.6400837898254395, 1.754016637802124, 1.4861410856246948, 1.6173250675201416, 1.6316527128219604, 1.7925931215286255, 1.4965027570724487, 1.6665561199188232, 1.7527433633804321, 1.6117711067199707, 1.6627159118652344, 1.4949578046798706, 1.5600641965866089, 1.479194164276123, 1.5684043169021606, 1.5847103595733643, 1.6219042539596558, 1.4607160091400146, 1.6302963495254517, 1.7089358568191528, 1.6042695045471191, 1.4170567989349365, 1.3805298805236816, 1.4361032247543335, 1.476157546043396, 1.284087061882019, 1.4977861642837524, 1.3878806829452515, 1.6201364994049072, 1.5189939737319946, 1.1131597757339478, 1.5005444288253784, 1.32823646068573, 1.3557969331741333, 1.4800561666488647, 1.4292949438095093, 1.4860235452651978, 1.379184365272522, 1.5143009424209595, 1.4722347259521484, 1.3750983476638794, 1.4330905675888062, 1.3774089813232422, 1.3593753576278687, 1.4448705911636353, 1.3039673566818237, 1.3711401224136353, 1.3780385255813599, 1.2659791707992554, 1.3523309230804443, 1.3431522846221924, 1.3254855871200562, 1.3280082941055298, 1.5919076204299927, 1.4440983533859253, 1.3090031147003174, 1.26951003074646, 1.3814746141433716, 1.4440877437591553, 1.2718108892440796, 1.3128186464309692, 1.436554193496704, 1.2750455141067505, 1.306917428970337, 1.374733328819275, 1.2377127408981323, 1.3500648736953735, 1.3492225408554077, 1.317934513092041, 1.3518226146697998, 1.1598950624465942, 1.2450026273727417, 1.337022066116333, 1.1490449905395508, 1.3343690633773804, 1.182533621788025, 1.0663559436798096, 1.1722041368484497, 1.349334478378296, 1.1661715507507324, 1.3068673610687256, 1.2379428148269653, 1.2297534942626953, 1.3452197313308716, 1.2209233045578003, 1.2628676891326904, 0.9748156666755676, 1.3334450721740723, 1.2958072423934937, 1.1520979404449463, 1.0898547172546387, 1.1327675580978394, 1.2722262144088745, 1.1193475723266602, 1.1344685554504395, 1.0998286008834839, 1.0746519565582275, 1.2735445499420166, 1.1837408542633057, 1.081161618232727, 1.17539381980896, 1.070132851600647, 1.1869627237319946, 1.1152406930923462, 1.1900780200958252, 1.1436474323272705, 1.184699296951294, 1.0144270658493042, 1.0265668630599976, 1.0865007638931274, 1.0962889194488525, 1.1673320531845093, 1.0906577110290527, 1.025295615196228, 1.1782747507095337, 1.0717698335647583, 1.097371220588684, 1.0857930183410645, 1.0606814622879028, 1.0358961820602417, 1.1307904720306396, 0.9632267355918884, 1.1008001565933228, 1.1135846376419067, 1.113848090171814, 1.0855543613433838, 1.132407546043396, 1.0212494134902954, 0.9958446621894836, 1.1021835803985596, 1.1108254194259644, 1.1179059743881226, 1.0518802404403687, 0.9918237328529358, 1.1035093069076538, 1.069635033607483, 1.0425835847854614, 1.0770812034606934, 1.0486514568328857, 1.0513877868652344, 1.017501950263977, 1.0522469282150269, 1.0032483339309692, 1.0121294260025024, 1.0206899642944336, 0.9981011748313904, 1.0921701192855835, 0.9918967485427856, 1.072403073310852, 1.0491106510162354, 1.0385725498199463, 0.9167394638061523, 0.9927915930747986, 1.2066888809204102, 1.026415228843689, 1.0065405368804932, 0.9762641787528992, 0.946454644203186, 1.0620477199554443, 1.0614694356918335, 0.9727932214736938, 1.0338594913482666, 0.9926006197929382, 0.9709696173667908, 0.9465444684028625, 1.0549551248550415, 0.9189537763595581, 0.9825670123100281, 0.9092901945114136, 1.0067708492279053, 1.0205978155136108, 0.8199485540390015, 0.9485008120536804, 0.8806683421134949, 1.0538008213043213, 0.867957592010498, 1.0607166290283203, 0.9273264408111572, 1.0960767269134521, 0.9732886552810669, 0.8358873724937439, 0.9633790850639343, 0.7473425269126892, 0.9365190267562866, 0.9727339148521423, 0.9179117679595947, 0.9665130376815796, 0.8442589044570923, 0.9223517179489136, 0.8249484896659851, 1.1171107292175293, 1.0087963342666626, 0.8051772117614746, 0.8850544095039368, 0.9986826181411743, 0.9075807929039001, 0.9219122529029846, 0.9498225450515747, 0.9904438853263855, 0.7770492434501648, 0.9332244396209717, 0.9265946745872498, 0.8932943344116211, 0.8889694809913635, 0.8922614455223083, 0.9534504413604736, 0.8448901176452637, 0.926577627658844, 0.9415904879570007, 0.8130075931549072, 1.0034511089324951, 0.9728872179985046, 0.8490248918533325, 0.8438954949378967, 0.8764394521713257, 0.9172329306602478, 0.9239732623100281, 0.8915199041366577, 0.8394874334335327, 0.8767824172973633, 0.8435953259468079, 0.9153599739074707, 0.8890252113342285, 0.7855800986289978, 0.8198487162590027, 0.9483126997947693, 0.8904686570167542, 0.9053693413734436, 0.8778003454208374, 0.8124490976333618, 0.8346966505050659, 0.9451403617858887, 0.8827103972434998, 0.8183302879333496, 0.9797818660736084, 0.8324923515319824, 0.9122859239578247, 0.7703219056129456, 0.8230808973312378, 0.7986686825752258, 0.9353732466697693, 0.8233059644699097, 0.8136276602745056, 0.7544268369674683, 0.8169193863868713, 0.8090643882751465, 0.8299068808555603, 0.7607904076576233, 0.8365496397018433, 0.7661731243133545, 0.8657160997390747, 0.8765225410461426, 0.8221995830535889, 0.8621909618377686, 0.6936357617378235, 0.8408746719360352, 0.7520568370819092, 0.8253740072250366, 0.7557958960533142, 0.8577041029930115, 0.8846038579940796, 0.8561620116233826, 0.8641690015792847, 0.8919071555137634, 0.7737374305725098, 0.9182311296463013, 0.7345508337020874, 0.7874810695648193, 0.8628652095794678, 0.7400624752044678, 0.7809329628944397, 0.8237032294273376, 0.7983376979827881, 0.7232120037078857, 0.7786104679107666, 0.7852867245674133, 0.7143516540527344, 0.8786932229995728, 0.7141275405883789, 0.7648836374282837, 0.778413712978363, 0.7881913781166077, 0.747252345085144, 0.7922742962837219, 0.7965515851974487, 0.809635579586029, 0.8050200343132019, 0.8014547824859619, 0.7309851050376892, 0.7662842869758606, 0.7812731862068176, 0.8576253056526184, 0.6603678464889526], 'mae': [11.686628341674805, 3.613234043121338, 2.943784236907959, 2.6765177249908447, 2.533364772796631, 2.4228568077087402, 2.3656985759735107, 2.253024101257324, 2.2499892711639404, 2.1549394130706787, 2.1917381286621094, 2.2539548873901367, 2.061464309692383, 2.1495089530944824, 2.091402053833008, 2.0377936363220215, 2.047769546508789, 2.0008559226989746, 1.9782458543777466, 2.0381929874420166, 2.00374698638916, 1.9585182666778564, 1.9585098028182983, 1.9834848642349243, 1.9640357494354248, 1.9788540601730347, 1.9561303853988647, 1.910725712776184, 1.9225330352783203, 1.8581873178482056, 1.9061110019683838, 1.9028465747833252, 1.8451590538024902, 1.8452826738357544, 1.8674076795578003, 1.7960877418518066, 1.8067983388900757, 1.782758116722107, 1.7934643030166626, 1.7942023277282715, 1.7924319505691528, 1.7720710039138794, 1.789871096611023, 1.819284200668335, 1.749143123626709, 1.7629696130752563, 1.7428267002105713, 1.7192274332046509, 1.654318928718567, 1.7746281623840332, 1.6280676126480103, 1.7141798734664917, 1.6252433061599731, 1.647934079170227, 1.685988187789917, 1.630190134048462, 1.6197303533554077, 1.6834989786148071, 1.6319245100021362, 1.6169923543930054, 1.5473253726959229, 1.6278095245361328, 1.6344740390777588, 1.5757670402526855, 1.6308808326721191, 1.5833297967910767, 1.5649968385696411, 1.5993045568466187, 1.5868384838104248, 1.5591148138046265, 1.5783822536468506, 1.5308912992477417, 1.47697114944458, 1.524336814880371, 1.5181031227111816, 1.4761887788772583, 1.5031009912490845, 1.4630886316299438, 1.4702450037002563, 1.468953013420105, 1.4571852684020996, 1.492329478263855, 1.4702242612838745, 1.4543484449386597, 1.467490792274475, 1.4271475076675415, 1.4436161518096924, 1.4533227682113647, 1.4693427085876465, 1.3948801755905151, 1.394516944885254, 1.4533075094223022, 1.4447245597839355, 1.3636245727539062, 1.3565418720245361, 1.3761820793151855, 1.3841824531555176, 1.2830051183700562, 1.3810828924179077, 1.3130288124084473, 1.3752188682556152, 1.330428123474121, 1.3251290321350098, 1.3165032863616943, 1.3464539051055908, 1.3043544292449951, 1.3077317476272583, 1.2810866832733154, 1.3402833938598633, 1.2816561460494995, 1.2890933752059937, 1.3265125751495361, 1.2638731002807617, 1.280356526374817, 1.250938057899475, 1.2146376371383667, 1.2462042570114136, 1.2214363813400269, 1.2089632749557495, 1.2506681680679321, 1.2448554039001465, 1.1828619241714478, 1.2353692054748535, 1.2406044006347656, 1.1741344928741455, 1.2016444206237793, 1.204818606376648, 1.2613822221755981, 1.1289058923721313, 1.1638362407684326, 1.240649700164795, 1.1663511991500854, 1.2115070819854736, 1.1886022090911865, 1.1951855421066284, 1.2412419319152832, 1.198644757270813, 1.141562819480896, 1.2001398801803589, 1.0576368570327759, 1.1051673889160156, 1.1347318887710571, 1.167645812034607, 1.125838041305542, 1.1005114316940308, 1.1239336729049683, 1.1970462799072266, 1.1146671772003174, 1.0769673585891724, 1.090874433517456, 1.116416573524475, 1.0766288042068481, 1.1005009412765503, 1.147180199623108, 1.0966182947158813, 1.037088394165039, 1.0516632795333862, 1.1117180585861206, 1.0836048126220703, 1.0409597158432007, 1.0636035203933716, 1.0392192602157593, 1.0864081382751465, 1.0373501777648926, 1.0288517475128174, 1.0698999166488647, 1.0274749994277954, 1.0157946348190308, 1.0455012321472168, 1.04249107837677, 1.03761625289917, 0.974773645401001, 1.0678009986877441, 1.0041242837905884, 1.0334771871566772, 0.9919545650482178, 1.0278100967407227, 0.9680390357971191, 0.9676180481910706, 0.971657931804657, 1.0103248357772827, 1.0373214483261108, 0.9985206723213196, 0.9747704267501831, 1.0369116067886353, 1.0009112358093262, 1.0211942195892334, 0.9740562438964844, 0.9378637671470642, 0.9974486231803894, 0.9296913146972656, 0.9615603685379028, 0.955300509929657, 0.9478921890258789, 0.9265453815460205, 1.0001106262207031, 0.9608450531959534, 0.9404733180999756, 0.9702408313751221, 0.9584978818893433, 0.9783715009689331, 0.9269722700119019, 0.9008961319923401, 0.9704163670539856, 0.9363758563995361, 0.9515031576156616, 0.9186052680015564, 0.8913128972053528, 0.969062328338623, 0.8363760709762573, 0.9310857653617859, 0.9250824451446533, 0.9682037234306335, 0.9107032418251038, 0.9410162568092346, 0.9675615429878235, 0.9202392101287842, 0.9465481042861938, 0.8537651896476746, 0.9230497479438782, 0.8974505662918091, 0.8912858366966248, 0.8725292086601257, 0.9213470220565796, 0.8894317150115967, 0.9275699853897095, 0.9016596674919128, 0.867261528968811, 0.8615500926971436, 0.8843503594398499, 0.8798341751098633, 0.8920652866363525, 0.8419813513755798, 0.8797308206558228, 0.8643240928649902, 0.9019036889076233, 0.8589648604393005, 0.7977550029754639, 0.8931601643562317, 0.8643174171447754, 0.8715378046035767, 0.8737257122993469, 0.8745962977409363, 0.8833032846450806, 0.8445376753807068, 0.8946153521537781, 0.8537268042564392, 0.8281720876693726, 0.8852641582489014, 0.8606844544410706, 0.8699017763137817, 0.8391018509864807, 0.8310674428939819, 0.8363212943077087, 0.8947497010231018, 0.8255114555358887, 0.8507351875305176, 0.8527247905731201, 0.8636637926101685, 0.8429511189460754, 0.8596747517585754, 0.8675239086151123, 0.8258209228515625, 0.8168074488639832, 0.8783558011054993, 0.8791391849517822, 0.8028066158294678, 0.8543194532394409, 0.8638461828231812, 0.8261825442314148, 0.8229986429214478, 0.8538787961006165, 0.846256673336029, 0.8184579014778137, 0.8293670415878296, 0.8389990329742432, 0.8370482921600342, 0.8170003890991211, 0.8041233420372009, 0.8407562971115112, 0.7984629273414612, 0.8323673009872437, 0.8223492503166199, 0.7616109848022461, 0.7860885262489319, 0.8476004600524902, 0.7887564897537231, 0.8537359833717346, 0.8099350929260254, 0.7888203263282776, 0.8065809607505798, 0.802371084690094, 0.787766695022583, 0.7313572764396667, 0.8758090734481812, 0.812502384185791, 0.7725734114646912, 0.7803356647491455, 0.7823501229286194, 0.806622326374054, 0.7703707218170166, 0.7598894238471985, 0.7833618521690369, 0.7967586517333984, 0.8338485956192017, 0.7902356386184692, 0.7981659770011902, 0.8037144541740417, 0.743004560470581, 0.7659197449684143, 0.7673230767250061, 0.7882966995239258, 0.8094245195388794, 0.7975773811340332, 0.785395622253418, 0.7581554651260376, 0.7805550694465637, 0.7640487551689148, 0.7474585771560669, 0.7684831619262695, 0.744652271270752, 0.8475611805915833, 0.7497940063476562, 0.7786178588867188, 0.7731715440750122, 0.7760345935821533, 0.7385703921318054, 0.7634150981903076, 0.7138303518295288, 0.7806033492088318, 0.7651456594467163, 0.7725310325622559, 0.770343542098999, 0.7655252814292908, 0.7355392575263977, 0.7342016696929932, 0.7561460733413696, 0.7349067330360413, 0.7824710607528687, 0.7426850199699402, 0.7309997081756592, 0.7548863291740417, 0.7666307687759399, 0.7660062313079834, 0.7392175197601318, 0.7717341780662537, 0.7476216554641724, 0.7627192139625549, 0.7480760812759399, 0.7044918537139893, 0.7347568869590759, 0.7395503520965576, 0.7235901355743408, 0.765666127204895, 0.7496229410171509, 0.7619693279266357, 0.7484087944030762, 0.7217851877212524, 0.7242330312728882, 0.7312088012695312, 0.7867044806480408, 0.7259353399276733, 0.7569880485534668, 0.7395322322845459, 0.6983605027198792, 0.7600266337394714, 0.7556583285331726, 0.7345128059387207, 0.7509403228759766, 0.7184524536132812, 0.7669733166694641, 0.7109922766685486, 0.7129884958267212, 0.7162706255912781, 0.7217351794242859, 0.7013901472091675, 0.7432218194007874, 0.7042049169540405, 0.6956839561462402, 0.7005747556686401, 0.6878283023834229, 0.7330792546272278, 0.7015335559844971, 0.7274754047393799, 0.7138140797615051, 0.7484139204025269, 0.7080582976341248, 0.6905703544616699, 0.711458146572113, 0.6645560264587402, 0.7320086359977722, 0.7227427959442139, 0.6963477730751038, 0.6999073624610901, 0.6905325651168823, 0.7114615440368652, 0.6456092596054077, 0.7545766234397888, 0.6964067220687866, 0.6706691980361938, 0.6885547041893005, 0.7107260823249817, 0.6864087581634521, 0.6890996694564819, 0.6859346628189087, 0.7262154817581177, 0.658075213432312, 0.6948739886283875, 0.6928377151489258, 0.6986213326454163, 0.6931822896003723, 0.6750708222389221, 0.7097942233085632, 0.6867029070854187, 0.711042582988739, 0.6647035479545593, 0.6836132407188416, 0.7151179313659668, 0.7399718761444092, 0.6608404517173767, 0.6837955117225647, 0.6907387375831604, 0.6884195804595947, 0.6882153749465942, 0.6862187385559082, 0.6644989848136902, 0.692427396774292, 0.6933029890060425, 0.7208505272865295, 0.6765291094779968, 0.637736976146698, 0.6619280576705933, 0.6838968396186829, 0.6722241044044495, 0.6710225939750671, 0.6819213628768921, 0.6669915318489075, 0.665449857711792, 0.6895305514335632, 0.6968066096305847, 0.65692538022995, 0.7104937434196472, 0.6786925792694092, 0.6786108016967773, 0.6468682885169983, 0.6710947751998901, 0.6453633308410645, 0.7215782403945923, 0.6720018982887268, 0.641095757484436, 0.6346350908279419, 0.6595156192779541, 0.6578012108802795, 0.6868645548820496, 0.6611847877502441, 0.6814479231834412, 0.6233859658241272, 0.6597766876220703, 0.6319060921669006, 0.661113440990448, 0.663099467754364, 0.6224361062049866, 0.6648716330528259, 0.6303209066390991, 0.6327898502349854, 0.6318621039390564, 0.6731235980987549, 0.6842575669288635, 0.6881519556045532, 0.67418372631073, 0.6512579321861267, 0.6324610710144043, 0.6770403981208801, 0.6329565048217773, 0.6296093463897705, 0.6692832708358765, 0.6425150632858276, 0.6462357640266418, 0.6619105935096741, 0.6712378859519958, 0.6097511053085327, 0.6610742807388306, 0.6183452010154724, 0.6330775618553162, 0.702505886554718, 0.6522838473320007, 0.6440460681915283, 0.6385007500648499, 0.6619464755058289, 0.635962188243866, 0.6302865147590637, 0.6191121935844421, 0.6336312890052795, 0.6423276662826538, 0.6162016987800598, 0.6279712319374084, 0.6190035343170166, 0.6452324986457825, 0.6743642687797546, 0.5852117538452148], 'val_loss': [31.928186416625977, 18.062509536743164, 16.084014892578125, 14.825544357299805, 13.911291122436523, 13.64330005645752, 13.666802406311035, 12.483880996704102, 13.056260108947754, 13.53490161895752, 13.961935043334961, 12.22593879699707, 11.43005084991455, 11.815024375915527, 11.560514450073242, 11.864867210388184, 12.678101539611816, 11.715010643005371, 12.442485809326172, 11.177511215209961, 11.678305625915527, 11.086995124816895, 11.60960578918457, 10.904533386230469, 10.961348533630371, 11.077437400817871, 10.935283660888672, 10.152283668518066, 10.43626880645752, 11.911770820617676, 9.85406494140625, 9.97881031036377, 11.283528327941895, 10.187183380126953, 11.766544342041016, 12.79834270477295, 10.442925453186035, 10.486889839172363, 10.403672218322754, 9.211280822753906, 11.520084381103516, 9.940171241760254, 11.34634017944336, 10.300808906555176, 12.19675350189209, 9.846809387207031, 10.146740913391113, 9.615504264831543, 11.680732727050781, 9.599832534790039, 9.600635528564453, 9.49307632446289, 10.909942626953125, 13.802635192871094, 10.406881332397461, 12.47196102142334, 9.007323265075684, 10.461085319519043, 9.299910545349121, 9.460281372070312, 9.653538703918457, 10.33937931060791, 11.368450164794922, 8.965142250061035, 9.200027465820312, 10.26120662689209, 8.486801147460938, 10.974323272705078, 9.240492820739746, 9.513921737670898, 8.361410140991211, 10.491951942443848, 10.894482612609863, 10.016633033752441, 9.385248184204102, 11.09740161895752, 9.757112503051758, 12.585723876953125, 10.61369800567627, 11.776167869567871, 11.100729942321777, 11.495888710021973, 10.400450706481934, 15.1821870803833, 11.017175674438477, 8.969770431518555, 13.170907974243164, 9.897809982299805, 12.089164733886719, 10.174949645996094, 12.712289810180664, 11.31518268585205, 10.881898880004883, 9.440958023071289, 11.331794738769531, 13.620807647705078, 10.810977935791016, 11.760232925415039, 11.056465148925781, 18.735685348510742, 16.472803115844727, 12.051824569702148, 11.266270637512207, 13.893390655517578, 12.408344268798828, 13.344167709350586, 12.657010078430176, 13.758590698242188, 13.189668655395508, 12.756243705749512, 14.332283020019531, 13.1824951171875, 14.597408294677734, 14.365306854248047, 12.266792297363281, 14.493884086608887, 11.11586856842041, 16.738788604736328, 19.415870666503906, 18.500232696533203, 19.052343368530273, 20.63945198059082, 24.98042106628418, 18.784982681274414, 19.730236053466797, 17.362041473388672, 15.117019653320312, 19.874549865722656, 14.7706937789917, 22.398372650146484, 19.53756332397461, 20.97081756591797, 18.110828399658203, 24.416927337646484, 25.636104583740234, 19.280183792114258, 23.64797592163086, 19.38062286376953, 19.43987464904785, 29.36594581604004, 24.548734664916992, 19.149744033813477, 23.887592315673828, 26.94992446899414, 25.765586853027344, 20.204849243164062, 20.664865493774414, 20.621597290039062, 20.79631996154785, 29.530004501342773, 20.768463134765625, 22.111042022705078, 19.702877044677734, 25.781822204589844, 20.68811798095703, 26.049449920654297, 23.28812026977539, 31.730785369873047, 28.666561126708984, 22.596763610839844, 26.887733459472656, 27.619159698486328, 26.28732681274414, 27.94161605834961, 24.421546936035156, 21.988971710205078, 27.621992111206055, 21.721050262451172, 19.105510711669922, 22.698976516723633, 23.083740234375, 36.61247253417969, 32.945274353027344, 21.740394592285156, 29.161550521850586, 33.296138763427734, 23.12560272216797, 31.77872085571289, 29.147605895996094, 30.178142547607422, 34.50738525390625, 34.71331787109375, 26.71896743774414, 28.4650936126709, 32.67319107055664, 31.60807991027832, 27.545909881591797, 30.837852478027344, 24.231904983520508, 29.101303100585938, 29.017847061157227, 28.283336639404297, 38.74155044555664, 33.620826721191406, 42.49850082397461, 31.136749267578125, 35.376258850097656, 25.587970733642578, 37.416542053222656, 31.382829666137695, 28.208513259887695, 26.594358444213867, 22.88375473022461, 29.778263092041016, 34.148521423339844, 30.26085090637207, 31.50558090209961, 26.18153190612793, 30.050899505615234, 33.072513580322266, 28.475574493408203, 27.988372802734375, 29.001319885253906, 28.37939453125, 33.86763381958008, 31.980899810791016, 27.11853790283203, 29.9433650970459, 31.92232894897461, 32.5904426574707, 31.432783126831055, 23.679616928100586, 34.992164611816406, 36.83772277832031, 23.540237426757812, 28.281925201416016, 31.800872802734375, 31.179780960083008, 30.837467193603516, 34.15925979614258, 27.466798782348633, 34.820281982421875, 43.64031982421875, 28.925399780273438, 36.17983627319336, 39.07563781738281, 35.11765670776367, 37.252262115478516, 40.67900466918945, 41.80821228027344, 34.244346618652344, 32.089202880859375, 29.142995834350586, 33.05900955200195, 39.77646255493164, 32.73344802856445, 34.176612854003906, 26.332439422607422, 41.18159866333008, 26.585859298706055, 30.3660831451416, 24.681049346923828, 35.425167083740234, 28.783418655395508, 33.566200256347656, 23.614728927612305, 35.98613739013672, 44.128997802734375, 33.0822868347168, 38.93593215942383, 34.4247932434082, 33.253353118896484, 35.8563346862793, 27.367961883544922, 24.170129776000977, 26.046772003173828, 24.1297664642334, 27.37128257751465, 23.557077407836914, 31.666305541992188, 27.275035858154297, 28.585947036743164, 28.787826538085938, 38.40576934814453, 24.020063400268555, 32.1113166809082, 25.186397552490234, 33.45079040527344, 31.588876724243164, 32.40402603149414, 28.16411781311035, 27.424335479736328, 27.258312225341797, 26.103694915771484, 27.725656509399414, 36.52022171020508, 32.49473571777344, 38.91230392456055, 36.07817459106445, 33.7649040222168, 25.884077072143555, 41.56886672973633, 28.720176696777344, 29.93317985534668, 31.395732879638672, 28.83553695678711, 33.971683502197266, 26.501218795776367, 33.82815170288086, 30.06607437133789, 28.094867706298828, 30.169071197509766, 33.986854553222656, 32.172149658203125, 25.0369815826416, 29.886381149291992, 28.07655906677246, 26.700998306274414, 28.724788665771484, 31.41170310974121, 31.821237564086914, 28.986093521118164, 28.37727165222168, 34.538002014160156, 40.640220642089844, 25.134090423583984, 24.437715530395508, 36.23344421386719, 25.350296020507812, 31.20531463623047, 26.09051513671875, 30.861953735351562, 33.440555572509766, 26.961389541625977, 31.574859619140625, 28.23392105102539, 34.51927185058594, 30.246854782104492, 30.36870002746582, 25.095306396484375, 32.12678527832031, 33.35091781616211, 29.49155616760254, 34.825477600097656, 33.57506561279297, 29.354724884033203, 27.27935791015625, 32.368804931640625, 29.616424560546875, 27.185331344604492, 29.8493595123291, 28.073863983154297, 29.006637573242188, 23.999547958374023, 26.325050354003906, 34.36174774169922, 28.996946334838867, 30.53107261657715, 37.17740249633789, 25.02035140991211, 27.66099739074707, 28.648494720458984, 26.619356155395508, 33.46034622192383, 30.206174850463867, 32.02891159057617, 36.150901794433594, 26.233753204345703, 30.43402671813965, 29.55327606201172, 31.05063819885254, 25.142642974853516, 27.46569061279297, 28.262033462524414, 25.17840576171875, 27.384990692138672, 26.053762435913086, 28.017152786254883, 25.721609115600586, 34.90302658081055, 26.930788040161133, 34.803260803222656, 29.46304702758789, 26.113929748535156, 29.677257537841797, 33.92755889892578, 39.52885055541992, 26.420711517333984, 32.16591262817383, 23.704492568969727, 31.565263748168945, 22.586048126220703, 28.538433074951172, 27.41153907775879, 28.92005157470703, 29.307064056396484, 26.83548355102539, 27.95749282836914, 29.697973251342773, 35.300296783447266, 25.104589462280273, 25.310808181762695, 27.87355613708496, 32.75349807739258, 30.770713806152344, 24.54547691345215, 29.60745620727539, 31.448205947875977, 32.1016960144043, 32.18929672241211, 25.200336456298828, 24.085519790649414, 24.9184513092041, 27.696819305419922, 26.533538818359375, 38.207862854003906, 23.492483139038086, 32.028629302978516, 27.038604736328125, 27.946657180786133, 28.24378204345703, 29.71831703186035, 26.978288650512695, 26.060754776000977, 24.93291664123535, 34.40749740600586, 30.180707931518555, 26.00648307800293, 26.700864791870117, 31.073850631713867, 31.64558982849121, 34.684505462646484, 37.4788703918457, 25.246606826782227, 31.826839447021484, 32.35184860229492, 34.80885696411133, 28.30254554748535, 35.34199905395508, 35.512210845947266, 30.006412506103516, 31.059659957885742, 25.59442710876465, 29.78927993774414, 34.01435470581055, 35.805423736572266, 34.0871467590332, 31.59225082397461, 25.534996032714844, 33.674560546875, 31.085147857666016, 31.81963539123535, 30.746084213256836, 33.2222900390625, 33.17238998413086, 32.63090515136719, 29.07649803161621, 22.461030960083008, 25.43976402282715, 29.499910354614258, 30.82318878173828, 30.17375373840332, 24.859792709350586, 31.538339614868164, 32.520023345947266, 38.875099182128906, 34.26577377319336, 33.61195755004883, 24.768041610717773, 30.131277084350586, 27.306032180786133, 34.00673294067383, 31.240407943725586, 27.936798095703125, 36.54518508911133, 28.50669288635254, 28.40959358215332, 27.8938045501709, 29.37128257751465, 27.884729385375977, 28.88181495666504, 29.8920841217041, 23.330713272094727, 34.953792572021484, 33.29646682739258, 27.05412483215332, 35.57516860961914, 38.5512580871582, 24.914794921875, 29.155515670776367, 34.02659606933594, 44.98845672607422, 27.179349899291992, 31.63256072998047, 35.27107238769531, 32.29323959350586, 41.28356170654297, 33.139556884765625, 36.041954040527344, 31.366365432739258, 33.547157287597656, 34.76990509033203, 32.84672546386719, 30.877239227294922, 35.515724182128906, 24.40277099609375, 34.592796325683594, 30.853946685791016, 38.27949142456055, 50.805686950683594], 'val_mae': [4.3336076736450195, 3.1095309257507324, 2.9314124584198, 2.881898880004883, 2.7955849170684814, 2.7267401218414307, 2.85149884223938, 2.6932411193847656, 2.7036099433898926, 2.8293559551239014, 2.83944034576416, 2.6454267501831055, 2.5624611377716064, 2.640587329864502, 2.5520026683807373, 2.591726541519165, 2.6785621643066406, 2.588653326034546, 2.651933431625366, 2.493943691253662, 2.583172559738159, 2.4934582710266113, 2.5966832637786865, 2.450908899307251, 2.500922203063965, 2.491608142852783, 2.4529991149902344, 2.35787034034729, 2.424572467803955, 2.5903592109680176, 2.3723764419555664, 2.364206075668335, 2.5603020191192627, 2.398228168487549, 2.5938305854797363, 2.7614405155181885, 2.383538246154785, 2.4344654083251953, 2.428562879562378, 2.2803585529327393, 2.5777862071990967, 2.387709379196167, 2.633094072341919, 2.4400973320007324, 2.6562612056732178, 2.3578624725341797, 2.414639949798584, 2.3478972911834717, 2.550678014755249, 2.314546585083008, 2.360460042953491, 2.3532347679138184, 2.520742893218994, 2.859062671661377, 2.5128633975982666, 2.725147247314453, 2.273427724838257, 2.475611686706543, 2.362734079360962, 2.3467001914978027, 2.340956211090088, 2.4765560626983643, 2.581573724746704, 2.2259228229522705, 2.2843692302703857, 2.4519355297088623, 2.2817273139953613, 2.5351462364196777, 2.285346508026123, 2.353269100189209, 2.1874399185180664, 2.5369791984558105, 2.4907925128936768, 2.4272425174713135, 2.352520704269409, 2.458299160003662, 2.3600478172302246, 2.7202184200286865, 2.5411131381988525, 2.6656343936920166, 2.542711019515991, 2.5134048461914062, 2.377392053604126, 2.8584816455841064, 2.5158562660217285, 2.29081392288208, 2.6162970066070557, 2.4186365604400635, 2.656987190246582, 2.3980796337127686, 2.613908290863037, 2.536235809326172, 2.4317145347595215, 2.3046152591705322, 2.523932695388794, 2.6935760974884033, 2.4682233333587646, 2.4939217567443848, 2.4181463718414307, 3.00382924079895, 2.899412155151367, 2.470698118209839, 2.4463186264038086, 2.783642053604126, 2.6215507984161377, 2.609185218811035, 2.643444776535034, 2.5819733142852783, 2.5874183177948, 2.5713932514190674, 2.8601315021514893, 2.550931453704834, 2.784468650817871, 2.6865596771240234, 2.5047898292541504, 2.5955560207366943, 2.445758104324341, 2.7347099781036377, 2.947519540786743, 2.8794105052948, 2.9139084815979004, 3.045511484146118, 3.166714906692505, 3.006746768951416, 2.8432469367980957, 2.7248423099517822, 2.5920965671539307, 2.97196888923645, 2.6300177574157715, 3.0516695976257324, 2.7551963329315186, 2.8191535472869873, 2.8946332931518555, 3.107201337814331, 3.1769938468933105, 2.8077423572540283, 2.917698621749878, 2.753753423690796, 2.7767302989959717, 3.210965871810913, 3.256847381591797, 2.811727285385132, 3.007403612136841, 2.979222059249878, 3.132108449935913, 2.8167166709899902, 2.7682762145996094, 2.891564130783081, 2.774620771408081, 3.3140249252319336, 2.827674388885498, 2.770998001098633, 2.7995402812957764, 3.079702615737915, 2.9338772296905518, 3.229294538497925, 2.8444793224334717, 3.1556084156036377, 2.977527618408203, 2.844712257385254, 3.039834499359131, 3.003736972808838, 2.9812498092651367, 2.9275052547454834, 2.8842108249664307, 2.9116392135620117, 3.252650737762451, 2.884136438369751, 2.7148616313934326, 2.8990378379821777, 2.9046149253845215, 3.5428929328918457, 3.3454387187957764, 2.827298402786255, 3.0804786682128906, 3.2817437648773193, 2.9437711238861084, 3.123677968978882, 3.2223806381225586, 3.074324131011963, 3.246253252029419, 3.2267606258392334, 2.983313798904419, 3.100980758666992, 3.1637022495269775, 3.314627170562744, 3.117234230041504, 3.16438889503479, 3.039381265640259, 3.246232032775879, 2.991387128829956, 3.2111899852752686, 3.490229845046997, 3.266392230987549, 3.7614026069641113, 3.104750871658325, 3.247218608856201, 3.06646466255188, 3.456944227218628, 3.1792657375335693, 3.2622480392456055, 3.098783254623413, 2.9284045696258545, 3.2130162715911865, 3.2734804153442383, 3.1330690383911133, 3.1502938270568848, 3.018819570541382, 3.06488037109375, 3.3445241451263428, 3.1994102001190186, 3.2178187370300293, 3.099440097808838, 3.0123660564422607, 3.4324791431427, 3.3479607105255127, 3.023911476135254, 3.2075233459472656, 3.234806537628174, 3.3093769550323486, 3.270045518875122, 2.97546124458313, 3.2601025104522705, 3.4308559894561768, 3.0051913261413574, 3.0994670391082764, 3.0958666801452637, 3.3767738342285156, 3.231778383255005, 3.3611931800842285, 3.0328121185302734, 3.318718433380127, 3.621549606323242, 3.2130863666534424, 3.1670420169830322, 3.2450671195983887, 3.4306468963623047, 3.3251659870147705, 3.5401129722595215, 3.516326904296875, 3.1132001876831055, 3.146395206451416, 3.035280466079712, 3.1330819129943848, 3.4546167850494385, 3.1973156929016113, 3.5337131023406982, 3.1040163040161133, 3.485948085784912, 3.129168748855591, 3.1211702823638916, 2.9394543170928955, 3.269148826599121, 3.1883320808410645, 3.283329963684082, 2.9830639362335205, 3.5092625617980957, 3.6436851024627686, 3.203383445739746, 3.3689143657684326, 3.335008144378662, 3.252375841140747, 3.301377773284912, 3.1003787517547607, 2.96079421043396, 3.001216411590576, 2.970587968826294, 2.9841015338897705, 3.0290415287017822, 3.124393939971924, 3.182398796081543, 3.1492438316345215, 3.3233959674835205, 3.559129476547241, 2.975574493408203, 3.202054500579834, 3.0263943672180176, 3.329179525375366, 3.3017783164978027, 3.26223087310791, 3.0119469165802, 3.0628199577331543, 3.0883326530456543, 3.068005323410034, 3.1350743770599365, 3.3959343433380127, 3.367446184158325, 3.41825008392334, 3.5359702110290527, 3.34700083732605, 3.0527701377868652, 3.4432554244995117, 3.188854932785034, 3.0287230014801025, 3.2285349369049072, 3.094653367996216, 3.2681758403778076, 3.1590442657470703, 3.2841134071350098, 3.2295122146606445, 3.1556410789489746, 3.249748706817627, 3.4078660011291504, 3.3332793712615967, 3.1018335819244385, 3.2987618446350098, 3.2255733013153076, 3.112175941467285, 3.257078170776367, 3.277477502822876, 3.3224034309387207, 3.1436901092529297, 3.0969297885894775, 3.2863144874572754, 3.4526233673095703, 3.1436145305633545, 3.0165822505950928, 3.3331298828125, 2.9757065773010254, 3.22137713432312, 3.224355936050415, 3.2922122478485107, 3.324166774749756, 3.100267171859741, 3.162137508392334, 3.2850165367126465, 3.357508659362793, 3.2819809913635254, 3.2075774669647217, 3.0905888080596924, 3.3222873210906982, 3.2641215324401855, 3.241642475128174, 3.4280171394348145, 3.414740800857544, 3.2241060733795166, 3.143022060394287, 3.392214298248291, 3.150519847869873, 3.2692291736602783, 3.3231678009033203, 3.1930363178253174, 3.2039220333099365, 3.1811671257019043, 3.133802890777588, 3.381305694580078, 3.2917706966400146, 3.373986005783081, 3.537107467651367, 3.231405019760132, 3.2125439643859863, 3.2646782398223877, 3.1252477169036865, 3.288463592529297, 3.262477397918701, 3.311892032623291, 3.7224009037017822, 3.251753807067871, 3.161576271057129, 3.206756591796875, 3.1999855041503906, 3.1914279460906982, 3.1621599197387695, 3.2766542434692383, 3.1253867149353027, 3.258432149887085, 3.277911901473999, 3.3005154132843018, 3.1835057735443115, 3.5390942096710205, 3.089341163635254, 3.389436960220337, 3.3128902912139893, 3.0414302349090576, 3.239654302597046, 3.4230289459228516, 3.3835108280181885, 3.0995934009552, 3.2281079292297363, 3.0685625076293945, 3.190167188644409, 2.9364418983459473, 3.1600277423858643, 3.126265048980713, 3.2174766063690186, 3.245701313018799, 3.0376064777374268, 3.1537835597991943, 3.261815071105957, 3.458796739578247, 3.129328966140747, 3.0657732486724854, 3.178999185562134, 3.401801109313965, 3.3516836166381836, 3.076281785964966, 3.3240365982055664, 3.172687530517578, 3.414541006088257, 3.336333990097046, 3.0376060009002686, 3.0813241004943848, 3.092838764190674, 3.1278507709503174, 3.2543210983276367, 3.5447003841400146, 3.0806989669799805, 3.373967170715332, 3.219492197036743, 3.2730534076690674, 3.0605781078338623, 3.3098881244659424, 3.203611373901367, 3.0575339794158936, 3.1268770694732666, 3.3771681785583496, 3.2553341388702393, 3.0841622352600098, 3.126002788543701, 3.1766135692596436, 3.199425220489502, 3.312366485595703, 3.5780694484710693, 3.051527500152588, 3.221320390701294, 3.3253073692321777, 3.366793394088745, 3.2577457427978516, 3.4385926723480225, 3.3456079959869385, 3.1783287525177, 3.318495035171509, 3.2437992095947266, 3.1741082668304443, 3.2927474975585938, 3.3034780025482178, 3.2826573848724365, 3.289339542388916, 3.0438613891601562, 3.239471435546875, 3.2197842597961426, 3.204958438873291, 3.3008840084075928, 3.3115177154541016, 3.323681592941284, 3.1974263191223145, 3.2271552085876465, 2.922745704650879, 2.943682909011841, 3.2083628177642822, 3.1728579998016357, 3.1520795822143555, 3.0516014099121094, 3.321638345718384, 3.2681806087493896, 3.376774549484253, 3.3769373893737793, 3.221484422683716, 2.98689341545105, 3.2223401069641113, 3.0602493286132812, 3.3546619415283203, 3.186152696609497, 3.2410075664520264, 3.3722267150878906, 3.2148189544677734, 3.192854881286621, 3.1152637004852295, 3.066053628921509, 3.0729246139526367, 3.1011645793914795, 3.22080135345459, 2.9537670612335205, 3.3345441818237305, 3.223468780517578, 3.247257947921753, 3.444004535675049, 3.33324933052063, 3.1028406620025635, 3.128370761871338, 3.6221935749053955, 3.677194118499756, 3.1852593421936035, 3.167304515838623, 3.451808452606201, 3.2126078605651855, 3.6468563079833984, 3.282651662826538, 3.4968788623809814, 3.2253732681274414, 3.230177402496338, 3.245546340942383, 3.1801564693450928, 3.255934238433838, 3.3560314178466797, 2.9610164165496826, 3.296201705932617, 3.1361634731292725, 3.537513017654419, 3.9002625942230225]}\n",
            "processing fold # 2\n",
            "{'loss': [228.2399444580078, 33.67384338378906, 21.981637954711914, 17.35452651977539, 14.931818008422852, 14.166610717773438, 11.948429107666016, 11.65344524383545, 10.3442964553833, 9.780211448669434, 8.936013221740723, 9.037117004394531, 8.587928771972656, 8.319440841674805, 8.321462631225586, 8.045170783996582, 7.715360164642334, 7.598992824554443, 7.204796314239502, 7.3802008628845215, 7.440720558166504, 6.567825794219971, 7.318856716156006, 6.876333713531494, 6.787233352661133, 6.556488037109375, 6.591711044311523, 6.552639484405518, 6.470958232879639, 5.9827165603637695, 5.997150897979736, 5.731591701507568, 6.046772480010986, 5.89503812789917, 6.090196132659912, 5.506991863250732, 5.6532673835754395, 5.432023525238037, 5.433717250823975, 5.427156925201416, 5.533771991729736, 5.266879558563232, 5.296724796295166, 4.903165340423584, 5.209080219268799, 5.012276649475098, 4.958401203155518, 5.153420925140381, 5.198180198669434, 5.157020568847656, 4.675618648529053, 4.670615196228027, 4.435896873474121, 4.898588180541992, 4.765392303466797, 4.363423824310303, 4.662106037139893, 4.480133056640625, 4.642717361450195, 4.645560264587402, 4.2777180671691895, 3.992854356765747, 4.15094518661499, 4.286978244781494, 4.150982856750488, 3.9989774227142334, 3.8675928115844727, 4.090122699737549, 4.007052421569824, 4.088031768798828, 3.9222686290740967, 3.892641305923462, 3.970750570297241, 3.528754234313965, 3.7303214073181152, 3.631300926208496, 3.5798230171203613, 3.372046947479248, 3.6478731632232666, 3.6748812198638916, 3.8510379791259766, 3.434086799621582, 3.497858762741089, 3.2903380393981934, 3.5411441326141357, 3.5094916820526123, 3.375437021255493, 3.447551727294922, 3.3402960300445557, 3.367244005203247, 3.2744531631469727, 3.2553439140319824, 3.3384745121002197, 3.2080190181732178, 2.9259538650512695, 3.1559338569641113, 3.0026133060455322, 3.153841972351074, 2.9903934001922607, 3.066859483718872, 3.100261688232422, 2.72794246673584, 2.9656691551208496, 3.0335781574249268, 2.7571849822998047, 2.848299503326416, 2.8500940799713135, 2.63895320892334, 2.7319161891937256, 2.5848920345306396, 2.639392614364624, 2.406602144241333, 2.637601375579834, 2.492478370666504, 2.6036508083343506, 2.3139030933380127, 2.436814546585083, 2.4940478801727295, 2.537567138671875, 2.5595738887786865, 2.2434349060058594, 2.699967384338379, 2.343413829803467, 2.3328187465667725, 2.6471662521362305, 2.248555898666382, 2.260266065597534, 2.1765682697296143, 2.39245867729187, 2.3214282989501953, 2.2953174114227295, 2.3287904262542725, 2.5213871002197266, 2.2689619064331055, 2.224949598312378, 2.2185816764831543, 1.9645788669586182, 2.1656007766723633, 2.158916711807251, 2.049023389816284, 2.0423007011413574, 2.0074868202209473, 2.0557854175567627, 1.929602861404419, 1.9948779344558716, 1.9165847301483154, 2.2062807083129883, 2.180027484893799, 2.00451397895813, 1.7666938304901123, 1.9267709255218506, 2.1206395626068115, 1.9224563837051392, 2.048574447631836, 1.7885572910308838, 1.7875202894210815, 2.095541477203369, 1.9412014484405518, 2.0063154697418213, 1.6198877096176147, 1.9757466316223145, 1.8988150358200073, 1.8255822658538818, 1.7086657285690308, 1.6808892488479614, 1.7222000360488892, 1.9175177812576294, 1.7556456327438354, 1.7650140523910522, 1.7038214206695557, 1.8262560367584229, 1.7824082374572754, 1.7178081274032593, 1.7422183752059937, 1.8121142387390137, 1.6536039113998413, 1.7225313186645508, 1.691662311553955, 1.758806824684143, 1.6139568090438843, 1.5969375371932983, 1.6512947082519531, 1.7438617944717407, 1.818313479423523, 1.5796875953674316, 1.5962591171264648, 1.670222282409668, 1.6615970134735107, 1.5929970741271973, 1.653540849685669, 1.492314338684082, 1.5174219608306885, 1.652048945426941, 1.4787276983261108, 1.5201362371444702, 1.4730998277664185, 1.43221914768219, 1.6330050230026245, 1.4630564451217651, 1.4405176639556885, 1.4154547452926636, 1.5386255979537964, 1.456726312637329, 1.5064733028411865, 1.412883996963501, 1.5360174179077148, 1.5364649295806885, 1.4106143712997437, 1.443572998046875, 1.5301487445831299, 1.4178969860076904, 1.6814152002334595, 1.48866868019104, 1.449277639389038, 1.3697774410247803, 1.4978594779968262, 1.4004690647125244, 1.4867907762527466, 1.4079777002334595, 1.4204195737838745, 1.5417673587799072, 1.4546165466308594, 1.3127654790878296, 1.4221208095550537, 1.3307557106018066, 1.3977620601654053, 1.3996919393539429, 1.3966411352157593, 1.3046679496765137, 1.3769787549972534, 1.4963654279708862, 1.4453227519989014, 1.49956476688385, 1.2733333110809326, 1.366761326789856, 1.3748127222061157, 1.3856556415557861, 1.329055905342102, 1.3947336673736572, 1.297053575515747, 1.3523128032684326, 1.2738949060440063, 1.282465934753418, 1.374311923980713, 1.2947899103164673, 1.4462692737579346, 1.3560988903045654, 1.2883436679840088, 1.2363187074661255, 1.3266880512237549, 1.195765733718872, 1.4799225330352783, 1.2762078046798706, 1.4029096364974976, 1.3077927827835083, 1.1709964275360107, 1.173734188079834, 1.1682698726654053, 1.2983860969543457, 1.1647018194198608, 1.1106122732162476, 1.275416612625122, 1.2426241636276245, 1.2320501804351807, 1.3497629165649414, 1.2105517387390137, 1.1762596368789673, 1.2156966924667358, 1.2492069005966187, 1.2038016319274902, 1.2770047187805176, 1.1897926330566406, 1.1170488595962524, 1.0957951545715332, 1.2133846282958984, 1.0805025100708008, 1.1432805061340332, 1.2472463846206665, 1.1795350313186646, 1.1901780366897583, 1.2311030626296997, 1.0952733755111694, 1.2006983757019043, 1.1536442041397095, 1.1619535684585571, 1.2480875253677368, 1.029995322227478, 1.1963433027267456, 1.1708407402038574, 1.2633169889450073, 1.2471164464950562, 1.0560526847839355, 1.2314488887786865, 1.1480592489242554, 1.1800620555877686, 1.0673718452453613, 1.1598186492919922, 1.179707407951355, 1.1631734371185303, 1.094150185585022, 1.0551670789718628, 1.102631688117981, 1.1004538536071777, 1.0255683660507202, 1.077714443206787, 1.0658186674118042, 1.1671037673950195, 1.1793969869613647, 1.163377285003662, 1.0242267847061157, 1.1571892499923706, 1.1357706785202026, 1.0134482383728027, 0.951589047908783, 1.0612460374832153, 1.1131566762924194, 1.0472201108932495, 1.072180151939392, 1.0030516386032104, 1.1130329370498657, 1.0880091190338135, 1.1557531356811523, 1.04647696018219, 1.0398461818695068, 0.9700940847396851, 1.0493817329406738, 1.1540467739105225, 0.9746795892715454, 1.0134661197662354, 0.9753841161727905, 0.9440954327583313, 1.166311264038086, 0.9433868527412415, 0.9144113063812256, 1.0229871273040771, 1.0255136489868164, 1.0115556716918945, 0.9170114994049072, 1.077797770500183, 1.0288631916046143, 0.9911940097808838, 1.0826042890548706, 0.9385127425193787, 0.9370517134666443, 1.0434261560440063, 1.0297354459762573, 0.9035393595695496, 1.0272881984710693, 0.9418330192565918, 1.0317938327789307, 0.9225987792015076, 0.9935552477836609, 0.8775150179862976, 0.9978188276290894, 0.8898136019706726, 0.9900546669960022, 0.9127411842346191, 0.9271326661109924, 1.0824058055877686, 0.9557416439056396, 1.0402188301086426, 1.0499883890151978, 0.9301130175590515, 0.9534874558448792, 1.0902258157730103, 0.9521648287773132, 0.8813959956169128, 0.9987828135490417, 1.0078585147857666, 0.9747533202171326, 0.9635676741600037, 0.9961724877357483, 0.9884312152862549, 0.819716215133667, 0.9170671105384827, 1.061643123626709, 0.8929484486579895, 1.0154483318328857, 0.9846159219741821, 0.8566656708717346, 0.9303598999977112, 0.8063967227935791, 0.8814774751663208, 1.0760917663574219, 0.7956787347793579, 0.9179825186729431, 0.9092699289321899, 0.9943524599075317, 0.9806943535804749, 0.8627671003341675, 0.9904521107673645, 0.8811378479003906, 0.979641854763031, 0.8084134459495544, 0.9149321913719177, 0.9025195240974426, 0.8376185894012451, 1.0153722763061523, 0.7830191850662231, 0.809190571308136, 0.8932114243507385, 0.9689328074455261, 0.8975563049316406, 0.8331653475761414, 0.8372331261634827, 0.9995901584625244, 0.8586535453796387, 0.8788325190544128, 0.9287374019622803, 0.9454476833343506, 0.8112607598304749, 0.8223963379859924, 0.9236253499984741, 0.9050177931785583, 0.8694709539413452, 0.9191336631774902, 0.8659468293190002, 0.7860735654830933, 0.8858760595321655, 0.8257532119750977, 0.8587433099746704, 0.8459314703941345, 0.8559139966964722, 0.8374893665313721, 0.7993748188018799, 0.8667978048324585, 0.8275396227836609, 0.8484183549880981, 0.8603929281234741, 0.8987897038459778, 0.7919829487800598, 0.8559345602989197, 0.8311235904693604, 0.7748809456825256, 0.7900219559669495, 0.8476139307022095, 0.7628290057182312, 0.6946393251419067, 0.7169960737228394, 0.8392202258110046, 0.7521448135375977, 0.7439972758293152, 0.7607181072235107, 0.7756205797195435, 0.8284957408905029, 0.8081396818161011, 0.7954277396202087, 0.7527682185173035, 0.845761239528656, 0.7749630808830261, 0.7741475105285645, 0.8363869786262512, 0.8502101302146912, 0.7633011937141418, 0.8819190263748169, 0.7467448115348816, 0.892675518989563, 0.7763009667396545, 0.7646583914756775, 0.7250850796699524, 0.7921579480171204, 0.7816559076309204, 0.7754551768302917, 0.8569134473800659, 0.8499669432640076, 0.7441563010215759, 0.828862190246582, 0.7815101146697998, 0.8461924195289612, 0.8851327300071716, 0.7399008274078369, 0.7794822454452515, 0.7749567031860352, 0.8325501084327698, 0.6984055638313293, 0.7481768727302551, 0.8136159181594849, 0.8057737350463867, 0.7175992727279663, 0.8690157532691956, 0.818139910697937, 0.8639421463012695, 0.749782383441925, 0.7156716585159302, 0.8347197771072388, 0.7156961560249329, 0.702836811542511, 0.7088767886161804, 0.7920523881912231, 0.6812992691993713, 0.7584205269813538, 0.8116410374641418, 0.7316634058952332, 0.7376793622970581, 0.7850273847579956, 0.7568977475166321, 0.7558303475379944, 0.7363234162330627, 0.7409311532974243, 0.6929489970207214], 'mae': [11.091628074645996, 3.9162464141845703, 3.1606175899505615, 2.8307533264160156, 2.63923716545105, 2.529000997543335, 2.338900089263916, 2.2097976207733154, 2.214247226715088, 2.152900457382202, 2.089054822921753, 1.9781718254089355, 2.040367364883423, 1.9536129236221313, 1.9799503087997437, 1.9811397790908813, 1.913373351097107, 1.9253954887390137, 1.9055814743041992, 1.8507400751113892, 1.863676905632019, 1.7484166622161865, 1.8293116092681885, 1.8055222034454346, 1.8152378797531128, 1.7768583297729492, 1.77145254611969, 1.772092342376709, 1.7307841777801514, 1.6809078454971313, 1.6855195760726929, 1.6605234146118164, 1.7738959789276123, 1.6872564554214478, 1.6781797409057617, 1.6680141687393188, 1.5937416553497314, 1.6196365356445312, 1.5791817903518677, 1.6301214694976807, 1.6138639450073242, 1.594002604484558, 1.617648959159851, 1.6104592084884644, 1.5766018629074097, 1.5577006340026855, 1.5546187162399292, 1.522660493850708, 1.5493875741958618, 1.6047768592834473, 1.5445884466171265, 1.527402400970459, 1.493567705154419, 1.5075002908706665, 1.5324524641036987, 1.4847739934921265, 1.4616655111312866, 1.4982073307037354, 1.4576880931854248, 1.4924523830413818, 1.4443978071212769, 1.3964333534240723, 1.4015986919403076, 1.4801684617996216, 1.429337978363037, 1.4631083011627197, 1.4189345836639404, 1.4125057458877563, 1.3918123245239258, 1.3831324577331543, 1.3977049589157104, 1.3663228750228882, 1.3969001770019531, 1.3592146635055542, 1.3552855253219604, 1.3667333126068115, 1.3379050493240356, 1.3511523008346558, 1.2924333810806274, 1.357831597328186, 1.3774446249008179, 1.3362445831298828, 1.3341197967529297, 1.3550492525100708, 1.3042014837265015, 1.3289538621902466, 1.3090554475784302, 1.3473600149154663, 1.3341772556304932, 1.318856120109558, 1.3146880865097046, 1.295380711555481, 1.2898293733596802, 1.2979788780212402, 1.2335736751556396, 1.2951239347457886, 1.2647409439086914, 1.2938770055770874, 1.2222906351089478, 1.2485333681106567, 1.2337908744812012, 1.2164679765701294, 1.2302898168563843, 1.2344087362289429, 1.1994255781173706, 1.2384006977081299, 1.268518090248108, 1.1678301095962524, 1.2339394092559814, 1.1588971614837646, 1.2028146982192993, 1.1446791887283325, 1.1640862226486206, 1.1750849485397339, 1.225569486618042, 1.103265404701233, 1.1416428089141846, 1.1342079639434814, 1.1538355350494385, 1.1409860849380493, 1.1402873992919922, 1.163892388343811, 1.1056771278381348, 1.0995937585830688, 1.166627049446106, 1.0751073360443115, 1.0895220041275024, 1.134725570678711, 1.1220128536224365, 1.1323180198669434, 1.1471009254455566, 1.1099789142608643, 1.1294208765029907, 1.1189366579055786, 1.1212245225906372, 1.113477110862732, 1.0172455310821533, 1.0889519453048706, 1.0710369348526, 1.0831931829452515, 1.0459150075912476, 1.0785895586013794, 1.07216477394104, 0.9910732507705688, 1.0273401737213135, 1.0299409627914429, 1.047577977180481, 1.0779420137405396, 0.9966971278190613, 1.0096434354782104, 0.9883369207382202, 1.0398584604263306, 1.0331661701202393, 1.031929612159729, 0.9889996647834778, 1.0115175247192383, 1.0452477931976318, 1.059203028678894, 1.0330333709716797, 0.952987015247345, 1.0178892612457275, 0.9662814140319824, 0.978714644908905, 0.970332682132721, 1.0025975704193115, 0.9390529990196228, 1.035793423652649, 0.9627257585525513, 1.0074975490570068, 0.9786340594291687, 0.9841587543487549, 0.9863328337669373, 0.9970052242279053, 0.9497220516204834, 0.9623054265975952, 0.9418028593063354, 0.962521493434906, 0.978376030921936, 0.9533947110176086, 0.9142372608184814, 0.8955020904541016, 0.9601908922195435, 0.9993248581886292, 0.974459707736969, 0.9421884417533875, 0.9150131940841675, 0.9340682625770569, 0.9405730962753296, 0.9349395632743835, 0.9617521166801453, 0.8997557163238525, 0.9032253623008728, 0.951792299747467, 0.9356292486190796, 0.9164204001426697, 0.884008526802063, 0.8886301517486572, 0.9320911169052124, 0.9105106592178345, 0.8590264320373535, 0.8678508400917053, 0.918387234210968, 0.8892028331756592, 0.8685444593429565, 0.8695501685142517, 0.8926530480384827, 0.9277108907699585, 0.8660451769828796, 0.8785325884819031, 0.8703709244728088, 0.8595719933509827, 0.9107387065887451, 0.8931432366371155, 0.9024585485458374, 0.8629276156425476, 0.9053674936294556, 0.8587067127227783, 0.9164267778396606, 0.8876967430114746, 0.8906466364860535, 0.8742462396621704, 0.8612425327301025, 0.8734896183013916, 0.8767357468605042, 0.8690953254699707, 0.8696087598800659, 0.8659194707870483, 0.8805001974105835, 0.8605785965919495, 0.8909754157066345, 0.8856605291366577, 0.9000279307365417, 0.8808509111404419, 0.8829488754272461, 0.8930305242538452, 0.8643181324005127, 0.8618842959403992, 0.8524013757705688, 0.8602225184440613, 0.8843950629234314, 0.8531879782676697, 0.850100576877594, 0.8516778945922852, 0.8774735331535339, 0.8683880567550659, 0.8676556348800659, 0.8349713683128357, 0.8325031399726868, 0.802035391330719, 0.8334082961082458, 0.8086526989936829, 0.8390540480613708, 0.8204975128173828, 0.8441954851150513, 0.8258172273635864, 0.7874950766563416, 0.8007177710533142, 0.785284698009491, 0.8322013020515442, 0.8277505040168762, 0.7632437944412231, 0.8100036382675171, 0.792145311832428, 0.7894427180290222, 0.8542678952217102, 0.8021382093429565, 0.8107529282569885, 0.8489822745323181, 0.8290721774101257, 0.8017390370368958, 0.8252381682395935, 0.7903486490249634, 0.7797598838806152, 0.7711607217788696, 0.8349409699440002, 0.7833818793296814, 0.7756170630455017, 0.8236005306243896, 0.8167294859886169, 0.8040432333946228, 0.8330808877944946, 0.7556527256965637, 0.839909553527832, 0.7990227341651917, 0.7909407615661621, 0.8229358196258545, 0.77988201379776, 0.8087470531463623, 0.8048297166824341, 0.7951295971870422, 0.7938093543052673, 0.7670719027519226, 0.8260003328323364, 0.8005905747413635, 0.7902619242668152, 0.7519159317016602, 0.7935870289802551, 0.8074873685836792, 0.7782623171806335, 0.7723658084869385, 0.7695562243461609, 0.7805085778236389, 0.7698460221290588, 0.7941775918006897, 0.7602245807647705, 0.7603586316108704, 0.775296151638031, 0.7946967482566833, 0.788045346736908, 0.7538081407546997, 0.7898954153060913, 0.7704290747642517, 0.7395524978637695, 0.7283047437667847, 0.7510437965393066, 0.7756808400154114, 0.7171575427055359, 0.7649620175361633, 0.7345582842826843, 0.763242781162262, 0.7623225450515747, 0.793618381023407, 0.7643053531646729, 0.7385692000389099, 0.7541442513465881, 0.7357874512672424, 0.7865556478500366, 0.7363286018371582, 0.737551212310791, 0.7309289574623108, 0.6934154033660889, 0.7911601066589355, 0.7277143001556396, 0.6833735704421997, 0.7372569441795349, 0.748421847820282, 0.7009736895561218, 0.7194845080375671, 0.7597102522850037, 0.7321706414222717, 0.7440498471260071, 0.7576805353164673, 0.7168126106262207, 0.7107287049293518, 0.7515507340431213, 0.7435687184333801, 0.7041574716567993, 0.7415568828582764, 0.7277517914772034, 0.7586762309074402, 0.7059383988380432, 0.733524739742279, 0.6862258315086365, 0.719796895980835, 0.7222055792808533, 0.7107393145561218, 0.7058424949645996, 0.7253191471099854, 0.7676125168800354, 0.7179537415504456, 0.7372362613677979, 0.7360098958015442, 0.7261108756065369, 0.7193837761878967, 0.8068604469299316, 0.7183595299720764, 0.6933955550193787, 0.7197390198707581, 0.7462852597236633, 0.7070276141166687, 0.7129836678504944, 0.7129849195480347, 0.7085552215576172, 0.6718035340309143, 0.700592041015625, 0.7234424948692322, 0.6859989166259766, 0.7185046076774597, 0.7384102940559387, 0.6941639184951782, 0.6882342100143433, 0.6851330399513245, 0.6812970042228699, 0.7338672876358032, 0.655005693435669, 0.6727363467216492, 0.6899247765541077, 0.7233964204788208, 0.732584536075592, 0.6613765358924866, 0.7205809354782104, 0.6583915948867798, 0.7092700600624084, 0.6827227473258972, 0.6973106265068054, 0.6923202872276306, 0.6903079152107239, 0.7337237596511841, 0.6479688882827759, 0.6499632596969604, 0.7074849605560303, 0.6907549500465393, 0.6674920320510864, 0.6734735369682312, 0.652611494064331, 0.7196913957595825, 0.7063578963279724, 0.6779756546020508, 0.6956732273101807, 0.7338606119155884, 0.6735040545463562, 0.6782232522964478, 0.7032845616340637, 0.680348813533783, 0.6770691275596619, 0.7210337519645691, 0.686218798160553, 0.6569048762321472, 0.6775743365287781, 0.6723632216453552, 0.6913824081420898, 0.6425657868385315, 0.692668080329895, 0.6546396613121033, 0.6675724387168884, 0.6466871500015259, 0.6641721725463867, 0.665717363357544, 0.6829712986946106, 0.6784085035324097, 0.6614065170288086, 0.6857911348342896, 0.6634227633476257, 0.6593502759933472, 0.6494619250297546, 0.6886172294616699, 0.6378021240234375, 0.6288610100746155, 0.6323270201683044, 0.6824897527694702, 0.6474348306655884, 0.6353049874305725, 0.6310871243476868, 0.6439785361289978, 0.6468574404716492, 0.6542918086051941, 0.6684540510177612, 0.655521810054779, 0.6460222005844116, 0.6231382489204407, 0.646020770072937, 0.6604121923446655, 0.6619637608528137, 0.6511301398277283, 0.6588258147239685, 0.6291570663452148, 0.677052915096283, 0.646412193775177, 0.6278296113014221, 0.6250797510147095, 0.634148895740509, 0.6451340317726135, 0.6457232236862183, 0.6587821245193481, 0.6805456280708313, 0.6192618012428284, 0.6800597310066223, 0.6585909128189087, 0.6440474987030029, 0.6541111469268799, 0.6214189529418945, 0.6529707312583923, 0.6494027972221375, 0.6712470650672913, 0.6179732084274292, 0.6111095547676086, 0.6521854996681213, 0.63243168592453, 0.623816967010498, 0.6392455697059631, 0.6436298489570618, 0.6759567856788635, 0.6185006499290466, 0.6286230087280273, 0.6699814200401306, 0.6121861934661865, 0.6222037672996521, 0.6261467337608337, 0.6582181453704834, 0.623663067817688, 0.6172974705696106, 0.6526102423667908, 0.6524519920349121, 0.6366809606552124, 0.6616603136062622, 0.652874767780304, 0.6391171813011169, 0.6520745754241943, 0.6575103402137756, 0.6207841634750366], 'val_loss': [38.07364273071289, 23.477664947509766, 22.191192626953125, 18.36948013305664, 18.383018493652344, 17.1086483001709, 16.42517852783203, 16.6524715423584, 16.84857177734375, 16.32967758178711, 15.041683197021484, 14.560225486755371, 15.38615894317627, 17.446571350097656, 14.271665573120117, 16.216514587402344, 15.921591758728027, 15.45339298248291, 15.775811195373535, 15.31209659576416, 15.437024116516113, 15.909626960754395, 14.576276779174805, 14.68677043914795, 13.709035873413086, 13.974714279174805, 15.712419509887695, 14.566476821899414, 14.33095932006836, 14.401772499084473, 14.751373291015625, 17.221113204956055, 14.593620300292969, 15.391305923461914, 15.043082237243652, 14.880073547363281, 17.305177688598633, 15.14354133605957, 14.417258262634277, 14.705556869506836, 15.51183795928955, 16.37971305847168, 15.908432960510254, 16.55833625793457, 13.786941528320312, 15.1762056350708, 16.248199462890625, 15.083874702453613, 16.67289924621582, 15.794899940490723, 14.099772453308105, 14.80727481842041, 14.803574562072754, 15.058978080749512, 14.750570297241211, 15.417878150939941, 16.25019645690918, 14.872507095336914, 14.411823272705078, 14.932909965515137, 14.223712921142578, 16.627521514892578, 14.983444213867188, 16.51095199584961, 15.351680755615234, 15.562860488891602, 15.0471830368042, 15.10785961151123, 14.97091007232666, 17.784271240234375, 16.29633903503418, 14.74532413482666, 15.884928703308105, 14.603340148925781, 16.305458068847656, 16.976154327392578, 15.350309371948242, 15.641702651977539, 18.063505172729492, 15.94715690612793, 16.220291137695312, 16.727920532226562, 16.360084533691406, 16.06557273864746, 16.468626022338867, 15.82756519317627, 14.350131034851074, 16.28537940979004, 14.11036491394043, 16.174579620361328, 15.822858810424805, 17.496755599975586, 16.761690139770508, 15.856743812561035, 15.067729949951172, 15.770493507385254, 15.63719367980957, 16.50168800354004, 16.147056579589844, 16.40189552307129, 17.06736183166504, 16.282020568847656, 15.308330535888672, 15.271696090698242, 14.668485641479492, 16.011371612548828, 15.79318904876709, 17.15230941772461, 15.258048057556152, 15.378548622131348, 15.894103050231934, 16.021337509155273, 17.254104614257812, 16.111600875854492, 16.606891632080078, 18.552331924438477, 15.174683570861816, 14.720523834228516, 14.194049835205078, 15.02645206451416, 16.081504821777344, 16.556163787841797, 15.641907691955566, 13.001127243041992, 16.41455841064453, 15.368412971496582, 14.180583953857422, 14.214888572692871, 15.448336601257324, 13.959123611450195, 16.25527572631836, 15.926471710205078, 15.838650703430176, 15.960711479187012, 15.987863540649414, 15.340947151184082, 14.809849739074707, 15.793901443481445, 16.05816078186035, 14.613478660583496, 16.45305824279785, 14.658674240112305, 16.916601181030273, 15.30795955657959, 14.373108863830566, 13.984898567199707, 15.525069236755371, 14.80492877960205, 15.098240852355957, 14.952862739562988, 14.645565032958984, 14.376757621765137, 15.305255889892578, 14.754897117614746, 14.045219421386719, 16.12955093383789, 14.456236839294434, 17.25641441345215, 15.67078971862793, 14.833924293518066, 16.104036331176758, 15.9203462600708, 17.74645233154297, 14.821866035461426, 15.84128189086914, 14.100210189819336, 14.550555229187012, 14.539153099060059, 14.128446578979492, 14.479497909545898, 16.98133087158203, 15.389066696166992, 15.093750953674316, 16.577421188354492, 14.318808555603027, 15.190780639648438, 15.226269721984863, 17.014785766601562, 14.023822784423828, 15.869248390197754, 18.25925636291504, 14.924846649169922, 14.67653751373291, 14.218375205993652, 14.997695922851562, 16.083919525146484, 16.121814727783203, 15.856828689575195, 14.92615032196045, 14.640032768249512, 17.78464126586914, 15.21269702911377, 15.700005531311035, 14.896535873413086, 14.683159828186035, 14.950385093688965, 17.447872161865234, 15.676069259643555, 15.024462699890137, 14.593310356140137, 14.583212852478027, 15.495473861694336, 15.57969856262207, 15.826324462890625, 15.189112663269043, 15.070280075073242, 15.388838768005371, 15.521461486816406, 14.081831932067871, 14.809466361999512, 17.35381317138672, 14.088821411132812, 14.744214057922363, 14.507229804992676, 13.766502380371094, 16.056751251220703, 15.357854843139648, 14.024413108825684, 14.503052711486816, 14.436108589172363, 14.931408882141113, 16.704090118408203, 15.08573055267334, 15.389941215515137, 14.509557723999023, 14.148536682128906, 15.233078002929688, 15.539205551147461, 14.596354484558105, 15.446952819824219, 15.543073654174805, 15.548090934753418, 16.957860946655273, 15.481939315795898, 17.324785232543945, 16.114418029785156, 15.015936851501465, 15.321052551269531, 15.281882286071777, 15.522319793701172, 14.628097534179688, 14.159834861755371, 15.969182968139648, 18.28904914855957, 14.810928344726562, 16.21613121032715, 14.842050552368164, 14.721685409545898, 16.791135787963867, 14.716994285583496, 14.419416427612305, 17.62712860107422, 15.878164291381836, 14.167949676513672, 14.478384971618652, 13.985705375671387, 14.358855247497559, 15.6793212890625, 14.95349407196045, 15.019227981567383, 15.030364990234375, 15.860160827636719, 14.145954132080078, 15.550117492675781, 15.839214324951172, 15.346805572509766, 14.656761169433594, 15.196159362792969, 15.465038299560547, 16.027767181396484, 14.724505424499512, 15.0941801071167, 15.381540298461914, 15.52422046661377, 15.389463424682617, 15.508729934692383, 16.737823486328125, 17.266260147094727, 14.986846923828125, 15.381338119506836, 15.342947006225586, 16.345582962036133, 14.470873832702637, 15.608267784118652, 16.117807388305664, 15.362154006958008, 15.342646598815918, 15.855494499206543, 16.24913215637207, 15.583202362060547, 14.847101211547852, 16.57493782043457, 15.169180870056152, 15.039581298828125, 16.156169891357422, 15.786918640136719, 15.712388038635254, 14.810839653015137, 16.523395538330078, 15.859893798828125, 14.397075653076172, 15.30702018737793, 15.626076698303223, 15.124428749084473, 14.344649314880371, 15.768390655517578, 17.026247024536133, 14.688728332519531, 15.468167304992676, 17.147733688354492, 14.903285026550293, 15.856423377990723, 14.737394332885742, 14.495002746582031, 15.586275100708008, 14.89808177947998, 17.06104850769043, 14.948989868164062, 15.385797500610352, 15.156088829040527, 15.463438987731934, 15.269020080566406, 15.94103717803955, 14.662440299987793, 17.80990219116211, 16.36229705810547, 16.049102783203125, 15.59414291381836, 15.791711807250977, 15.375473976135254, 17.07318687438965, 15.42427921295166, 14.830845832824707, 18.147628784179688, 16.297863006591797, 18.031320571899414, 16.556058883666992, 15.839085578918457, 15.052329063415527, 15.758983612060547, 15.044469833374023, 17.184173583984375, 16.490205764770508, 15.526849746704102, 16.564340591430664, 15.988632202148438, 14.475170135498047, 15.733317375183105, 15.469451904296875, 15.263712882995605, 16.21376609802246, 14.568807601928711, 15.590609550476074, 15.630058288574219, 14.496644973754883, 14.331637382507324, 18.413372039794922, 14.386374473571777, 15.318856239318848, 15.700772285461426, 15.449928283691406, 16.6210880279541, 15.279288291931152, 16.02479362487793, 16.13025665283203, 16.851797103881836, 16.05425453186035, 14.853371620178223, 16.2756290435791, 14.80062198638916, 15.860786437988281, 14.605761528015137, 16.157268524169922, 14.601598739624023, 15.747591018676758, 16.552160263061523, 17.517061233520508, 15.355395317077637, 15.157217979431152, 15.445444107055664, 15.442310333251953, 15.041484832763672, 15.185665130615234, 14.270111083984375, 15.94481372833252, 14.804976463317871, 14.784976959228516, 14.691751480102539, 15.959586143493652, 15.751662254333496, 15.755928039550781, 15.17102336883545, 14.653393745422363, 15.763991355895996, 14.547303199768066, 13.771081924438477, 15.382201194763184, 13.950819969177246, 15.881424903869629, 15.10584831237793, 14.728351593017578, 16.035669326782227, 14.4656400680542, 17.731502532958984, 17.41400146484375, 15.019647598266602, 15.875478744506836, 14.662796974182129, 15.036091804504395, 15.199979782104492, 15.05832290649414, 15.278007507324219, 16.091970443725586, 15.814608573913574, 14.481051445007324, 14.81322193145752, 16.464073181152344, 14.64418888092041, 15.104708671569824, 14.377820014953613, 14.636557579040527, 16.220745086669922, 14.665044784545898, 16.523277282714844, 15.966373443603516, 14.880528450012207, 13.591906547546387, 14.311800956726074, 14.462325096130371, 13.796246528625488, 15.642744064331055, 14.021330833435059, 14.390199661254883, 15.59053897857666, 13.632813453674316, 14.24349308013916, 13.176202774047852, 13.939947128295898, 15.38035774230957, 14.786308288574219, 15.174574851989746, 14.3826322555542, 14.699075698852539, 14.327441215515137, 15.931124687194824, 15.057758331298828, 14.566320419311523, 14.897024154663086, 13.727150917053223, 14.788393020629883, 15.734577178955078, 14.917205810546875, 15.2142333984375, 15.56301498413086, 15.204973220825195, 14.584625244140625, 14.369580268859863, 14.258070945739746, 13.64647388458252, 14.405668258666992, 14.206425666809082, 14.824724197387695, 14.75606632232666, 13.693310737609863, 16.118396759033203, 15.769030570983887, 13.97841739654541, 14.96865177154541, 15.19663143157959, 15.232237815856934, 14.8219633102417, 15.551405906677246, 14.34809398651123, 15.103226661682129, 14.21155071258545, 13.910811424255371, 15.505375862121582, 14.71692943572998, 13.267383575439453, 13.597274780273438, 13.574865341186523, 14.222482681274414, 14.731624603271484, 14.23502254486084, 14.632682800292969, 15.072763442993164, 14.319313049316406, 14.16342830657959, 15.19101619720459, 13.7621431350708, 13.583207130432129, 14.475469589233398, 15.715996742248535, 13.8694429397583, 14.207540512084961, 13.906827926635742, 13.658808708190918, 13.743778228759766, 14.341609954833984, 14.522748947143555], 'val_mae': [4.216765880584717, 3.2360386848449707, 3.042205572128296, 2.661616802215576, 2.846339225769043, 2.7056479454040527, 2.7394983768463135, 2.6941018104553223, 2.619936466217041, 2.6573214530944824, 2.64562726020813, 2.4998362064361572, 2.486588478088379, 2.619368553161621, 2.457484245300293, 2.6208651065826416, 2.685771942138672, 2.7332255840301514, 2.738018751144409, 2.523714303970337, 2.5625557899475098, 2.833178758621216, 2.5194361209869385, 2.624474048614502, 2.402708053588867, 2.497241973876953, 2.620168924331665, 2.545970916748047, 2.436847686767578, 2.5009961128234863, 2.6862149238586426, 2.9310152530670166, 2.5879275798797607, 2.6718478202819824, 2.6178054809570312, 2.568040370941162, 2.6906847953796387, 2.6400632858276367, 2.5874292850494385, 2.496385097503662, 2.5574779510498047, 2.8926682472229004, 2.6283345222473145, 2.7049508094787598, 2.4417054653167725, 2.504270553588867, 2.7319881916046143, 2.5559005737304688, 2.923671007156372, 2.7493560314178467, 2.5576465129852295, 2.6209540367126465, 2.4984188079833984, 2.64264178276062, 2.579852819442749, 2.575944423675537, 2.809624671936035, 2.6469578742980957, 2.488739013671875, 2.556191921234131, 2.4613730907440186, 2.8759753704071045, 2.6381771564483643, 2.9021294116973877, 2.7297983169555664, 2.623495578765869, 2.558626651763916, 2.5307750701904297, 2.5088605880737305, 2.7280218601226807, 2.707413673400879, 2.6943087577819824, 2.8065571784973145, 2.5295333862304688, 2.701960802078247, 2.8182313442230225, 2.586899518966675, 2.669447183609009, 2.7723610401153564, 2.7072854042053223, 2.730053186416626, 2.657055616378784, 2.7297351360321045, 2.769298791885376, 2.725989580154419, 2.814011335372925, 2.552661657333374, 2.7908458709716797, 2.541865825653076, 2.838641405105591, 2.7048568725585938, 2.9932239055633545, 2.8584423065185547, 2.801525354385376, 2.681516647338867, 2.682553768157959, 2.726531744003296, 2.7731332778930664, 2.7761893272399902, 2.7448391914367676, 2.737031936645508, 2.876054525375366, 2.7402312755584717, 2.7398433685302734, 2.7653286457061768, 2.8953280448913574, 2.8606338500976562, 2.774554967880249, 2.6896111965179443, 2.814138174057007, 2.8245818614959717, 2.816112518310547, 2.9945502281188965, 2.8387069702148438, 2.7853004932403564, 3.2021234035491943, 2.7552499771118164, 2.7064268589019775, 2.6148645877838135, 2.7071616649627686, 2.8537821769714355, 2.9239659309387207, 2.772292375564575, 2.523314952850342, 2.787539005279541, 2.6729977130889893, 2.5992352962493896, 2.7737066745758057, 2.8615686893463135, 2.623983144760132, 2.783953905105591, 2.8376827239990234, 2.8748748302459717, 2.7512285709381104, 2.7814159393310547, 2.7179362773895264, 2.6503400802612305, 2.762591600418091, 2.935659646987915, 2.8347954750061035, 2.8468003273010254, 2.7312183380126953, 3.0064022541046143, 2.7071657180786133, 2.7489218711853027, 2.694664478302002, 2.7562146186828613, 2.6494300365448, 2.7731382846832275, 2.7547686100006104, 2.6959354877471924, 2.7865939140319824, 2.8293142318725586, 2.681159257888794, 2.579967498779297, 2.9679930210113525, 2.733610153198242, 2.839341640472412, 2.6940462589263916, 2.7242090702056885, 2.7944133281707764, 2.764742612838745, 3.1631529331207275, 2.680877685546875, 2.869657278060913, 2.739325523376465, 2.656355857849121, 2.7207603454589844, 2.678717851638794, 2.769561767578125, 2.921764373779297, 2.731602668762207, 2.812713861465454, 2.892751455307007, 2.7049782276153564, 2.7659709453582764, 2.734863519668579, 2.979337692260742, 2.695889711380005, 2.7600395679473877, 2.9869937896728516, 2.7096712589263916, 2.6762890815734863, 2.664872646331787, 2.7381486892700195, 2.957906484603882, 2.7816827297210693, 2.8284120559692383, 2.640997886657715, 2.727138042449951, 2.896787405014038, 2.826547861099243, 2.7746291160583496, 2.761064052581787, 2.800328016281128, 2.8569588661193848, 2.8964130878448486, 2.9095094203948975, 2.776550054550171, 2.7658770084381104, 2.7681193351745605, 2.8437654972076416, 2.8704755306243896, 2.817949056625366, 2.809580087661743, 2.7809863090515137, 2.7994437217712402, 2.798024892807007, 2.754171848297119, 2.811021327972412, 2.9251279830932617, 2.7553017139434814, 2.795461893081665, 2.8516762256622314, 2.6661617755889893, 2.8126142024993896, 2.963045835494995, 2.7728121280670166, 2.750169515609741, 2.766404628753662, 2.835481643676758, 2.8314108848571777, 2.7982749938964844, 2.899729013442993, 2.68416428565979, 2.7117862701416016, 2.7389817237854004, 2.716245412826538, 2.7797961235046387, 2.80047869682312, 2.7636682987213135, 2.791858434677124, 2.801896572113037, 2.8614726066589355, 3.013092279434204, 2.886333703994751, 2.751603841781616, 2.760160207748413, 2.7454068660736084, 2.721604824066162, 2.6641201972961426, 2.740126609802246, 2.7795357704162598, 3.0124261379241943, 2.711637496948242, 2.912416458129883, 2.6559550762176514, 2.812690019607544, 2.866581916809082, 2.65759539604187, 2.835416793823242, 2.861490488052368, 2.728487253189087, 2.6670875549316406, 2.721580982208252, 2.678647994995117, 2.694427490234375, 2.8485989570617676, 2.683425188064575, 2.735524892807007, 2.8212993144989014, 2.8112170696258545, 2.7093894481658936, 2.7183759212493896, 2.8090898990631104, 2.8042988777160645, 2.7312588691711426, 2.9052135944366455, 2.787832498550415, 2.752908945083618, 2.751711368560791, 2.6951799392700195, 2.7523272037506104, 2.917593240737915, 2.692927598953247, 2.8667995929718018, 2.8922157287597656, 2.8105826377868652, 2.754922389984131, 2.777498483657837, 2.684785842895508, 2.7891197204589844, 2.710885524749756, 2.797198534011841, 2.849771738052368, 2.772099018096924, 2.777162790298462, 2.771026611328125, 2.691927194595337, 2.7459139823913574, 2.7212414741516113, 2.7761707305908203, 2.800065755844116, 2.75091814994812, 2.81963849067688, 2.7887706756591797, 2.7655959129333496, 2.6817967891693115, 2.803818702697754, 2.7990365028381348, 2.7130961418151855, 2.7990734577178955, 2.849905252456665, 2.718492031097412, 2.699769973754883, 2.7557296752929688, 2.837082624435425, 2.75862717628479, 2.8459632396698, 3.0083484649658203, 2.755965232849121, 2.707012414932251, 2.7329769134521484, 2.736135244369507, 2.844874620437622, 2.6940364837646484, 2.8456592559814453, 2.795105218887329, 2.6675190925598145, 2.750688076019287, 2.7599880695343018, 2.8181312084198, 2.7327001094818115, 2.727656841278076, 2.8442089557647705, 2.7846829891204834, 2.8854286670684814, 2.8248696327209473, 2.8005142211914062, 2.7405316829681396, 2.8780131340026855, 2.761657953262329, 2.8661699295043945, 2.932460308074951, 2.8285603523254395, 2.932752847671509, 2.865156412124634, 2.7654218673706055, 2.7474236488342285, 2.8251571655273438, 2.6983437538146973, 2.891740322113037, 2.8812875747680664, 2.731774091720581, 2.8287265300750732, 2.819598436355591, 2.7626140117645264, 2.7046055793762207, 2.8125150203704834, 2.72403621673584, 2.809522867202759, 2.704575538635254, 2.8215103149414062, 2.715698480606079, 2.7359719276428223, 2.7360637187957764, 2.9755873680114746, 2.7805185317993164, 2.7199437618255615, 2.7255194187164307, 2.7277138233184814, 2.8113491535186768, 2.611858367919922, 2.8648853302001953, 2.694598913192749, 2.8685758113861084, 2.80521559715271, 2.7223010063171387, 2.818060874938965, 2.715768575668335, 2.7363698482513428, 2.704512596130371, 2.8116862773895264, 2.738848924636841, 2.695430040359497, 2.784026861190796, 2.8383965492248535, 2.743060350418091, 2.6559224128723145, 2.797138214111328, 2.7837913036346436, 2.7226741313934326, 2.753314733505249, 2.6707069873809814, 2.7845540046691895, 2.7519071102142334, 2.631192445755005, 2.7335333824157715, 2.7601571083068848, 2.8728747367858887, 2.7800137996673584, 2.71124529838562, 2.7076776027679443, 2.740185499191284, 2.766258955001831, 2.6403443813323975, 2.7690303325653076, 2.74391770362854, 2.761601448059082, 2.750533103942871, 2.725548267364502, 2.6486361026763916, 2.658754587173462, 2.900188684463501, 2.8018550872802734, 2.7561440467834473, 2.800631284713745, 2.7213640213012695, 2.7381768226623535, 2.6478381156921387, 2.681791305541992, 2.7979416847229004, 2.7874138355255127, 2.777186393737793, 2.7906548976898193, 2.7015652656555176, 2.7481026649475098, 2.6877317428588867, 2.721500873565674, 2.6401526927948, 2.7941060066223145, 2.810026168823242, 2.6588149070739746, 2.808302164077759, 2.7575879096984863, 2.722656011581421, 2.718141555786133, 2.5589938163757324, 2.6195433139801025, 2.6048243045806885, 2.8629276752471924, 2.7566683292388916, 2.683438539505005, 2.686704158782959, 2.716599464416504, 2.5667107105255127, 2.607006788253784, 2.6445651054382324, 2.7084641456604004, 2.6861190795898438, 2.6918418407440186, 2.816143274307251, 2.789473533630371, 2.66335129737854, 2.7634477615356445, 2.767789363861084, 2.7514939308166504, 2.7732160091400146, 2.6429812908172607, 2.701859951019287, 2.7286324501037598, 2.69568133354187, 2.6981372833251953, 2.69590163230896, 2.699230432510376, 2.5755093097686768, 2.771282911300659, 2.640669107437134, 2.620028018951416, 2.663529872894287, 2.665405511856079, 2.701080322265625, 2.6175570487976074, 2.6299197673797607, 2.702707052230835, 2.7484800815582275, 2.6495392322540283, 2.7296760082244873, 2.689655303955078, 2.6630396842956543, 2.623972177505493, 2.620851993560791, 2.593855142593384, 2.6371910572052, 2.6524970531463623, 2.75469708442688, 2.773838996887207, 2.668304204940796, 2.608830451965332, 2.6525044441223145, 2.629420280456543, 2.5861384868621826, 2.690800189971924, 2.662801504135132, 2.6758522987365723, 2.685316324234009, 2.6927483081817627, 2.7118992805480957, 2.7789242267608643, 2.6544837951660156, 2.6444387435913086, 2.6805999279022217, 2.802525520324707, 2.6432945728302, 2.5976829528808594, 2.6727776527404785, 2.546931505203247, 2.626743793487549, 2.6512913703918457, 2.756772518157959]}\n",
            "processing fold # 3\n",
            "{'loss': [200.17311096191406, 25.965389251708984, 19.029218673706055, 15.611964225769043, 14.939032554626465, 13.415780067443848, 12.892302513122559, 12.67654800415039, 11.687552452087402, 11.33795166015625, 10.639138221740723, 10.245634078979492, 9.930500984191895, 9.982507705688477, 9.637706756591797, 9.342907905578613, 9.338998794555664, 9.033838272094727, 8.584641456604004, 8.785648345947266, 8.688183784484863, 8.630661964416504, 8.090874671936035, 7.590179920196533, 8.352909088134766, 7.912202835083008, 7.920132160186768, 7.382052898406982, 7.287933826446533, 7.243382453918457, 7.078150749206543, 7.029051303863525, 6.727488994598389, 7.2238593101501465, 6.745542049407959, 7.068160533905029, 6.67230749130249, 6.675590991973877, 6.586167335510254, 6.197074890136719, 6.566007614135742, 6.837067127227783, 6.4016618728637695, 6.1587371826171875, 6.652462005615234, 6.10227632522583, 6.056118488311768, 6.125323295593262, 6.112821102142334, 6.1153564453125, 5.616912364959717, 5.76934814453125, 5.636076927185059, 5.59330940246582, 5.679249286651611, 5.6820573806762695, 5.46159029006958, 5.424138069152832, 5.691847801208496, 5.309442520141602, 5.485555648803711, 5.580721378326416, 5.092162132263184, 5.22735595703125, 5.220290184020996, 4.93463134765625, 5.203624725341797, 4.748715877532959, 4.639509677886963, 4.838611125946045, 4.676569938659668, 4.882392883300781, 4.87448787689209, 5.066786289215088, 4.435911655426025, 4.778998374938965, 4.662917613983154, 4.798072338104248, 4.560623645782471, 4.752903938293457, 4.01569938659668, 4.5684943199157715, 4.672054290771484, 4.229892253875732, 4.41249418258667, 4.456598281860352, 4.172235488891602, 4.3105268478393555, 4.5715155601501465, 3.933642864227295, 4.090566158294678, 4.23943567276001, 4.324882507324219, 3.8736870288848877, 4.301488876342773, 3.8378193378448486, 3.9757862091064453, 3.917370080947876, 3.7228991985321045, 4.052574157714844, 3.984898805618286, 3.6776115894317627, 4.11950159072876, 3.3264710903167725, 3.6364758014678955, 3.947732925415039, 3.7975034713745117, 3.663935899734497, 3.592164993286133, 3.465823173522949, 3.774744749069214, 3.705362558364868, 3.9511537551879883, 3.2744181156158447, 3.6148104667663574, 3.4160091876983643, 3.3082592487335205, 3.5978024005889893, 3.5347583293914795, 3.398521661758423, 3.5593628883361816, 3.2754578590393066, 3.3557496070861816, 3.327731132507324, 3.277237892150879, 3.262362480163574, 3.256378412246704, 3.2254695892333984, 3.2799949645996094, 3.234588146209717, 3.087188720703125, 3.3001840114593506, 3.0497474670410156, 3.2382314205169678, 3.229729175567627, 3.051487922668457, 3.0075080394744873, 3.042409658432007, 2.898151159286499, 3.050081491470337, 2.923236131668091, 2.7222747802734375, 2.9218947887420654, 2.890725612640381, 2.910238742828369, 2.6657683849334717, 2.985349655151367, 2.919088125228882, 2.7882816791534424, 2.798065185546875, 2.505131483078003, 2.8076722621917725, 2.6562204360961914, 2.640979051589966, 2.687533140182495, 2.621544361114502, 2.5351359844207764, 2.712144613265991, 2.7585482597351074, 2.760244131088257, 2.594975709915161, 2.536226272583008, 2.624737024307251, 2.5121548175811768, 2.5827927589416504, 2.6677632331848145, 2.61877179145813, 2.581935167312622, 2.5152759552001953, 2.582019805908203, 2.4346799850463867, 2.5383238792419434, 2.4691002368927, 2.4767634868621826, 2.3054187297821045, 2.3762595653533936, 2.2169182300567627, 2.231477737426758, 2.334010124206543, 2.5090527534484863, 2.5314598083496094, 2.1698315143585205, 2.5449492931365967, 2.4216678142547607, 2.2448341846466064, 2.0839736461639404, 2.5795536041259766, 2.164541006088257, 2.2352380752563477, 2.310002326965332, 2.247039794921875, 2.1615262031555176, 2.330698251724243, 2.0426292419433594, 2.3399457931518555, 2.3300869464874268, 2.1663472652435303, 2.1831727027893066, 2.1913375854492188, 2.227473735809326, 2.215914487838745, 2.2588367462158203, 1.9705002307891846, 2.2979302406311035, 2.090552806854248, 2.1403021812438965, 2.1286816596984863, 2.029258966445923, 1.9302890300750732, 1.980340838432312, 1.879278302192688, 2.2366766929626465, 2.1001086235046387, 2.005060911178589, 2.0180954933166504, 2.0167295932769775, 1.9472472667694092, 1.9547492265701294, 2.0110530853271484, 2.000347375869751, 1.9927903413772583, 2.0565345287323, 1.8676693439483643, 1.7994632720947266, 1.8199632167816162, 1.8878929615020752, 1.998451590538025, 1.9523297548294067, 1.8427672386169434, 1.9512556791305542, 1.8316988945007324, 1.836917519569397, 1.7122806310653687, 1.657724142074585, 1.7103307247161865, 1.738086462020874, 1.763329267501831, 1.951431155204773, 1.7107009887695312, 1.7775717973709106, 1.6555284261703491, 1.7094817161560059, 1.7695417404174805, 1.6973778009414673, 1.7117613554000854, 1.910565733909607, 1.7343425750732422, 1.644533395767212, 1.7065774202346802, 1.718558669090271, 1.6051217317581177, 1.6514796018600464, 1.7479238510131836, 1.6181083917617798, 1.7477426528930664, 1.4971845149993896, 1.7884713411331177, 1.7128962278366089, 1.579740285873413, 1.666483998298645, 1.5559049844741821, 1.659691333770752, 1.462561845779419, 1.6255301237106323, 1.6057488918304443, 1.6206915378570557, 1.5503520965576172, 1.7664140462875366, 1.6158218383789062, 1.4015071392059326, 1.6483739614486694, 1.5313507318496704, 1.6195967197418213, 1.6382333040237427, 1.5204998254776, 1.571400761604309, 1.6394466161727905, 1.6237056255340576, 1.4504209756851196, 1.6126768589019775, 1.3920936584472656, 1.4345782995224, 1.5031622648239136, 1.3972254991531372, 1.6215623617172241, 1.4366133213043213, 1.5635998249053955, 1.4424011707305908, 1.4814039468765259, 1.5521667003631592, 1.4399209022521973, 1.4594175815582275, 1.422243595123291, 1.4382398128509521, 1.4108864068984985, 1.472023844718933, 1.4245350360870361, 1.487436056137085, 1.5452553033828735, 1.3817745447158813, 1.4507741928100586, 1.4687529802322388, 1.3159619569778442, 1.537431001663208, 1.3713562488555908, 1.3928821086883545, 1.461377501487732, 1.505008578300476, 1.3325790166854858, 1.3836649656295776, 1.298332691192627, 1.3709349632263184, 1.3239723443984985, 1.2253597974777222, 1.3604342937469482, 1.4201035499572754, 1.3308223485946655, 1.3960336446762085, 1.1887755393981934, 1.454215168952942, 1.2501311302185059, 1.4230093955993652, 1.2549457550048828, 1.3740521669387817, 1.3825138807296753, 1.2640339136123657, 1.3543999195098877, 1.2538982629776, 1.3449903726577759, 1.3617758750915527, 1.3636666536331177, 1.3109111785888672, 1.291673183441162, 1.315812587738037, 1.3910006284713745, 1.1339950561523438, 1.2100622653961182, 1.2275720834732056, 1.3344684839248657, 1.3566852807998657, 1.250622272491455, 1.1672965288162231, 1.3380385637283325, 1.2468634843826294, 1.1702306270599365, 1.2743418216705322, 1.208915114402771, 1.3402141332626343, 1.2954442501068115, 1.4289331436157227, 1.1705623865127563, 1.1192609071731567, 1.2394291162490845, 1.181247591972351, 1.318460464477539, 1.2306121587753296, 1.1404006481170654, 1.2145816087722778, 1.1207127571105957, 1.3596479892730713, 1.2325339317321777, 1.2690316438674927, 1.166011095046997, 1.2562192678451538, 1.1160426139831543, 1.1899619102478027, 1.1530004739761353, 1.1738264560699463, 1.157285213470459, 1.1552445888519287, 1.2312734127044678, 1.1774728298187256, 1.2028124332427979, 1.0919162034988403, 1.104837417602539, 1.0973490476608276, 1.0778191089630127, 1.1261184215545654, 1.0668835639953613, 1.2186907529830933, 1.223617672920227, 1.1004945039749146, 1.2045977115631104, 1.2201570272445679, 1.1227306127548218, 1.2672863006591797, 1.0898691415786743, 1.3216376304626465, 1.0510019063949585, 1.0706855058670044, 1.1838293075561523, 1.1039930582046509, 1.2005666494369507, 1.1203875541687012, 1.242779016494751, 1.052369475364685, 1.0640496015548706, 1.0476915836334229, 1.1618820428848267, 1.0960010290145874, 1.1596055030822754, 1.0769338607788086, 1.0056864023208618, 1.081740379333496, 0.9864437580108643, 1.065001368522644, 1.0322203636169434, 1.0960841178894043, 1.1563827991485596, 1.1872678995132446, 1.0707693099975586, 1.130318522453308, 0.9951656460762024, 1.0680787563323975, 1.072352647781372, 0.9921930432319641, 1.0518730878829956, 1.04658842086792, 1.0953316688537598, 1.052075743675232, 0.9994264245033264, 1.010299563407898, 0.8570623993873596, 1.140118956565857, 0.8999283313751221, 0.9886420369148254, 1.1880570650100708, 0.9809324741363525, 0.8866918683052063, 1.1901915073394775, 0.9468063712120056, 1.1131553649902344, 0.980804443359375, 0.9648886919021606, 1.0149667263031006, 1.0627727508544922, 0.9468116164207458, 1.0824681520462036, 0.9017220139503479, 0.9550185799598694, 1.0341416597366333, 1.0123348236083984, 0.9815476536750793, 0.8986318707466125, 1.0417003631591797, 0.9500728249549866, 0.9203481078147888, 0.993353009223938, 0.9176471829414368, 0.8405707478523254, 0.9856866598129272, 1.0312691926956177, 0.9154682159423828, 0.8143758177757263, 1.0013059377670288, 0.9964880347251892, 0.9422759413719177, 0.9463605880737305, 0.9371700286865234, 0.858377993106842, 0.9057404398918152, 0.9793921709060669, 0.8834716081619263, 0.9993423819541931, 0.8996126055717468, 0.8521502017974854, 1.0233168601989746, 0.9312387704849243, 0.8121076822280884, 0.9470067620277405, 0.9372945427894592, 0.9275180101394653, 0.9593481421470642, 0.9247909784317017, 0.9082280993461609, 0.8777738809585571, 0.9000951051712036, 0.9357534646987915, 0.8287196159362793, 0.8736327290534973, 0.836150586605072, 0.9028118848800659, 0.8747193813323975, 0.8475492596626282, 0.9508532881736755, 0.8672325015068054, 0.7986210584640503, 0.844477117061615, 0.8447436094284058, 0.829369068145752, 0.8519574403762817, 0.9053744673728943, 0.9839465618133545, 0.7952597737312317, 0.8777931332588196, 0.846886157989502, 0.8321696519851685, 0.8544201850891113, 0.7743433713912964, 1.0106209516525269], 'mae': [10.770631790161133, 3.3776235580444336, 2.775465488433838, 2.5880911350250244, 2.4421989917755127, 2.345130681991577, 2.2583069801330566, 2.2391014099121094, 2.251108407974243, 2.2182600498199463, 2.0942115783691406, 2.120671272277832, 2.1020143032073975, 2.0496878623962402, 2.0468199253082275, 1.963079810142517, 1.9420939683914185, 1.9846594333648682, 1.9132757186889648, 1.960384726524353, 1.910815715789795, 1.8923823833465576, 1.9113258123397827, 1.8157401084899902, 1.8289440870285034, 1.7550209760665894, 1.756203055381775, 1.8345832824707031, 1.7528321743011475, 1.7782365083694458, 1.7426708936691284, 1.7138700485229492, 1.6831437349319458, 1.7143137454986572, 1.6667824983596802, 1.717535138130188, 1.6443899869918823, 1.7158868312835693, 1.7036994695663452, 1.600237488746643, 1.6184111833572388, 1.604904294013977, 1.6089717149734497, 1.6130212545394897, 1.6857151985168457, 1.6400288343429565, 1.598162055015564, 1.580802083015442, 1.6508350372314453, 1.560555338859558, 1.522300362586975, 1.5794390439987183, 1.5792115926742554, 1.5016517639160156, 1.5544582605361938, 1.5536478757858276, 1.5537049770355225, 1.4835070371627808, 1.5138581991195679, 1.5149303674697876, 1.471382737159729, 1.5293514728546143, 1.4600015878677368, 1.566541314125061, 1.4909225702285767, 1.4428776502609253, 1.4803067445755005, 1.4722259044647217, 1.4015175104141235, 1.4088385105133057, 1.4160760641098022, 1.4531437158584595, 1.4491333961486816, 1.4006998538970947, 1.392682671546936, 1.4424488544464111, 1.4216322898864746, 1.3960535526275635, 1.365624189376831, 1.4171754121780396, 1.319374918937683, 1.3583589792251587, 1.361831784248352, 1.345766305923462, 1.400402307510376, 1.3452008962631226, 1.3859018087387085, 1.3505645990371704, 1.3077863454818726, 1.311141848564148, 1.2700837850570679, 1.3150291442871094, 1.3028815984725952, 1.267338514328003, 1.3491160869598389, 1.3153038024902344, 1.2549253702163696, 1.2641947269439697, 1.2629263401031494, 1.3113213777542114, 1.2844196557998657, 1.2072523832321167, 1.2362579107284546, 1.2297804355621338, 1.2782363891601562, 1.2460885047912598, 1.284417986869812, 1.2250266075134277, 1.2362687587738037, 1.2216079235076904, 1.229375958442688, 1.2345483303070068, 1.2738115787506104, 1.1862406730651855, 1.2148202657699585, 1.225052833557129, 1.1784723997116089, 1.2162991762161255, 1.2433258295059204, 1.2231416702270508, 1.2115412950515747, 1.2084522247314453, 1.2139643430709839, 1.1892131567001343, 1.2103500366210938, 1.1863484382629395, 1.1972779035568237, 1.1925197839736938, 1.1556426286697388, 1.1951475143432617, 1.0944467782974243, 1.2097710371017456, 1.1162517070770264, 1.2002867460250854, 1.183828592300415, 1.1367913484573364, 1.0880329608917236, 1.1599587202072144, 1.0796433687210083, 1.1377665996551514, 1.1810264587402344, 1.1364355087280273, 1.1484049558639526, 1.1018750667572021, 1.1771425008773804, 1.1118415594100952, 1.1281468868255615, 1.1201155185699463, 1.1553534269332886, 1.12391996383667, 1.0681277513504028, 1.0871514081954956, 1.151699423789978, 1.1143847703933716, 1.1069841384887695, 1.1206490993499756, 1.1062430143356323, 1.1247434616088867, 1.0975730419158936, 1.1336950063705444, 1.0034668445587158, 1.1092419624328613, 1.0784302949905396, 1.0690193176269531, 1.1144341230392456, 1.0803765058517456, 1.0915943384170532, 1.1029608249664307, 1.0609710216522217, 1.090710997581482, 1.0625182390213013, 1.0857480764389038, 1.0471798181533813, 1.0772693157196045, 1.0190075635910034, 1.069000244140625, 1.0373982191085815, 1.0494542121887207, 1.0647183656692505, 1.0372209548950195, 1.0535153150558472, 1.0486546754837036, 1.052650809288025, 1.0810004472732544, 1.0213136672973633, 1.0085095167160034, 1.0615795850753784, 1.066007137298584, 1.0219378471374512, 1.0545417070388794, 1.0535556077957153, 1.0423047542572021, 1.0524203777313232, 1.0265434980392456, 1.0155748128890991, 1.0406144857406616, 0.9941869378089905, 0.9896929264068604, 1.0411049127578735, 1.0425691604614258, 1.012662649154663, 1.0038361549377441, 0.9840707182884216, 1.0174838304519653, 0.9684452414512634, 1.0175025463104248, 1.0084153413772583, 0.9909173250198364, 0.9849627017974854, 1.0066763162612915, 0.9537127614021301, 1.019907832145691, 1.0310184955596924, 0.9436697959899902, 0.971441388130188, 1.0025080442428589, 0.9768282175064087, 0.9821743965148926, 0.9609758853912354, 0.9990216493606567, 0.9756140112876892, 1.0191402435302734, 0.9723132252693176, 0.9540907144546509, 0.9823339581489563, 0.9645320177078247, 0.9770433306694031, 0.9755063652992249, 0.9656019806861877, 1.0062692165374756, 0.9715870022773743, 0.9985935688018799, 0.9186056852340698, 0.9369093179702759, 0.9158545732498169, 0.9720526337623596, 0.9562708139419556, 0.9983282685279846, 0.8979731798171997, 0.9280253648757935, 0.9404498338699341, 0.9389539957046509, 0.9417388439178467, 0.9569512605667114, 0.9320057034492493, 1.0207009315490723, 0.9416869282722473, 0.9490200281143188, 0.9285609722137451, 0.9113476276397705, 0.9114083647727966, 0.9290474653244019, 0.9104092717170715, 0.9032055735588074, 0.9230399131774902, 0.8669121265411377, 0.9504337906837463, 0.9516432285308838, 0.8766595125198364, 0.9184970259666443, 0.8653614521026611, 0.8976173400878906, 0.8968546390533447, 0.9085729718208313, 0.891922652721405, 0.8849676847457886, 0.8720842003822327, 0.9000207781791687, 0.8802291750907898, 0.8540313243865967, 0.9014543294906616, 0.8799641728401184, 0.9312243461608887, 0.8861844539642334, 0.8660457730293274, 0.8618396520614624, 0.9116281270980835, 0.8984334468841553, 0.8615185618400574, 0.913228452205658, 0.8680543899536133, 0.8718662858009338, 0.8943076729774475, 0.8533307909965515, 0.9033961296081543, 0.8608043193817139, 0.8653081059455872, 0.8591222763061523, 0.8496744632720947, 0.8952242136001587, 0.8388875126838684, 0.8488937020301819, 0.8617477416992188, 0.8404448628425598, 0.8768329620361328, 0.8700892925262451, 0.8630419373512268, 0.8552770614624023, 0.8882948160171509, 0.8293643593788147, 0.8616982698440552, 0.8963978290557861, 0.8224080204963684, 0.8821911811828613, 0.8474830985069275, 0.8639098405838013, 0.8856810331344604, 0.8580992817878723, 0.7893407940864563, 0.8771655559539795, 0.8410595059394836, 0.8242400288581848, 0.8303773403167725, 0.8204360604286194, 0.8469343781471252, 0.8552030324935913, 0.8659213781356812, 0.8437784910202026, 0.8034948706626892, 0.8894422650337219, 0.8089684247970581, 0.850446343421936, 0.8187218904495239, 0.8453259468078613, 0.8681964874267578, 0.8218525648117065, 0.8257202506065369, 0.8141219615936279, 0.8403881788253784, 0.8559202551841736, 0.831889271736145, 0.8343682885169983, 0.8157110214233398, 0.8453329801559448, 0.8139101266860962, 0.7810185551643372, 0.8143977522850037, 0.8337475657463074, 0.8383748531341553, 0.8100131154060364, 0.7988575100898743, 0.7601599097251892, 0.8318619728088379, 0.8087102770805359, 0.8158486485481262, 0.8126168251037598, 0.8130432963371277, 0.8227357268333435, 0.8307268619537354, 0.8228116035461426, 0.7778090238571167, 0.7757060527801514, 0.7853562831878662, 0.7989951372146606, 0.8362761735916138, 0.7719069123268127, 0.7642502188682556, 0.7682512998580933, 0.7869871258735657, 0.8157810568809509, 0.7971320748329163, 0.8067882061004639, 0.7575386762619019, 0.7879987359046936, 0.7456992268562317, 0.8014358878135681, 0.8011564612388611, 0.7684272527694702, 0.7654088735580444, 0.781080424785614, 0.8052849173545837, 0.7494099736213684, 0.7757256031036377, 0.7345885038375854, 0.7809303998947144, 0.7781656980514526, 0.7650869488716125, 0.7875955700874329, 0.7456230521202087, 0.8161690831184387, 0.8007476925849915, 0.7689229846000671, 0.787446916103363, 0.7757781147956848, 0.7694568634033203, 0.7731097936630249, 0.7645821571350098, 0.8032231330871582, 0.7320931553840637, 0.7865735292434692, 0.8018953800201416, 0.7507374286651611, 0.780274510383606, 0.7637084126472473, 0.8033348321914673, 0.7489078044891357, 0.7470976710319519, 0.7374609708786011, 0.7660902142524719, 0.7488300800323486, 0.8002002835273743, 0.7706480622291565, 0.7662696242332458, 0.7777383327484131, 0.7251575589179993, 0.7752090692520142, 0.7605271935462952, 0.7365046739578247, 0.7754501104354858, 0.7779175043106079, 0.7526772618293762, 0.7583380341529846, 0.7270448803901672, 0.7484431266784668, 0.7601904273033142, 0.7076977491378784, 0.7492092251777649, 0.7228007316589355, 0.7602571249008179, 0.744171142578125, 0.7394420504570007, 0.7590416073799133, 0.6920202374458313, 0.759009599685669, 0.7073939442634583, 0.7301139831542969, 0.788268506526947, 0.7343891263008118, 0.7018422484397888, 0.7681569457054138, 0.7186397314071655, 0.7689713835716248, 0.7381118535995483, 0.7117576003074646, 0.7292434573173523, 0.7415826916694641, 0.7130608558654785, 0.7311540246009827, 0.6832452416419983, 0.7365620136260986, 0.73035728931427, 0.6950699090957642, 0.7328020930290222, 0.7018714547157288, 0.7548696994781494, 0.7177156209945679, 0.7017003297805786, 0.713397741317749, 0.6922213435173035, 0.6775116324424744, 0.729095458984375, 0.7350037097930908, 0.705260157585144, 0.6593722701072693, 0.6980851888656616, 0.7106055021286011, 0.6921553015708923, 0.7021129727363586, 0.685548722743988, 0.6940442323684692, 0.7118967175483704, 0.7188723087310791, 0.7100349068641663, 0.7288957238197327, 0.7175017595291138, 0.6699155569076538, 0.7337026596069336, 0.7035506367683411, 0.6638768315315247, 0.7161474227905273, 0.7078391909599304, 0.7052981853485107, 0.7031230926513672, 0.7197525501251221, 0.6831693053245544, 0.6674034595489502, 0.7028324007987976, 0.7009751796722412, 0.6719689965248108, 0.6692363619804382, 0.6588870882987976, 0.6687037348747253, 0.6816349625587463, 0.6787432432174683, 0.6949989199638367, 0.6587537527084351, 0.668603777885437, 0.6764455437660217, 0.6646142601966858, 0.675965428352356, 0.6824695467948914, 0.6812923550605774, 0.725574254989624, 0.6680195331573486, 0.6888238787651062, 0.6777650117874146, 0.6699512600898743, 0.6759085655212402, 0.6501882076263428, 0.7306111454963684], 'val_loss': [65.66175842285156, 33.62282180786133, 29.45423126220703, 24.17173957824707, 24.198293685913086, 22.022689819335938, 21.991647720336914, 19.308433532714844, 18.140777587890625, 16.84722900390625, 19.614639282226562, 17.765867233276367, 17.23565673828125, 19.39025115966797, 16.70563316345215, 14.774815559387207, 16.031591415405273, 15.682417869567871, 14.645370483398438, 16.260391235351562, 16.02732276916504, 14.502673149108887, 13.945601463317871, 14.971879005432129, 13.083948135375977, 13.180038452148438, 13.486626625061035, 15.879768371582031, 13.553890228271484, 15.882234573364258, 15.846212387084961, 13.251443862915039, 13.186217308044434, 14.097009658813477, 14.512279510498047, 13.823473930358887, 14.311384201049805, 12.435916900634766, 12.969440460205078, 14.198403358459473, 13.766868591308594, 13.155834197998047, 12.647068977355957, 12.896871566772461, 12.045248031616211, 15.162445068359375, 14.546060562133789, 14.408714294433594, 11.617024421691895, 11.79931926727295, 14.7700834274292, 12.249112129211426, 12.643476486206055, 12.31727409362793, 13.607617378234863, 13.27700424194336, 11.96181869506836, 12.262709617614746, 12.115653991699219, 13.740796089172363, 11.754962921142578, 13.041280746459961, 11.541656494140625, 12.76953411102295, 11.694650650024414, 11.570451736450195, 11.384620666503906, 11.865086555480957, 12.219752311706543, 13.252975463867188, 12.059492111206055, 12.1548490524292, 11.335436820983887, 11.463045120239258, 12.56138801574707, 11.539497375488281, 11.515443801879883, 11.4600191116333, 13.402022361755371, 11.722734451293945, 11.840883255004883, 11.024558067321777, 11.797256469726562, 12.991713523864746, 13.18309497833252, 11.653948783874512, 13.541172981262207, 11.881613731384277, 11.583084106445312, 11.46308422088623, 12.74732494354248, 11.098790168762207, 12.36371898651123, 12.251352310180664, 11.834757804870605, 12.23305606842041, 12.284520149230957, 12.16197681427002, 12.385820388793945, 12.109115600585938, 12.462620735168457, 12.138967514038086, 10.564237594604492, 12.741596221923828, 13.908280372619629, 11.000165939331055, 10.562655448913574, 12.380855560302734, 12.814253807067871, 12.401714324951172, 11.941389083862305, 12.162327766418457, 10.3068265914917, 13.062448501586914, 14.434799194335938, 11.957112312316895, 11.356512069702148, 12.776928901672363, 11.838848114013672, 12.172560691833496, 12.623552322387695, 12.146407127380371, 10.779876708984375, 10.506121635437012, 10.912511825561523, 11.080684661865234, 12.198148727416992, 12.619058609008789, 10.890552520751953, 10.618584632873535, 13.22903060913086, 11.071528434753418, 11.181631088256836, 13.826889991760254, 10.567594528198242, 13.9336519241333, 12.473859786987305, 11.527623176574707, 11.480165481567383, 11.669380187988281, 11.04196834564209, 11.050666809082031, 11.782349586486816, 18.69686508178711, 12.149109840393066, 10.38797664642334, 11.806929588317871, 12.63245677947998, 13.286195755004883, 11.782365798950195, 14.739117622375488, 11.877275466918945, 11.65184497833252, 13.708569526672363, 13.939786911010742, 12.566251754760742, 11.653070449829102, 12.833313941955566, 11.290680885314941, 11.403111457824707, 11.00767707824707, 11.204702377319336, 11.034713745117188, 10.574856758117676, 11.815717697143555, 10.841888427734375, 11.719910621643066, 11.604320526123047, 11.757601737976074, 11.3489408493042, 12.309797286987305, 13.873496055603027, 12.446032524108887, 14.298684120178223, 11.616010665893555, 12.007930755615234, 12.42969036102295, 14.944612503051758, 14.168004035949707, 12.309799194335938, 10.948400497436523, 12.893030166625977, 12.236790657043457, 11.482431411743164, 13.844146728515625, 13.276664733886719, 13.632758140563965, 12.593473434448242, 14.178160667419434, 12.845749855041504, 13.589860916137695, 11.256361961364746, 13.60115909576416, 12.25413703918457, 12.46592903137207, 13.383448600769043, 12.098908424377441, 11.476255416870117, 11.367530822753906, 12.351346969604492, 12.495086669921875, 12.83728313446045, 15.086669921875, 12.0647554397583, 13.807504653930664, 12.278337478637695, 11.987015724182129, 12.779815673828125, 11.714563369750977, 12.339460372924805, 12.469234466552734, 12.269259452819824, 13.332130432128906, 11.443735122680664, 15.81057357788086, 12.88225269317627, 13.446263313293457, 11.086381912231445, 11.84937572479248, 12.651944160461426, 11.26020336151123, 11.672271728515625, 11.132121086120605, 11.438383102416992, 13.268106460571289, 12.423772811889648, 11.468246459960938, 13.363582611083984, 15.375636100769043, 10.863109588623047, 11.292539596557617, 11.918864250183105, 12.432228088378906, 13.769383430480957, 13.411540985107422, 13.204010009765625, 12.782217979431152, 13.451957702636719, 14.088578224182129, 11.975837707519531, 11.99575138092041, 13.942767143249512, 12.107097625732422, 12.85549545288086, 15.01012897491455, 11.822613716125488, 12.594663619995117, 12.375334739685059, 13.215080261230469, 12.826026916503906, 14.544443130493164, 12.518324851989746, 12.514206886291504, 12.024582862854004, 14.645675659179688, 12.517642974853516, 12.5736722946167, 12.893461227416992, 14.537906646728516, 13.461929321289062, 16.28842544555664, 13.243359565734863, 14.508869171142578, 15.011792182922363, 12.605528831481934, 13.246480941772461, 13.804447174072266, 11.478320121765137, 13.006577491760254, 13.660873413085938, 13.121536254882812, 14.297728538513184, 14.338850021362305, 15.252498626708984, 12.457620620727539, 13.27806568145752, 15.129325866699219, 13.857847213745117, 13.969587326049805, 13.148619651794434, 14.733465194702148, 14.04782772064209, 15.421150207519531, 14.275577545166016, 14.406922340393066, 14.963766098022461, 12.096022605895996, 13.927667617797852, 13.608841896057129, 14.302846908569336, 13.3661470413208, 12.612855911254883, 16.46518325805664, 14.290514945983887, 13.125235557556152, 14.34310245513916, 13.954151153564453, 13.135847091674805, 12.795015335083008, 13.211250305175781, 16.30510139465332, 14.583966255187988, 12.984823226928711, 12.89552116394043, 15.550490379333496, 13.702217102050781, 14.212053298950195, 12.849153518676758, 13.268795013427734, 12.751764297485352, 14.220396995544434, 14.753620147705078, 13.074151992797852, 13.987825393676758, 12.900472640991211, 13.609587669372559, 13.029216766357422, 13.836060523986816, 13.337898254394531, 13.50033950805664, 12.679220199584961, 13.18374252319336, 13.112625122070312, 14.420008659362793, 15.135994911193848, 13.109665870666504, 13.675206184387207, 13.867818832397461, 12.972932815551758, 13.261213302612305, 15.11523151397705, 13.243620872497559, 13.860465049743652, 13.630792617797852, 14.288763046264648, 13.204026222229004, 13.170315742492676, 13.891225814819336, 13.552373886108398, 14.213500022888184, 14.142233848571777, 14.710958480834961, 13.460387229919434, 14.780717849731445, 13.476734161376953, 13.237348556518555, 14.207175254821777, 13.221644401550293, 13.567856788635254, 12.942424774169922, 13.2338228225708, 12.722650527954102, 13.471463203430176, 12.344682693481445, 14.132551193237305, 14.231842994689941, 13.6185302734375, 13.774065017700195, 14.625842094421387, 14.478194236755371, 13.659244537353516, 14.061664581298828, 15.562745094299316, 14.116148948669434, 14.14613151550293, 13.99716854095459, 14.525598526000977, 14.326059341430664, 13.868985176086426, 14.075736999511719, 14.099749565124512, 14.520099639892578, 13.63209342956543, 14.827564239501953, 15.64826488494873, 14.047662734985352, 15.251505851745605, 14.224533081054688, 14.247478485107422, 14.229791641235352, 13.622708320617676, 12.76313304901123, 12.972290992736816, 13.4559965133667, 13.947606086730957, 15.88082218170166, 15.6280517578125, 13.983908653259277, 14.029953956604004, 14.653707504272461, 15.042017936706543, 13.863811492919922, 13.029717445373535, 12.323991775512695, 12.767570495605469, 16.076906204223633, 13.375683784484863, 13.662693977355957, 14.064224243164062, 15.599004745483398, 13.22547721862793, 13.381409645080566, 15.127830505371094, 14.202975273132324, 14.579689979553223, 12.852015495300293, 14.52962589263916, 15.497861862182617, 13.404914855957031, 15.283839225769043, 15.98875904083252, 13.391046524047852, 13.821823120117188, 13.61184024810791, 15.12161922454834, 14.784704208374023, 14.702703475952148, 13.7835693359375, 14.990303039550781, 13.850977897644043, 14.083651542663574, 14.276408195495605, 14.086678504943848, 13.816269874572754, 14.52377986907959, 14.210711479187012, 14.950000762939453, 14.45763874053955, 14.816187858581543, 13.50549030303955, 13.557287216186523, 15.248525619506836, 14.581901550292969, 15.423598289489746, 14.49926471710205, 14.617389678955078, 14.81789493560791, 14.870475769042969, 14.717820167541504, 14.956705093383789, 13.878999710083008, 16.288982391357422, 13.499852180480957, 14.436203956604004, 13.585092544555664, 15.368967056274414, 14.422916412353516, 15.838753700256348, 15.08430004119873, 15.912687301635742, 16.17720603942871, 14.171737670898438, 16.110692977905273, 14.990310668945312, 14.494872093200684, 14.309063911437988, 13.850956916809082, 14.506606101989746, 14.259723663330078, 15.8241548538208, 15.072587013244629, 14.684422492980957, 14.231287002563477, 15.192930221557617, 14.56873893737793, 15.784940719604492, 15.531229019165039, 14.377300262451172, 15.3906888961792, 16.0766544342041, 15.732417106628418, 14.421314239501953, 14.97948169708252, 13.0394287109375, 13.799010276794434, 14.987308502197266, 14.349273681640625, 15.242110252380371, 16.315061569213867, 14.164207458496094, 15.157832145690918, 13.62779712677002, 14.001781463623047, 13.80774211883545, 14.367043495178223, 14.71634578704834, 14.163239479064941, 14.519111633300781, 12.986196517944336, 13.25306510925293, 14.622092247009277, 14.864459991455078, 13.445941925048828, 14.150800704956055, 13.475738525390625, 14.058480262756348, 16.362707138061523, 14.461725234985352, 14.48022747039795, 13.598503112792969], 'val_mae': [5.353689193725586, 3.7688584327697754, 3.406581401824951, 3.056575059890747, 3.1944289207458496, 2.99051833152771, 3.143622636795044, 2.9478468894958496, 2.8562090396881104, 2.8229904174804688, 3.1176869869232178, 2.897183895111084, 2.862384557723999, 3.0067226886749268, 2.929105758666992, 2.6580779552459717, 2.7436561584472656, 2.6843860149383545, 2.7570981979370117, 2.8938522338867188, 2.7727766036987305, 2.736304521560669, 2.667968511581421, 2.745245933532715, 2.525216817855835, 2.602074146270752, 2.6122446060180664, 2.874001979827881, 2.5413029193878174, 2.8532207012176514, 2.7907466888427734, 2.587517738342285, 2.569040060043335, 2.623847007751465, 2.761274576187134, 2.70695424079895, 2.8461265563964844, 2.4769537448883057, 2.5201454162597656, 2.7789411544799805, 2.683461904525757, 2.709381341934204, 2.5675787925720215, 2.521937847137451, 2.4822494983673096, 2.897064447402954, 2.7829372882843018, 2.8125226497650146, 2.442958354949951, 2.3652589321136475, 2.7988972663879395, 2.5842602252960205, 2.600435256958008, 2.44584321975708, 2.6363470554351807, 2.563410758972168, 2.4797701835632324, 2.474811553955078, 2.47040057182312, 2.6551718711853027, 2.567430257797241, 2.643123149871826, 2.4911444187164307, 2.696171522140503, 2.4791643619537354, 2.426762580871582, 2.447138786315918, 2.50689435005188, 2.4976742267608643, 2.619551181793213, 2.436896324157715, 2.54195499420166, 2.3212945461273193, 2.3691327571868896, 2.645981788635254, 2.3628597259521484, 2.4323019981384277, 2.402895450592041, 2.5997531414031982, 2.4644179344177246, 2.544490098953247, 2.3706448078155518, 2.561333179473877, 2.5648574829101562, 2.600956678390503, 2.4470772743225098, 2.7570502758026123, 2.359694242477417, 2.473586082458496, 2.390775680541992, 2.6545069217681885, 2.341726541519165, 2.486300230026245, 2.539076089859009, 2.4975297451019287, 2.446855068206787, 2.557180643081665, 2.444397211074829, 2.44350004196167, 2.4015719890594482, 2.6048967838287354, 2.4367504119873047, 2.3049368858337402, 2.6530163288116455, 2.732443332672119, 2.40299391746521, 2.3228259086608887, 2.523189067840576, 2.5515060424804688, 2.6120946407318115, 2.5443408489227295, 2.627173662185669, 2.268587350845337, 2.682950735092163, 2.700744867324829, 2.4319069385528564, 2.410219669342041, 2.560861349105835, 2.391524076461792, 2.513023853302002, 2.640235185623169, 2.5723378658294678, 2.3630475997924805, 2.3155901432037354, 2.400315046310425, 2.437028408050537, 2.5497231483459473, 2.5008645057678223, 2.3235392570495605, 2.3323514461517334, 2.7238478660583496, 2.355978488922119, 2.4864389896392822, 2.7765514850616455, 2.293473958969116, 2.7125394344329834, 2.553527593612671, 2.4255268573760986, 2.5166425704956055, 2.367629051208496, 2.393566608428955, 2.3705389499664307, 2.5292673110961914, 3.156881093978882, 2.4928529262542725, 2.3012280464172363, 2.482544183731079, 2.5838475227355957, 2.5929837226867676, 2.46337628364563, 2.7894704341888428, 2.429678201675415, 2.4952900409698486, 2.5888121128082275, 2.7836153507232666, 2.5469932556152344, 2.512463092803955, 2.7179057598114014, 2.4276022911071777, 2.3807642459869385, 2.365635871887207, 2.3730721473693848, 2.3889858722686768, 2.2011518478393555, 2.444216251373291, 2.351269006729126, 2.3846840858459473, 2.292973041534424, 2.552630662918091, 2.3571579456329346, 2.5889666080474854, 2.6285593509674072, 2.4972684383392334, 2.675748348236084, 2.479567050933838, 2.459123134613037, 2.6454737186431885, 2.756413459777832, 2.818678379058838, 2.516735315322876, 2.314312219619751, 2.517888307571411, 2.4343791007995605, 2.4190006256103516, 2.657620906829834, 2.581943988800049, 2.6838607788085938, 2.6853771209716797, 2.7617251873016357, 2.5941107273101807, 2.596788167953491, 2.4101243019104004, 2.668792963027954, 2.5151004791259766, 2.4631245136260986, 2.5441410541534424, 2.405975341796875, 2.3893158435821533, 2.440533399581909, 2.5535824298858643, 2.57450270652771, 2.5203187465667725, 2.875626564025879, 2.4748311042785645, 2.748762369155884, 2.4819209575653076, 2.4668095111846924, 2.5512890815734863, 2.373638868331909, 2.537595510482788, 2.616560459136963, 2.515057325363159, 2.7028167247772217, 2.345857858657837, 2.8617472648620605, 2.5780560970306396, 2.6356639862060547, 2.3870792388916016, 2.428302764892578, 2.6135032176971436, 2.3875632286071777, 2.5500824451446533, 2.4048826694488525, 2.4720377922058105, 2.6919562816619873, 2.4929635524749756, 2.377117156982422, 2.6564629077911377, 2.835222005844116, 2.418787956237793, 2.4251813888549805, 2.4593021869659424, 2.5617101192474365, 2.739683151245117, 2.6250054836273193, 2.6928834915161133, 2.502530336380005, 2.5880579948425293, 2.696983814239502, 2.538388729095459, 2.50736403465271, 2.7757368087768555, 2.4663782119750977, 2.5833301544189453, 2.825572967529297, 2.4798085689544678, 2.621056079864502, 2.4988813400268555, 2.6205852031707764, 2.524190902709961, 2.7764692306518555, 2.572798728942871, 2.4915215969085693, 2.589312791824341, 2.8795597553253174, 2.5863442420959473, 2.572296142578125, 2.5989913940429688, 2.7887961864471436, 2.675253391265869, 2.936758518218994, 2.6253738403320312, 2.8245596885681152, 2.7588531970977783, 2.536065101623535, 2.598612070083618, 2.6902666091918945, 2.449451208114624, 2.536550760269165, 2.6367266178131104, 2.5613152980804443, 2.7490968704223633, 2.6656999588012695, 2.8294856548309326, 2.4702305793762207, 2.6293187141418457, 2.8696155548095703, 2.61566162109375, 2.606691837310791, 2.515568256378174, 2.8094265460968018, 2.707942247390747, 2.7737696170806885, 2.680737257003784, 2.6858394145965576, 2.777989149093628, 2.458998441696167, 2.7690680027008057, 2.6971840858459473, 2.720567464828491, 2.569023847579956, 2.573806047439575, 3.0118839740753174, 2.8116049766540527, 2.588245391845703, 2.7433369159698486, 2.743544101715088, 2.622349739074707, 2.592280864715576, 2.6472296714782715, 2.913334846496582, 2.7829513549804688, 2.6569020748138428, 2.6412513256073, 2.7859914302825928, 2.6677803993225098, 2.6876468658447266, 2.5056047439575195, 2.597846508026123, 2.6576664447784424, 2.7509050369262695, 2.8117311000823975, 2.6421635150909424, 2.7083563804626465, 2.6270382404327393, 2.646190643310547, 2.6306333541870117, 2.7185444831848145, 2.6920106410980225, 2.665496826171875, 2.524418592453003, 2.585653066635132, 2.5739433765411377, 2.731940746307373, 2.7997958660125732, 2.606295108795166, 2.635594367980957, 2.668889045715332, 2.5885565280914307, 2.5826191902160645, 2.7836499214172363, 2.642505645751953, 2.6544086933135986, 2.631854772567749, 2.750699281692505, 2.600198984146118, 2.5422542095184326, 2.6259169578552246, 2.6374623775482178, 2.7258527278900146, 2.696202278137207, 2.7368853092193604, 2.5888285636901855, 2.7925078868865967, 2.6664936542510986, 2.621436595916748, 2.6971230506896973, 2.6270172595977783, 2.542501926422119, 2.538710832595825, 2.6109402179718018, 2.5354294776916504, 2.5965070724487305, 2.5123281478881836, 2.7121262550354004, 2.7397303581237793, 2.642263650894165, 2.539031982421875, 2.7310867309570312, 2.739001512527466, 2.6374218463897705, 2.677067518234253, 2.87056827545166, 2.6830432415008545, 2.6922266483306885, 2.6323130130767822, 2.749025821685791, 2.7205936908721924, 2.631715774536133, 2.6673965454101562, 2.6729660034179688, 2.7193503379821777, 2.635910749435425, 2.8497564792633057, 2.8161396980285645, 2.710649251937866, 2.781546115875244, 2.675977945327759, 2.763028860092163, 2.6733956336975098, 2.623905658721924, 2.6112923622131348, 2.563953399658203, 2.6256771087646484, 2.6661715507507324, 2.9470863342285156, 2.8987510204315186, 2.707320213317871, 2.676201581954956, 2.8366496562957764, 2.805759906768799, 2.7073941230773926, 2.606517791748047, 2.520529270172119, 2.593707323074341, 2.940322160720825, 2.561896324157715, 2.6283698081970215, 2.7410106658935547, 2.8104827404022217, 2.5181124210357666, 2.6779205799102783, 2.8027989864349365, 2.677781105041504, 2.6618731021881104, 2.5384750366210938, 2.6935184001922607, 2.8264365196228027, 2.5976643562316895, 2.816798210144043, 2.9266538619995117, 2.5875234603881836, 2.6628804206848145, 2.5721371173858643, 2.7687318325042725, 2.8274848461151123, 2.7545626163482666, 2.5996170043945312, 2.7401607036590576, 2.612077474594116, 2.6416923999786377, 2.6320533752441406, 2.6352944374084473, 2.5446057319641113, 2.717115879058838, 2.7854623794555664, 2.759519100189209, 2.6709394454956055, 2.8440423011779785, 2.567331552505493, 2.6730802059173584, 2.8658804893493652, 2.755035400390625, 2.9165799617767334, 2.6874749660491943, 2.6812326908111572, 2.745102643966675, 2.7569169998168945, 2.6781818866729736, 2.805736780166626, 2.6108715534210205, 2.9167778491973877, 2.62905216217041, 2.705951690673828, 2.6489064693450928, 2.792586326599121, 2.741220712661743, 2.8058786392211914, 2.7599668502807617, 2.876002788543701, 2.8405206203460693, 2.654754400253296, 2.903564691543579, 2.684223175048828, 2.707247495651245, 2.6903064250946045, 2.5992586612701416, 2.7362403869628906, 2.693359136581421, 2.902836322784424, 2.73773193359375, 2.7503209114074707, 2.691044330596924, 2.8359036445617676, 2.715269088745117, 2.833463191986084, 2.822664737701416, 2.704265832901001, 2.7584807872772217, 2.827990770339966, 2.8758580684661865, 2.73618483543396, 2.7738287448883057, 2.635852813720703, 2.6325504779815674, 2.710512399673462, 2.6707823276519775, 2.7959630489349365, 2.9125170707702637, 2.66943097114563, 2.7777719497680664, 2.6389691829681396, 2.6259422302246094, 2.676748752593994, 2.7158074378967285, 2.8129920959472656, 2.728888511657715, 2.685208797454834, 2.6227729320526123, 2.609229564666748, 2.7206454277038574, 2.786238193511963, 2.627254009246826, 2.672075033187866, 2.64457106590271, 2.6409497261047363, 2.9451801776885986, 2.665799856185913, 2.6917905807495117, 2.5924720764160156]}\n"
          ],
          "name": "stdout"
        }
      ]
    },
    {
      "cell_type": "markdown",
      "metadata": {
        "id": "rmxY5TiJ1aNF"
      },
      "source": [
        "Plot the result"
      ]
    },
    {
      "cell_type": "code",
      "metadata": {
        "id": "KTs66ru21b2z"
      },
      "source": [
        "average_mae_history = [\n",
        "    np.mean([x[i] for x in all_mae_histories]) for i in range(num_epochs)]"
      ],
      "execution_count": null,
      "outputs": []
    },
    {
      "cell_type": "code",
      "metadata": {
        "id": "nkIANWRA2Evl",
        "colab": {
          "base_uri": "https://localhost:8080/",
          "height": 279
        },
        "outputId": "eafb6cae-174e-4b6b-e8d5-9c1bf3df7b0a"
      },
      "source": [
        "import matplotlib.pyplot as plt\n",
        "\n",
        "plt.clf()\n",
        "plt.plot(range(1, len(average_mae_history) + 1), average_mae_history)\n",
        "plt.xlabel('Epochs')\n",
        "plt.ylabel('Validation MAE')\n",
        "plt.show()"
      ],
      "execution_count": null,
      "outputs": [
        {
          "output_type": "display_data",
          "data": {
            "image/png": "[encoded data removed]",
            "text/plain": [
              "<Figure size 432x288 with 1 Axes>"
            ]
          },
          "metadata": {
            "tags": [],
            "needs_background": "light"
          }
        }
      ]
    },
    {
      "cell_type": "markdown",
      "metadata": {
        "id": "WylLqVwF3CLe"
      },
      "source": [
        "Smooting the curve and exlude irrevelent points, we get the following"
      ]
    },
    {
      "cell_type": "code",
      "metadata": {
        "id": "BA5_7iDq2G3l",
        "colab": {
          "base_uri": "https://localhost:8080/",
          "height": 279
        },
        "outputId": "c70d91a9-21f9-41b4-c9ea-2aad5472cde4"
      },
      "source": [
        "def smooth_curve(points, factor=0.9):\n",
        "  smoothed_points = []\n",
        "  for point in points:\n",
        "    if smoothed_points:\n",
        "      previous = smoothed_points[-1]\n",
        "      smoothed_points.append(previous * factor + point * (1 - factor))\n",
        "    else:\n",
        "      smoothed_points.append(point)\n",
        "  return smoothed_points\n",
        "\n",
        "smooth_mae_history = smooth_curve(average_mae_history[10:])\n",
        "\n",
        "plt.plot(range(1, len(smooth_mae_history) + 1), smooth_mae_history)\n",
        "plt.xlabel('Epochs')\n",
        "plt.ylabel('Validation MAE')\n",
        "plt.show()"
      ],
      "execution_count": null,
      "outputs": [
        {
          "output_type": "display_data",
          "data": {
            "image/png": "[encoded data removed]",
            "text/plain": [
              "<Figure size 432x288 with 1 Axes>"
            ]
          },
          "metadata": {
            "tags": [],
            "needs_background": "light"
          }
        }
      ]
    },
    {
      "cell_type": "markdown",
      "metadata": {
        "id": "NSa_r6kQ47cJ"
      },
      "source": [
        "We can thus build our new fresh model"
      ]
    },
    {
      "cell_type": "code",
      "metadata": {
        "id": "e6sLbxp44-qE",
        "colab": {
          "base_uri": "https://localhost:8080/"
        },
        "outputId": "95cde080-9504-477f-d4c8-feac748f868a"
      },
      "source": [
        "model = build_model()\n",
        "model.fit(train_data, train_targets,\n",
        "          epochs=80, batch_size=16, verbose=0)\n",
        "test_mse_score, test_mae_score = model.evaluate(test_data, test_targets)"
      ],
      "execution_count": null,
      "outputs": [
        {
          "output_type": "stream",
          "text": [
            "4/4 [==============================] - 0s 3ms/step - loss: 17.2889 - mae: 2.5956\n"
          ],
          "name": "stdout"
        }
      ]
    },
    {
      "cell_type": "code",
      "metadata": {
        "id": "KSlXyS4O5C5V",
        "colab": {
          "base_uri": "https://localhost:8080/"
        },
        "outputId": "bb384832-2668-4cb5-dd48-a2eb4f51cf1a"
      },
      "source": [
        "test_mae_score"
      ],
      "execution_count": null,
      "outputs": [
        {
          "output_type": "execute_result",
          "data": {
            "text/plain": [
              "2.5956013202667236"
            ]
          },
          "metadata": {
            "tags": []
          },
          "execution_count": 15
        }
      ]
    },
    {
      "cell_type": "markdown",
      "metadata": {
        "id": "SwVxO3kE8wQE"
      },
      "source": [
        "# Further tries"
      ]
    },
    {
      "cell_type": "markdown",
      "metadata": {
        "id": "EdLZ1mxF1FjA"
      },
      "source": [
        ""
      ]
    },
    {
      "cell_type": "code",
      "metadata": {
        "id": "HrJNlK3R1FRA"
      },
      "source": [
        ""
      ],
      "execution_count": null,
      "outputs": []
    }
  ]
}